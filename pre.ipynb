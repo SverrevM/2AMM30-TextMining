{
 "cells": [
  {
   "cell_type": "code",
   "execution_count": 1,
   "id": "ddbaa5c6",
   "metadata": {},
   "outputs": [],
   "source": [
    "import os\n",
    "import spacy\n",
    "import ftfy\n",
    "import string\n",
    "import json\n",
    "import re\n",
    "from os.path import isfile"
   ]
  },
  {
   "cell_type": "code",
   "execution_count": 10,
   "id": "f7642928",
   "metadata": {},
   "outputs": [],
   "source": [
    "path = \"./enwiki20220701-stripped/enwiki20220701-stripped/\"\n",
    "# NOTES ON EN CORE WEB SM -> python -m spacy download en_core_web_sm\n",
    "ner = spacy.load('en_core_web_sm', disable=['tagger', 'parser', 'attribute_ruler', 'lemmatizer'])\n",
    "nlp = spacy.load('en_core_web_sm') # for lemmatization and tokenization\n",
    "############################################################################### RUN ONLY ONCE ELSE ERRORS\n",
    "# merge entities when tokenizing text\n",
    "nlp.add_pipe(\"merge_entities\") \n",
    "contraction_map={\n",
    "    \"ain't\": \"is not\",\n",
    "    \"aren't\": \"are not\",\n",
    "    \"can't\": \"cannot\",\n",
    "    \"cause\": \"because\",\n",
    "    \"could've\": \"could have\",\n",
    "    \"couldn't\": \"could not\",\n",
    "    \"didn't\": \"did not\",\n",
    "    \"doesn't\": \"does not\",\n",
    "    \"don't\": \"do not\",\n",
    "    \"hadn't\": \"had not\",\n",
    "    \"hasn't\": \"has not\",\n",
    "    \"haven't\": \"have not\",\n",
    "    \"he'd\": \"he would\",\n",
    "    \"he'll\": \"he will\",\n",
    "    \"he's\": \"he is\",\n",
    "    \"how'd\": \"how did\",\n",
    "    \"how'll\": \"how will\",\n",
    "    \"how's\": \"how is\",\n",
    "    \"I'd\": \"I would\",\n",
    "    \"I'll\": \"I will\",\n",
    "    \"I'm\": \"I am\",\n",
    "    \"I've\": \"I have\",\n",
    "    \"i'd\": \"i would\",\n",
    "    \"i'll\": \"i will\",\n",
    "    \"i'm\": \"i am\",\n",
    "    \"i've\": \"i have\",\n",
    "    \"isn't\": \"is not\",\n",
    "    \"it'd\": \"it would\",\n",
    "    \"it'll\": \"it will\",\n",
    "    \"it's\": \"it is\",\n",
    "    \"let's\": \"let us\",\n",
    "    \"ma'am\": \"madam\",\n",
    "    \"mayn't\": \"may not\",\n",
    "    \"might've\": \"might have\",\n",
    "    \"mightn't\": \"might not\",\n",
    "    \"must've\": \"might have\",\n",
    "    \"mustn't\": \"must not\",\n",
    "    \"needn't\": \"need not\",\n",
    "    \"o'clock\": \"of the clock\",\n",
    "    \"oughtn't\": \"ought not\",\n",
    "    \"shan't\": \"shall not\",\n",
    "    \"shall'n't\": \"shall not\",\n",
    "    \"she'd\": \"she would\",\n",
    "    \"she'll\": \"she will\",\n",
    "    \"she's\": \"she is\",\n",
    "    \"should've\": \"should have\",\n",
    "    \"shouldn't\": \"should not\",\n",
    "    \"so've\": \"so have\",\n",
    "    \"so's\": \"so as\",\n",
    "    \"that'd\": \"that would\",\n",
    "    \"that's\": \"that is\",\n",
    "    \"there'd\": \"there would\",\n",
    "    \"there's\": \"there is\",\n",
    "    \"they'd\": \"they would\",\n",
    "    \"they'll\": \"they will\",\n",
    "    \"they're\": \"they are\",\n",
    "    \"they've\": \"they have\",\n",
    "    \"to've\": \"to have\",\n",
    "    \"wasn't\": \"was not\",\n",
    "    \"we'd\": \"we would\",\n",
    "    \"we'll\": \"we will\",\n",
    "    \"we're\": \"we are\",\n",
    "    \"weren't\": \"were not\",\n",
    "    \"what'll\": \"what will\",\n",
    "    \"what're\": \"what are\",\n",
    "    \"what's\": \"what is\",\n",
    "    \"what've\": \"what have\",\n",
    "    \"when's\": \"when is\",\n",
    "    \"when've\": \"when have\",\n",
    "    \"where'd\": \"where did\",\n",
    "    \"where's\": \"where is\",\n",
    "    \"where've\": \"where have\",\n",
    "    \"who'll\": \"who will\",\n",
    "    \"who's\": \"who is\",\n",
    "    \"who've\": \"who have\",\n",
    "    \"why's\": \"why is\",\n",
    "    \"why've\": \"why have\",\n",
    "    \"will've\": \"will have\",\n",
    "    \"won't\": \"will not\",\n",
    "    \"will't've\": \"will not have\",\n",
    "    \"would've\": \"would have\",\n",
    "    \"would't\": \"would not\",\n",
    "    \"y'all\": \"you all\",\n",
    "    \"y'all'd\": \"you all would\",\n",
    "    \"you'd\": \"you would\",\n",
    "    \"you'd've\": \"you would have\",\n",
    "    \"you'll\": \"you will\",\n",
    "    \"you'll've\": \"you will have\",\n",
    "    \"you're\": \"you are\",\n",
    "    \"you've\": \"you have\",\n",
    "}"
   ]
  },
  {
   "cell_type": "code",
   "execution_count": 3,
   "id": "1f18cca0",
   "metadata": {},
   "outputs": [],
   "source": [
    "def expand_contractions(sent, mapping):\n",
    "    #pattern for matching contraction with their expansions\n",
    "    pattern = re.compile('({})'.format('|'.join(mapping.keys())), flags=re.IGNORECASE|re.DOTALL)\n",
    "    \n",
    "    def expand_map(contraction):\n",
    "        #using group method to access subgroups of the match\n",
    "        match = contraction.group(0)\n",
    "        #to retain correct case of the word\n",
    "        first_char = match[0]\n",
    "        #find out the expansion\n",
    "        expansion = mapping.get(match) if mapping.get(match) else mapping.get(match.lower())\n",
    "        expansion = first_char + expansion[1:]\n",
    "        return expansion\n",
    "    \n",
    "    #using sub method to replace all contractions with their expansions for a sentence\n",
    "    #function expand_map will be called for every non overlapping occurence of the pattern\n",
    "    expand_sent = pattern.sub(expand_map, sent)\n",
    "    return expand_sent\n",
    "\n",
    "def preprocessing(path, pipeline):\n",
    "    file = open(path, 'r').readlines()\n",
    "    final_dictionary = dict()\n",
    "\n",
    "    for item in file:\n",
    "        fields = json.loads(item)\n",
    "        # get entity labels based on NER\n",
    "        title_entity_labels = [ent.label_ for ent in ner(fields[\"title\"]).ents]\n",
    "\n",
    "        # only keep texts that are not empty and filter on people (in title)\n",
    "        if  len(fields[\"text\"])>=1000 and len(fields[\"text\"]) <= 3000 and 'PERSON' in title_entity_labels:\n",
    "            # impute encodings\n",
    "            fields[\"text\"] = ftfy.fix_text(fields[\"text\"])\n",
    "            # get rid of \\xa0 - hard space or no-break space\n",
    "            fields[\"text\"] = fields[\"text\"].replace(u'\\xa0', u' ')\n",
    "            # expand contractions\n",
    "            fields[\"text\"] = expand_contractions(fields[\"text\"], contraction_map)\n",
    "\n",
    "            if pipeline == \"nltk\":\n",
    "                # remove punctuations\n",
    "                fields[\"text\"] = fields[\"text\"].translate(str.maketrans('', '', string.punctuation))\n",
    "                # OPT: lemmatize (for NLTK pipeline) \n",
    "                fields[\"text\"] = [w.lemma_ for w in nlp(fields[\"text\"])] # THIS CAUSES EXTRA WHITE SPACES AROUND SPECIAL CHARACTERS\n",
    "                fields[\"text\"] = \" \".join(fields[\"text\"])\n",
    "\n",
    "            # split article based on paragraphs into multiple entries in a new dictionary with their id: 1-1 (id=1, par=1) and so on. \n",
    "            custom_id = 1\n",
    "            text_split = fields[\"text\"].split('\\n')\n",
    "            for par in text_split:\n",
    "                # keep only paragraphs that have more than one word\n",
    "                if len(par.split(\" \")) > 1 and par != \" \":\n",
    "                    new_id = fields[\"id\"] + \"-\" + str(custom_id)\n",
    "                    final_dictionary[new_id] = par\n",
    "                    custom_id = int(custom_id) + 1 \n",
    "            \n",
    "    return final_dictionary   "
   ]
  },
  {
   "cell_type": "code",
   "execution_count": 4,
   "id": "e8c5918f",
   "metadata": {},
   "outputs": [],
   "source": [
    "\"\"\"\n",
    "        Function to apply preprocessing on a selection of files and store it in a separate folder\n",
    "        - path: root folder (enwiki20220701-stripped), \n",
    "        - subf desired subfolder: AA or AB, must be passed as a string (e.g. \"AA\") \n",
    "        - files in subfolder AA: wiki_00 up till wiki_99\n",
    "        - files in subfolder AB: wiki_00 up till wiki_68\n",
    "        - start: start number file, e.g. 0-99 (no need to fill in 00, 0 is fine)\n",
    "        - end: end number file, e.g. 0-99\n",
    "        - the range is inclusive which means, e.g. with (0, 0) you select & pre-process file wiki_00,\n",
    "        - with (32, 50) you select file wiki_32 up till wiki_50\n",
    "        - pipeline: pass \"nltk\" or \"rebel\" to indicate for which pipeline you would like to preprocess, diff. \n",
    "          in preprocessing is the lemmatization. \n",
    "\"\"\" \n",
    "def preprocess_multiple_files(path, subf, start, end, pipeline): # (str, str, int, int, str)\n",
    "    # if the folder preprocessed with its subfolders AA and AB resp. do not exist, create them\n",
    "    if not os.path.exists(\"preprocessed-{pipeline}/AA\".format(pipeline=pipeline)):\n",
    "        os.makedirs(\"preprocessed-{pipeline}/AA\".format(pipeline=pipeline))\n",
    "    if not os.path.exists(\"preprocessed-{pipeline}/AB\".format(pipeline=pipeline)):\n",
    "        os.makedirs(\"preprocessed-{pipeline}/AB\".format(pipeline=pipeline))\n",
    "\n",
    "    # from file start to end\n",
    "    for i in range(start, end+1):\n",
    "        # to match the filename wiki_00 up till wiki_09 we add a zero in front of the number from user input if necessary\n",
    "        if i < 10:\n",
    "            i = \"0\" + str(i)\n",
    "\n",
    "        # construct path to file name that falls within range\n",
    "        f = path + subf + \"/wiki_{}\".format(i) \n",
    "        # if file exists\n",
    "        if isfile(f):\n",
    "            # process it\n",
    "            p = preprocessing(f, pipeline)\n",
    "            # create a new file in the preprocessed folder, and put it into the concerning subfolder (AA or AB)\n",
    "            with open(\"preprocessed-{pipeline}/{subf}/p_{p}_wiki_{nr}\".format(subf=subf, nr=i, pipeline=pipeline, p=pipeline[0]), 'w', encoding='utf-8') as preprocessed_file:\n",
    "                preprocessed_file.write(json.dumps(p))\n",
    "            preprocessed_file.close()"
   ]
  },
  {
   "cell_type": "code",
   "execution_count": 11,
   "id": "6e6f001c",
   "metadata": {},
   "outputs": [],
   "source": [
    "preprocess_multiple_files(path, \"AA\", 0, 99, \"rebel\")"
   ]
  },
  {
   "cell_type": "code",
   "execution_count": null,
   "id": "8f6345a1",
   "metadata": {},
   "outputs": [],
   "source": []
  },
  {
   "cell_type": "markdown",
   "id": "dd98730a",
   "metadata": {},
   "source": [
    "TESTS"
   ]
  },
  {
   "cell_type": "code",
   "execution_count": 5,
   "id": "55762563",
   "metadata": {},
   "outputs": [
    {
     "ename": "FileNotFoundError",
     "evalue": "[Errno 2] No such file or directory: 'preprocessed-rebel/AA/p_r_wiki_00'",
     "output_type": "error",
     "traceback": [
      "\u001b[1;31m---------------------------------------------------------------------------\u001b[0m",
      "\u001b[1;31mFileNotFoundError\u001b[0m                         Traceback (most recent call last)",
      "\u001b[1;32mc:\\Users\\Sverre\\Documents\\UNI\\2amm30\\2AMM30-TextMining\\pre.ipynb Cell 8\u001b[0m in \u001b[0;36m<cell line: 2>\u001b[1;34m()\u001b[0m\n\u001b[0;32m      <a href='vscode-notebook-cell:/c%3A/Users/Sverre/Documents/UNI/2amm30/2AMM30-TextMining/pre.ipynb#X10sZmlsZQ%3D%3D?line=0'>1</a>\u001b[0m path \u001b[39m=\u001b[39m \u001b[39m\"\u001b[39m\u001b[39mpreprocessed-rebel/AA/p_r_wiki_00\u001b[39m\u001b[39m\"\u001b[39m\n\u001b[1;32m----> <a href='vscode-notebook-cell:/c%3A/Users/Sverre/Documents/UNI/2amm30/2AMM30-TextMining/pre.ipynb#X10sZmlsZQ%3D%3D?line=1'>2</a>\u001b[0m file \u001b[39m=\u001b[39m \u001b[39mopen\u001b[39;49m(path, \u001b[39m'\u001b[39;49m\u001b[39mr\u001b[39;49m\u001b[39m'\u001b[39;49m, encoding\u001b[39m=\u001b[39;49m\u001b[39m'\u001b[39;49m\u001b[39mutf-8\u001b[39;49m\u001b[39m'\u001b[39;49m)\n\u001b[0;32m      <a href='vscode-notebook-cell:/c%3A/Users/Sverre/Documents/UNI/2amm30/2AMM30-TextMining/pre.ipynb#X10sZmlsZQ%3D%3D?line=2'>3</a>\u001b[0m doc \u001b[39m=\u001b[39m json\u001b[39m.\u001b[39mload(file)\n",
      "\u001b[1;31mFileNotFoundError\u001b[0m: [Errno 2] No such file or directory: 'preprocessed-rebel/AA/p_r_wiki_00'"
     ]
    }
   ],
   "source": [
    "path = \"preprocessed-rebel/AA/p_r_wiki_00\"\n",
    "file = open(path, 'r', encoding='utf-8')\n",
    "doc = json.load(file)"
   ]
  },
  {
   "cell_type": "code",
   "execution_count": 54,
   "id": "1e195c55",
   "metadata": {},
   "outputs": [
    {
     "data": {
      "text/plain": [
       "802"
      ]
     },
     "execution_count": 54,
     "metadata": {},
     "output_type": "execute_result"
    }
   ],
   "source": [
    "len(doc)"
   ]
  },
  {
   "cell_type": "code",
   "execution_count": 30,
   "id": "4dd0d2f5",
   "metadata": {},
   "outputs": [
    {
     "data": {
      "text/plain": [
       "816"
      ]
     },
     "execution_count": 30,
     "metadata": {},
     "output_type": "execute_result"
    }
   ],
   "source": [
    "len(doc)"
   ]
  },
  {
   "cell_type": "code",
   "execution_count": 47,
   "id": "498b6e8b",
   "metadata": {},
   "outputs": [
    {
     "data": {
      "text/plain": [
       "['', 'k']"
      ]
     },
     "execution_count": 47,
     "metadata": {},
     "output_type": "execute_result"
    }
   ],
   "source": [
    "\" \".split(\" \")"
   ]
  },
  {
   "cell_type": "code",
   "execution_count": 56,
   "id": "fae3eb35",
   "metadata": {},
   "outputs": [
    {
     "name": "stdout",
     "output_type": "stream",
     "text": [
      "10418-3 Traditional narrative.\n",
      "10418-4 Before his ascension to the Chrysanthemum Throne, his personal name (his \"imina\") was Hatsusebe\"-shinnō\", also known as Hatsusebe no Waka-sazaki.\n",
      "10418-5 His name at birth was . He was the twelfth son of Emperor Kinmei. His mother was , a daughter of Soga no Iname, who was the chief, or Ōomi, of the Soga clan.\n"
     ]
    }
   ],
   "source": [
    "for i, (k,v) in enumerate(doc.items()):\n",
    "    if i == 615:\n",
    "        print(k, v)\n",
    "    if i == 616:\n",
    "        print(k, v)\n",
    "    if i == 617:\n",
    "        print(k, v)\n",
    "        break"
   ]
  },
  {
   "cell_type": "code",
   "execution_count": 23,
   "id": "9f3d491e",
   "metadata": {},
   "outputs": [
    {
     "data": {
      "text/plain": [
       "50349"
      ]
     },
     "execution_count": 23,
     "metadata": {},
     "output_type": "execute_result"
    }
   ],
   "source": [
    "len(doc)"
   ]
  }
 ],
 "metadata": {
  "kernelspec": {
   "display_name": "Python 3.10.6 64-bit (microsoft store)",
   "language": "python",
   "name": "python3"
  },
  "language_info": {
   "codemirror_mode": {
    "name": "ipython",
    "version": 3
   },
   "file_extension": ".py",
   "mimetype": "text/x-python",
   "name": "python",
   "nbconvert_exporter": "python",
   "pygments_lexer": "ipython3",
   "version": "3.10.8"
  },
  "vscode": {
   "interpreter": {
    "hash": "36a40502b4c58eaa666807b0a42297727925289edfd6f0a71d83ace7c9e35f56"
   }
  }
 },
 "nbformat": 4,
 "nbformat_minor": 5
}
