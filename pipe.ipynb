{
 "cells": [
  {
   "cell_type": "code",
   "execution_count": 5,
   "id": "348bcd1e",
   "metadata": {},
   "outputs": [],
   "source": [
    "import pandas as pd\n",
    "import csv\n",
    "import numpy as np\n",
    "import string\n",
    "import spacy\n",
    "import ftfy\n",
    "import contractions\n",
    "import json\n",
    "import nltk\n",
    "import re"
   ]
  },
  {
   "cell_type": "markdown",
   "id": "fc69146c",
   "metadata": {},
   "source": [
    "## Preprocess"
   ]
  },
  {
   "cell_type": "code",
   "execution_count": 48,
   "id": "61463fa1",
   "metadata": {},
   "outputs": [],
   "source": [
    "contraction_map={\n",
    "    \"ain't\": \"is not\",\n",
    "    \"aren't\": \"are not\",\n",
    "    \"can't\": \"cannot\",\n",
    "    \"cause\": \"because\",\n",
    "    \"could've\": \"could have\",\n",
    "    \"couldn't\": \"could not\",\n",
    "    \"didn't\": \"did not\",\n",
    "    \"doesn't\": \"does not\",\n",
    "    \"don't\": \"do not\",\n",
    "    \"hadn't\": \"had not\",\n",
    "    \"hasn't\": \"has not\",\n",
    "    \"haven't\": \"have not\",\n",
    "    \"he'd\": \"he would\",\n",
    "    \"he'll\": \"he will\",\n",
    "    \"he's\": \"he is\",\n",
    "    \"how'd\": \"how did\",\n",
    "    \"how'll\": \"how will\",\n",
    "    \"how's\": \"how is\",\n",
    "    \"I'd\": \"I would\",\n",
    "    \"I'll\": \"I will\",\n",
    "    \"I'm\": \"I am\",\n",
    "    \"I've\": \"I have\",\n",
    "    \"i'd\": \"i would\",\n",
    "    \"i'll\": \"i will\",\n",
    "    \"i'm\": \"i am\",\n",
    "    \"i've\": \"i have\",\n",
    "    \"isn't\": \"is not\",\n",
    "    \"it'd\": \"it would\",\n",
    "    \"it'll\": \"it will\",\n",
    "    \"it's\": \"it is\",\n",
    "    \"let's\": \"let us\",\n",
    "    \"ma'am\": \"madam\",\n",
    "    \"mayn't\": \"may not\",\n",
    "    \"might've\": \"might have\",\n",
    "    \"mightn't\": \"might not\",\n",
    "    \"must've\": \"might have\",\n",
    "    \"mustn't\": \"must not\",\n",
    "    \"needn't\": \"need not\",\n",
    "    \"o'clock\": \"of the clock\",\n",
    "    \"oughtn't\": \"ought not\",\n",
    "    \"shan't\": \"shall not\",\n",
    "    \"shall'n't\": \"shall not\",\n",
    "    \"she'd\": \"she would\",\n",
    "    \"she'll\": \"she will\",\n",
    "    \"she's\": \"she is\",\n",
    "    \"should've\": \"should have\",\n",
    "    \"shouldn't\": \"should not\",\n",
    "    \"so've\": \"so have\",\n",
    "    \"so's\": \"so as\",\n",
    "    \"that'd\": \"that would\",\n",
    "    \"that's\": \"that is\",\n",
    "    \"there'd\": \"there would\",\n",
    "    \"there's\": \"there is\",\n",
    "    \"they'd\": \"they would\",\n",
    "    \"they'll\": \"they will\",\n",
    "    \"they're\": \"they are\",\n",
    "    \"they've\": \"they have\",\n",
    "    \"to've\": \"to have\",\n",
    "    \"wasn't\": \"was not\",\n",
    "    \"we'd\": \"we would\",\n",
    "    \"we'll\": \"we will\",\n",
    "    \"we're\": \"we are\",\n",
    "    \"weren't\": \"were not\",\n",
    "    \"what'll\": \"what will\",\n",
    "    \"what're\": \"what are\",\n",
    "    \"what's\": \"what is\",\n",
    "    \"what've\": \"what have\",\n",
    "    \"when's\": \"when is\",\n",
    "    \"when've\": \"when have\",\n",
    "    \"where'd\": \"where did\",\n",
    "    \"where's\": \"where is\",\n",
    "    \"where've\": \"where have\",\n",
    "    \"who'll\": \"who will\",\n",
    "    \"who's\": \"who is\",\n",
    "    \"who've\": \"who have\",\n",
    "    \"why's\": \"why is\",\n",
    "    \"why've\": \"why have\",\n",
    "    \"will've\": \"will have\",\n",
    "    \"won't\": \"will not\",\n",
    "    \"will't've\": \"will not have\",\n",
    "    \"would've\": \"would have\",\n",
    "    \"would't\": \"would not\",\n",
    "    \"y'all\": \"you all\",\n",
    "    \"y'all'd\": \"you all would\",\n",
    "    \"you'd\": \"you would\",\n",
    "    \"you'd've\": \"you would have\",\n",
    "    \"you'll\": \"you will\",\n",
    "    \"you'll've\": \"you will have\",\n",
    "    \"you're\": \"you are\",\n",
    "    \"you've\": \"you have\",\n",
    "}\n",
    "\n",
    "def expand_contractions(sent, mapping):\n",
    "    #pattern for matching contraction with their expansions\n",
    "    pattern = re.compile('({})'.format('|'.join(mapping.keys())), flags=re.IGNORECASE|re.DOTALL)\n",
    "    \n",
    "    def expand_map(contraction):\n",
    "        #using group method to access subgroups of the match\n",
    "        match = contraction.group(0)\n",
    "        #to retain correct case of the word\n",
    "        first_char = match[0]\n",
    "        #find out the expansion\n",
    "        expansion = mapping.get(match) if mapping.get(match) else mapping.get(match.lower())\n",
    "        expansion = first_char + expansion[1:]\n",
    "        return expansion\n",
    "    \n",
    "    #using sub method to replace all contractions with their expansions for a sentence\n",
    "    #function expand_map will be called for every non overlapping occurence of the pattern\n",
    "    expand_sent = pattern.sub(expand_map, sent)\n",
    "    return expand_sent"
   ]
  },
  {
   "cell_type": "code",
   "execution_count": 49,
   "id": "f2b4b7ec",
   "metadata": {},
   "outputs": [],
   "source": [
    "def preprocess_data(datapath):\n",
    "    file = open(f\"{datapath}\", 'r')\n",
    "    texts = file.readlines()\n",
    "    dictionary = dict()\n",
    "    \n",
    "    for line in texts:\n",
    "        fields = json.loads(line)\n",
    "        # remove empty articles\n",
    "        if fields[\"text\"]:\n",
    "            text_data = fields[\"text\"]\n",
    "            # impute encodings\n",
    "            text_data = ftfy.fix_text(text_data)#.replace('\\n', ' ')\n",
    "            # expand contractions\n",
    "            text_data = expand_contractions(text_data, contraction_map)\n",
    "            # remove punctuations\n",
    "            text_data = text_data.translate(str.maketrans('', '', string.punctuation))\n",
    "\n",
    "            dictionary[fields[\"id\"]] = text_data\n",
    "    \n",
    "    return dictionary"
   ]
  },
  {
   "cell_type": "code",
   "execution_count": 50,
   "id": "ac6ae522",
   "metadata": {},
   "outputs": [],
   "source": [
    "d = preprocess_data(\"enwiki20220701-stripped/enwiki20220701-stripped/AA/wiki_00\")"
   ]
  },
  {
   "cell_type": "code",
   "execution_count": 51,
   "id": "ca54f647",
   "metadata": {},
   "outputs": [
    {
     "data": {
      "text/plain": [
       "'Anarchism is a political philosophy and movement that is skeptical of authority and rejects all involuntary coercive forms of hierarchy Anarchism calls for the abolition of the state which it holds to be unnecessary undesirable and harmful As a historically leftwing movement placed on the farthest left of the political spectrum it is usually described alongside communalism and libertarian Marxism as the libertarian wing libertarian socialism of the socialist movement and has a strong historical association with anticapitalism and socialism\\nHumans lived in societies without formal hierarchies long before the establishment of formal states realms or empires With the rise of organised hierarchical bodies scepticism toward authority also rose Although traces of anarchist thought are found throughout history modern anarchism emerged from the Enlightenment During the latter half of the 19th and the first decades of the 20th century the anarchist movement flourished in most parts of the world and had a significant role in workers struggles for emancipation Various anarchist schools of thought formed during this period Anarchists have taken part in several revolutions most notably in the Paris Commune the Russian Civil War and the Spanish Civil War whose end marked the end of the classical era of anarchism In the last decades of the 20th and into the 21st century the anarchist movement has been resurgent once more\\nAnarchism employs a diversity of tactics in order to meet its ideal ends which can be broadly separated into revolutionary and evolutionary tactics there is significant overlap between the two which are merely descriptive Revolutionary tactics aim to bring down authority and state having taken a violent turn in the past while evolutionary tactics aim to prefigure what an anarchist society would be like Anarchist thought criticism and praxis have played a part in diverse areas of human society\\nEtymology terminology and definition\\nThe etymological origin of anarchism is from the Ancient Greek anarkhia meaning without a ruler composed of the prefix an without and the word arkhos leader or ruler The suffix ism denotes the ideological current that favours anarchy Anarchism appears in English from 1642 as anarchisme and anarchy from 1539 early English usages emphasised a sense of disorder Various factions within the French Revolution labelled their opponents as anarchists although few such accused shared many views with later anarchists Many revolutionaries of the 19th century such as William Godwin 1756–1836 and Wilhelm Weitling 1808–1871 would contribute to the anarchist doctrines of the next generation but did not use anarchist or anarchism in describing themselves or their beliefs\\nThe first political philosopher to call himself an anarchist  was PierreJoseph Proudhon 1809–1865 marking the formal birth of anarchism in the mid19th century Since the 1890s and beginning in France libertarianism has often been used as a synonym for anarchism and its use as a synonym is still common outside the United States Some usages of libertarianism refer to individualistic freemarket philosophy only and freemarket anarchism in particular is termed libertarian anarchism\\nWhile the term libertarian has been largely synonymous with anarchism its meaning has more recently diluted with wider adoption from ideologically disparate groups including both the New Left and libertarian Marxists who do not associate themselves with authoritarian socialists or a vanguard party and extreme cultural liberals who are primarily concerned with civil liberties Additionally some anarchists use libertarian socialist to avoid anarchisms negative connotations and emphasise its connections with socialism Anarchism is broadly used to describe the antiauthoritarian wing of the socialist movement Anarchism is contrasted to socialist forms which are stateoriented or from above Scholars of anarchism generally highlight anarchisms socialist credentials and criticise attempts at creating dichotomies between the two Some scholars describe anarchism as having many influences from liberalism and being both liberals and socialists but more so while most scholars reject anarchocapitalism as a misunderstanding of anarchist principles\\nWhile opposition to the state is central to anarchist thought defining anarchism is not an easy task for scholars as there is a lot of discussion among scholars and anarchists on the matter and various currents perceive anarchism slightly differently Major definitional elements include the will for a noncoercive society the rejection of the state apparatus the belief that human nature allows humans to exist in or progress toward such a noncoercive society and a suggestion on how to act to pursue the ideal of anarchy\\nHistory\\nPremodern era\\nBefore the establishment of towns and cities an established authority did not exist It was after the creation of institutions of authority that anarchistic ideas espoused as a reaction The most notable precursors to anarchism in the ancient world were in China and Greece In China philosophical anarchism the discussion on the legitimacy of the state was delineated by Taoist philosophers Zhuang Zhou and Laozi Alongside Stoicism Taoism has been said to have had significant anticipations of anarchism\\nAnarchic attitudes were also articulated by tragedians and philosophers in Greece Aeschylus and Sophocles used the myth of Antigone to illustrate the conflict between rules set by the state and personal autonomy Socrates questioned Athenian authorities constantly and insisted on the right of individual freedom of conscience Cynics dismissed human law nomos and associated authorities while trying to live according to nature physis Stoics were supportive of a society based on unofficial and friendly relations among its citizens without the presence of a state\\nIn medieval Europe there was no anarchistic activity except some ascetic religious movements These and other Muslim movements later gave birth to religious anarchism In the Sasanian Empire Mazdak called for an egalitarian society and the abolition of monarchy only to be soon executed by Emperor Kavad I\\nIn Basra religious sects preached against the state In Europe various sects developed antistate and libertarian tendencies Renewed interest in antiquity during the Renaissance and in private judgment during the Reformation restored elements of antiauthoritarian secularism particularly in France Enlightenment challenges to intellectual authority secular and religious and the revolutions of the 1790s and 1848 all spurred the ideological development of what became the era of classical anarchism\\nModern era\\nDuring the French Revolution partisan groups such as the Enragés and the saw a turning point in the fermentation of antistate and federalist sentiments The first anarchist currents developed throughout the 18th century as William Godwin espoused philosophical anarchism in England morally delegitimising the state Max Stirners thinking paved the way to individualism and PierreJoseph Proudhons theory of mutualism found fertile soil in France By the late 1870s various anarchist schools of thought had become welldefined and a wave of then unprecedented globalisation occurred from 1880 to 1914 This era of classical anarchism lasted until the end of the Spanish Civil War and is considered the golden age of anarchism\\nDrawing from mutualism Mikhail Bakunin founded collectivist anarchism and entered the International Workingmens Association a class worker union later known as the First International that formed in 1864 to unite diverse revolutionary currents The International became a significant political force with Karl Marx being a leading figure and a member of its General Council Bakunins faction the Jura Federation and Proudhons followers the mutualists opposed state socialism advocating political abstentionism and small property holdings After bitter disputes the Bakuninists were expelled from the International by the Marxists at the 1872 Hague Congress Anarchists were treated similarly in the Second International being ultimately expelled in 1896 Bakunin famously predicted that if revolutionaries gained power by Marxs terms they would end up the new tyrants of workers In response to their expulsion from the First International anarchists formed the St Imier International Under the influence of Peter Kropotkin a Russian philosopher and scientist anarchocommunism overlapped with collectivism Anarchocommunists who drew inspiration from the 1871 Paris Commune advocated for free federation and for the distribution of goods according to ones needs\\nAt the turn of the century anarchism had spread all over the world It was a notable feature of the international syndicalism movement In China small groups of students imported the humanistic proscience version of anarchocommunism Tokyo was a hotspot for rebellious youth from countries of the far east travelling to the Japanese capital to study In Latin America Argentina was a stronghold for anarchosyndicalism where it became the most prominent leftwing ideology During this time a minority of anarchists adopted tactics of revolutionary political violence This strategy became known as propaganda of the deed The dismemberment of the French socialist movement into many groups and the execution and exile of many Communards to penal colonies following the suppression of the Paris Commune favoured individualist political expression and acts Even though many anarchists distanced themselves from these terrorist acts infamy came upon the movement and attempts were made to exclude them from American immigration including the Immigration Act of 1903 also called the Anarchist Exclusion Act Illegalism was another strategy which some anarchists adopted during this period\\nDespite concerns anarchists enthusiastically participated in the Russian Revolution in opposition to the White movement however they met harsh suppression after the Bolshevik government was stabilised Several anarchists from Petrograd and Moscow fled to Ukraine notably leading to the Kronstadt rebellion and Nestor Makhnos struggle in the Free Territory With the anarchists being crushed in Russia two new antithetical currents emerged namely platformism and synthesis anarchism The former sought to create a coherent group that would push for revolution while the latter were against anything that would resemble a political party Seeing the victories of the Bolsheviks in the October Revolution and the resulting Russian Civil War many workers and activists turned to communist parties which grew at the expense of anarchism and other socialist movements In France and the United States members of major syndicalist movements such as the General Confederation of Labour and the Industrial Workers of the World left their organisations and joined the Communist International\\nIn the Spanish Civil War of 1936 anarchists and syndicalists CNT and FAI once again allied themselves with various currents of leftists A long tradition of Spanish anarchism led to anarchists playing a pivotal role in the war In response to the army rebellion an anarchistinspired movement of peasants and workers supported by armed militias took control of Barcelona and of large areas of rural Spain where they collectivised the land The Soviet Union provided some limited assistance at the beginning of the war but the result was a bitter fight among communists and anarchists at a series of events named May Days as Joseph Stalin tried to seize control of the Republicans\\nPostwar era\\nAt the end of World War II the anarchist movement was severely weakened The 1960s witnessed a revival of anarchism likely cecaused by a perceived failure of Marxism–Leninism and tensions built by the Cold War During this time anarchism found a presence in other movements critical towards both capitalism and the state such as the antinuclear environmental and peace movements the counterculture of the 1960s and the New Left It also saw a transition from its previous revolutionary nature to provocative anticapitalist reformism Anarchism became associated with punk subculture as exemplified by bands such as Crass and the Sex Pistols The established feminist tendencies of anarchafeminism returned with vigour during the second wave of feminism Black anarchism began to take form at this time and influenced anarchisms move from a Eurocentric demographic This coincided with its failure to gain traction in Northern Europe and its unprecedented height in Latin America\\nAround the turn of the 21st century anarchism grew in popularity and influence within anticapitalist antiwar and antiglobalisation movements Anarchists became known for their involvement in protests against the World Trade Organization WTO the Group of Eight and the World Economic Forum During the protests ad hoc leaderless anonymous cadres known as black blocs engaged in rioting property destruction and violent confrontations with the police Other organisational tactics pioneered in this time include affinity groups security culture and the use of decentralised technologies such as the Internet A significant event of this period was the confrontations at the 1999 Seattle WTO conference Anarchist ideas have been influential in the development of the Zapatistas in Mexico and the Democratic Federation of Northern Syria more commonly known as Rojava a de facto autonomous region in northern Syria\\nThought\\nAnarchist schools of thought have been generally grouped into two main historical traditions social anarchism and individualist anarchism owing to their different origins values and evolution The individualist current emphasises negative liberty in opposing restraints upon the free individual while the social current emphasises positive liberty in aiming to achieve the free potential of society through equality and social ownership In a chronological sense anarchism can be segmented by the classical currents of the late 19th century and the postclassical currents anarchafeminism green anarchism and postanarchism developed thereafter\\nBeyond the specific factions of anarchist movements which constitute political anarchism lies philosophical anarchism which holds that the state lacks moral legitimacy without necessarily accepting the imperative of revolution to eliminate it A component especially of individualist anarchism philosophical anarchism may tolerate the existence of a minimal state but claims that citizens have no moral obligation to obey government when it conflicts with individual autonomy Anarchism pays significant attention to moral arguments since ethics have a central role in anarchist philosophy Anarchisms emphasis on anticapitalism egalitarianism and for the extension of community and individuality sets it apart from anarchocapitalism and other types of economic libertarianism\\nAnarchism is usually placed on the farleft of the political spectrum Much of its economics and legal philosophy reflect antiauthoritarian antistatist libertarian and radical interpretations of leftwing and socialist politics such as collectivism communism individualism mutualism and syndicalism among other libertarian socialist economic theories As anarchism does not offer a fixed body of doctrine from a single particular worldview many anarchist types and traditions exist and varieties of anarchy diverge widely One reaction against sectarianism within the anarchist milieu was anarchism without adjectives a call for toleration and unity among anarchists first adopted by Fernando Tarrida del Mármol in 1889 in response to the bitter debates of anarchist theory at the time Belief in political nihilism has been espoused by anarchists Despite separation the various anarchist schools of thought are not seen as distinct entities but rather as tendencies that intermingle and are connected through a set of uniform principles such as individual and local autonomy mutual aid network organisation communal democracy justified authority and decentralisation\\nClassical\\nInceptive currents among classical anarchist currents were mutualism and individualism They were followed by the major currents of social anarchism collectivist communist and syndicalist They differ on organisational and economic aspects of their ideal society\\nMutualism is an 18thcentury economic theory that was developed into anarchist theory by PierreJoseph Proudhon Its aims include reciprocity free association voluntary contract federation and monetary reform of both credit and currency that would be regulated by a bank of the people Mutualism has been retrospectively characterised as ideologically situated between individualist and collectivist forms of anarchism In What Is Property 1840 Proudhon first characterised his goal as a third form of society the synthesis of communism and property Collectivist anarchism is a revolutionary socialist form of anarchism commonly associated with Mikhail Bakunin Collectivist anarchists advocate collective ownership of the means of production which is theorised to be achieved through violent revolution and that workers be paid according to time worked rather than goods being distributed according to need as in communism Collectivist anarchism arose alongside Marxism but rejected the dictatorship of the proletariat despite the stated Marxist goal of a collectivist stateless society\\nAnarchocommunism is a theory of anarchism that advocates a communist society with common ownership of the means of production direct democracy and a horizontal network of voluntary associations workers councils and worker cooperatives with production and consumption based on the guiding principle From each according to his ability to each according to his need Anarchocommunism developed from radical socialist currents after the French Revolution but was first formulated as such in the Italian section of the First International It was later expanded upon in the theoretical work of Peter Kropotkin whose specific style would go onto become the dominating view of anarchists by the late 19th century Anarchosyndicalism is a branch of anarchism that views labour syndicates as a potential force for revolutionary social change replacing capitalism and the state with a new society democratically selfmanaged by workers The basic principles of anarchosyndicalism are direct action workers solidarity and workers selfmanagement\\nIndividualist anarchism is a set of several traditions of thought within the anarchist movement that emphasise the individual and their will over any kinds of external determinants Early influences on individualist forms of anarchism include William Godwin Max Stirner and Henry David Thoreau Through many countries individualist anarchism attracted a small yet diverse following of Bohemian artists and intellectuals as well as young anarchist outlaws in what became known as illegalism and individual reclamation\\nPostclassical and contemporary\\nAnarchist principles undergird contemporary radical social movements of the left Interest in the anarchist movement developed alongside momentum in the antiglobalisation movement whose leading activist networks were anarchist in orientation As the movement shaped 21st century radicalism wider embrace of anarchist principles signaled a revival of interest Anarchism has continued to generate many philosophies and movements at times eclectic drawing upon various sources and combining disparate concepts to create new philosophical approaches The anticapitalist tradition of classical anarchism has remained prominent within contemporary currents\\nContemporary news coverage which emphasizes black bloc demonstrations has reinforced anarchisms historical association with chaos and violence Its publicity has also led more scholars in fields such as anthropology and history to engage with the anarchist movement although contemporary anarchism favours actions over academic theory Various anarchist groups tendencies and schools of thought exist today making it difficult to describe the contemporary anarchist movement While theorists and activists have established relatively stable constellations of anarchist principles there is no consensus on which principles are core and commentators describe multiple anarchisms rather than a singular anarchism in which common principles are shared between schools of anarchism while each group prioritizes those principles differently Gender equality can be a common principle although it ranks as a higher priority to anarchafeminists than anarchocommunists\\nAnarchists are generally committed against coercive authority in all forms namely all centralized and hierarchical forms of government eg monarchy representative democracy state socialism etc economic class systems eg capitalism Bolshevism feudalism slavery etc autocratic religions eg fundamentalist Islam Roman Catholicism etc patriarchy heterosexism white supremacy and imperialism Anarchist schools disagree on the methods by which these forms should be opposed The principle of equal liberty is closer to anarchist political ethics in that it transcends both the liberal and socialist traditions This entails that liberty and equality cannot be implemented within the state resulting in the questioning of all forms of domination and hierarchy\\nTactics\\nAnarchists tactics take various forms but in general serve two major goals namely to first oppose the Establishment and secondly to promote anarchist ethics and reflect an anarchist vision of society illustrating the unity of means and ends A broad categorisation can be made between aims to destroy oppressive states and institutions by revolutionary means on one hand and aims to change society through evolutionary means on the other Evolutionary tactics embrace nonviolence reject violence and take a gradual approach to anarchist aims although there is significant overlap between the two\\nAnarchist tactics have shifted during the course of the last century Anarchists during the early 20th century focused more on strikes and militancy while contemporary anarchists use a broader array of approaches\\nClassical era\\nDuring the classical era anarchists had a militant tendency Not only did they confront state armed forces as in Spain and Ukraine but some of them also employed terrorism as propaganda of the deed Assassination attempts were carried out against heads of state some of which were successful Anarchists also took part in revolutions Many anarchists especially the Galleanists believed that these attempts would be the impetus for a revolution against capitalism and the state Many of these attacks were done by individual assailants and the majority took place in the late 1870s the early 1880s and the 1890s with some still occurring in the early 1900s Their decrease in prevalence was the result of further judicial power and targeting and cataloging by state institutions\\nAnarchist perspectives towards violence have always been controversial Anarchopacifists advocate for nonviolence means to achieve their stateless nonviolent ends Other anarchist groups advocate direct action a tactic which can include acts of sabotage or terrorism This attitude was quite prominent a century ago when seeing the state as a tyrant and some anarchists believing that they had every right to oppose its oppression by any means possible Emma Goldman and Errico Malatesta who were proponents of limited use of violence stated that violence is merely a reaction to state violence as a necessary evil\\nAnarchists took an active role in strike actions although they tended to be antipathetic to formal syndicalism seeing it as reformist They saw it as a part of the movement which sought to overthrow the state and capitalism Anarchists also reinforced their propaganda within the arts some of whom practiced naturism and nudism Those anarchists also built communities which were based on friendship and were involved in the news media\\nRevolutionary\\nIn the current era Italian anarchist Alfredo Bonanno a proponent of insurrectionary anarchism has reinstated the debate on violence by rejecting the nonviolence tactic adopted since the late 19th century by Kropotkin and other prominent anarchists afterwards Both Bonanno and the French group The Invisible Committee advocate for small informal affiliation groups where each member is responsible for their own actions but works together to bring down oppression utilizing sabotage and other violent means against state capitalism and other enemies Members of The Invisible Committee were arrested in 2008 on various charges terrorism included\\nOverall contemporary anarchists are much less violent and militant than their ideological ancestors They mostly engage in confronting the police during demonstrations and riots especially in countries such as Canada Greece and Mexico Militant black bloc protest groups are known for clashing with the police however anarchists not only clash with state operators they also engage in the struggle against fascists and racists taking antifascist action and mobilizing to prevent hate rallies from happening\\nEvolutionary\\nAnarchists commonly employ direct action This can take the form of disrupting and protesting against unjust hierarchy or the form of selfmanaging their lives through the creation of counterinstitutions such as communes and nonhierarchical collectives Decisionmaking is often handled in an antiauthoritarian way with everyone having equal say in each decision an approach known as horizontalism Contemporaryera anarchists have been engaging with various grassroots movements that are more or less based on horizontalism although not explicitly anarchist respecting personal autonomy and participating in mass activism such as strikes and demonstrations In contrast with the bigA anarchism of the classical era the newly coined term smalla anarchism signals their tendency not to base their thoughts and actions on classicalera anarchism or to refer to classical anarchists such as Peter Kropotkin and PierreJoseph Proudhon to justify their opinions Those anarchists would rather base their thought and praxis on their own experience which they will later theorize\\nThe decisionmaking process of small anarchist affinity groups plays a significant tactical role Anarchists have employed various methods in order to build a rough consensus among members of their group without the need of a leader or a leading group One way is for an individual from the group to play the role of facilitator to help achieve a consensus without taking part in the discussion themselves or promoting a specific point Minorities usually accept rough consensus except when they feel the proposal contradicts anarchist ethics goals and values Anarchists usually form small groups 5–20 individuals to enhance autonomy and friendships among their members These kinds of groups more often than not interconnect with each other forming larger networks Anarchists still support and participate in strikes especially wildcat strikes as these are leaderless strikes not organised centrally by a syndicate\\nAs in the past newspapers and journals are used and anarchists have gone online in the World Wide Web to spread their message Anarchists have found it easier to create websites bececause of distributional and other difficulties hosting electronic libraries and other portals Anarchists were also involved in developing various software that are available for free The way these hacktivists work to develop and distribute resembles the anarchist ideals especially when it comes to preserving users privacy from state surveillance\\nAnarchists organize themselves to squat and reclaim public spaces During important events such as protests and when spaces are being occupied they are often called Temporary Autonomous Zones TAZ spaces where art poetry and surrealism are blended to display the anarchist ideal As seen by anarchists squatting is a way to regain urban space from the capitalist market serving pragmatical needs and also being an exemplary direct action Acquiring space enables anarchists to experiment with their ideas and build social bonds Adding up these tactics while having in mind that not all anarchists share the same attitudes towards them along with various forms of protesting at highly symbolic events make up a carnivalesque atmosphere that is part of contemporary anarchist vividity\\nKey issues\\nAs anarchism is a philosophy that embodies many diverse attitudes tendencies and schools of thought disagreement over questions of values ideology and tactics is common Its diversity has led to widely different uses of identical terms among different anarchist traditions which has created a number of definitional concerns in anarchist theory The compatibility of capitalism nationalism and religion with anarchism is widely disputed and anarchism enjoys complex relationships with ideologies such as communism collectivism Marxism and trade unionism Anarchists may be motivated by humanism divine authority enlightened selfinterest veganism or any number of alternative ethical doctrines Phenomena such as civilisation technology eg within anarchoprimitivism and the democratic process may be sharply criticised within some anarchist tendencies and simultaneously lauded in others\\nGender sexuality and free love\\nAs gender and sexuality carry along them dynamics of hierarchy many anarchists address analyse and oppose the suppression of ones autonomy imposed by gender roles\\nSexuality was not often discussed by classical anarchists but the few that did felt that an anarchist society would lead to sexuality naturally developing Sexual violence was a concern for anarchists such as Benjamin Tucker who opposed age of consent laws believing they would benefit predatory men A historical current that arose and flourished during 1890 and 1920 within anarchism was free love In contemporary anarchism this current survives as a tendency to support polyamory and queer anarchism Free love advocates were against marriage which they saw as a way of men imposing authority over women largely bececause marriage law greatly favoured the power of men The notion of free love was much broader and included a critique of the established order that limited womens sexual freedom and pleasure Those free love movements contributed to the establishment of communal houses where large groups of travelers anarchists and other activists slept in beds together Free love had roots both in Europe and the United States however some anarchists struggled with the jealousy that arose from free love Anarchist feminists were advocates of free love against marriage and prochoice utilising a contemporary term and had a similar agenda Anarchist and nonanarchist feminists differed on suffrage but were supportive of one another\\nDuring the second half of the 20th century anarchism intermingled with the second wave of feminism radicalising some currents of the feminist movement and being influenced as well By the latest decades of the 20th century anarchists and feminists were advocating for the rights and autonomy of women gays queers and other marginalised groups with some feminist thinkers suggesting a fusion of the two currents With the third wave of feminism sexual identity and compulsory heterosexuality became a subject of study for anarchists yielding a poststructuralist critique of sexual normality Some anarchists distanced themselves from this line of thinking suggesting that it leaned towards an individualism that was dropping the cecause of social liberation\\nEducation\\nThe interest of anarchists in education stretches back to the first emergence of classical anarchism Anarchists consider proper education one which sets the foundations of the future autonomy of the individual and the society to be an act of mutual aid Anarchist writers such as William Godwin Political Justice and Max Stirner The False Principle of Our Education attacked both state education and private education as another means by which the ruling class replicate their privileges\\nIn 1901 Catalan anarchist and free thinker Francisco Ferrer established the Escuela Moderna in Barcelona as an opposition to the established education system which was dictated largely by the Catholic Church Ferrers approach was secular rejecting both state and church involvement in the educational process whilst giving pupils large amounts of autonomy in planning their work and attendance Ferrer aimed to educate the working class and explicitly sought to foster class consciousness among students The school closed after constant harassment by the state and Ferrer was later arrested Nonetheless his ideas formed the inspiration for a series of modern schools around the world Christian anarchist Leo Tolstoy who published the essay Education and Culture also established a similar school with its founding principle being that for education to be effective it had to be free In a similar token A S Neill founded what became the Summerhill School in 1921 also declaring being free from coercion\\nAnarchist education is based largely on the idea that a childs right to develop freely and without manipulation ought to be respected and that rationality would lead children to morally good conclusions however there has been little consensus among anarchist figures as to what constitutes manipulation Ferrer believed that moral indoctrination was necessary and explicitly taught pupils that equality liberty and social justice were not possible under capitalism along with other critiques of government and nationalism\\nLate 20th century and contemporary anarchist writers Paul Goodman Herbert Read and Colin Ward intensified and expanded the anarchist critique of state education largely focusing on the need for a system that focuses on childrens creativity rather than on their ability to attain a career or participate in consumerism as part of a consumer society Contemporary anarchists such as Ward claim that state education serves to perpetuate socioeconomic inequality\\nWhile few anarchist education institutions have survived to the modernday major tenets of anarchist schools among them respect for child autonomy and relying on reasoning rather than indoctrination as a teaching method have spread among mainstream educational institutions Judith Suissa names three schools as explicitly anarchists schools namely the Free Skool Santa Cruz in the United States which is part of a wider AmericanCanadian network of schools the SelfManaged Learning College in Brighton England and the Paideia School in Spain\\nThe state\\nObjection to the state and its institutions is a sine qua non of anarchism Anarchists consider the state as a tool of domination and believe it to be illegitimate regardless of its political tendencies Instead of people being able to control the aspects of their life major decisions are taken by a small elite Authority ultimately rests solely on power regardless of whether that power is open or transparent as it still has the ability to coerce people Another anarchist argument against states is that the people constituting a government even the most altruistic among officials will unavoidably seek to gain more power leading to corruption Anarchists consider the idea that the state is the collective will of the people to be an unachievable fiction due to the fact that the ruling class is distinct from the rest of society\\nSpecific anarchist attitudes towards the state vary Robert Paul Wolff believed that the tension between authority and autonomy would mean the state could never be legitimate Bakunin saw the state as meaning coercion domination by means of coercion camouflaged if possible but unceremonious and overt if need be A John Simmons and Leslie Green who leaned toward philosophical anarchism believed that the state could be legitimate if it is governed by consensus although they saw this as highly unlikely Beliefs on how to abolish the state also differ\\nThe arts\\nThe connection between anarchism and art was quite profound during the classical era of anarchism especially among artistic currents that were developing during that era such as futurists surrealists and others In literature anarchism was mostly associated with the New Apocalyptics and the neoromanticism movement In music anarchism has been associated with music scenes such as punk Anarchists such as Leo Tolstoy and Herbert Read stated that the border between the artist and the nonartist what separates art from a daily act is a construct produced by the alienation cecaused by capitalism and it prevents humans from living a joyful life\\nOther anarchists advocated for or used art as a means to achieve anarchist ends In his book Breaking the Spell A History of Anarchist Filmmakers Videotape Guerrillas and Digital Ninjas Chris Robé claims that anarchistinflected practices have increasingly structured movementbased video activism Throughout the 20th century many prominent anarchists Peter Kropotkin Emma Goldman Gustav Landauer and Camillo Berneri and publications such as Anarchy wrote about matters pertaining to the arts\\nThree overlapping properties made art useful to anarchists It could depict a critique of existing society and hierarchies serve as a prefigurative tool to reflect the anarchist ideal society and even turn into a means of direct action such as in protests As it appeals to both emotion and reason art could appeal to the whole human and have a powerful effect The 19thcentury neoimpressionist movement had an ecological aesthetic and offered an example of an anarchist perception of the road towards socialism In Les chataigniers a Osny by anarchist painter Camille Pissarro the blending of aesthetic and social harmony is prefiguring an ideal anarchistic agrarian community\\nAnalysis\\nThe most common critique of anarchism is that humans cannot selfgovern and so a state is necessary for human survival Philosopher Bertrand Russell supported this critique stating that peace and war tariffs regulations of sanitary conditions and the sale of noxious drugs the preservation of a just system of distribution these among others are functions which could hardly be performed in a community in which there was no central government Another common criticism of anarchism is that it fits a world of isolation in which only the small enough entities can be selfgoverning a response would be that major anarchist thinkers advocated anarchist federalism\\nPhilosophy lecturer Andrew G Fiala composed a list of common arguments against anarchism which includes critiques such as that anarchism is innately related to violence and destruction not only in the pragmatic world such as at protests but in the world of ethics as well Secondly anarchism is evaluated as unfeasible or utopian since the state cannot be defeated practically This line of arguments most often calls for political action within the system to reform it The third argument is that anarchism is selfcontradictory While it advocates for noone to archiei if accepted by the many then anarchism would turn into the ruling political theory In this line of criticism also comes the selfcontradiction that anarchism calls for collective action whilst endorsing the autonomy of the individual hence no collective action can be taken Lastly Fiala mentions a critique towards philosophical anarchism of being ineffective all talk and thoughts and in the meantime capitalism and bourgeois class remains strong\\nPhilosophical anarchism has met the criticism of members of academia following the release of proanarchist books such as A John Simmons Moral Principles and Political Obligations Law professor William A Edmundson authored an essay to argue against three major philosophical anarchist principles which he finds fallacious Edmundson says that while the individual does not owe the state a duty of obedience this does not imply that anarchism is the inevitable conclusion and the state is still morally legitimate In The Problem of Political Authority Michael Huemer defends philosophical anarchism claiming that political authority is a moral illusion\\nOne of the earliest criticisms is that anarchism defies and fails to understand the biological inclination to authority Joseph Raz states that the acceptance of authority implies the belief that following their instructions will afford more success Raz believes that this argument is true in following both authorities successful and mistaken instruction Anarchists reject this criticism bececause challenging or disobeying authority does not entail the disappearance of its advantages by acknowledging authority such as doctors or lawyers as reliable nor does it involve a complete surrender of independent judgment Anarchist perception of human nature rejection of the state and commitment to social revolution has been criticised by academics as naive overly simplistic and unrealistic respectively Classical anarchism has been criticised for relying too heavily on the belief that the abolition of the state will lead to human cooperation prospering\\nFriedrich Engels considered to be one of the principal founders of Marxism criticised anarchisms antiauthoritarianism as inherently counterrevolutionary bececause in his view a revolution is by itself authoritarian Academic John Molyneux writes in his book Anarchism A Marxist Criticism that anarchism cannot win believing that it lacks the ability to properly implement its ideas The Marxist criticism of anarchism is that it has a utopian character bececause all individuals should have anarchist views and values According to the Marxist view that a social idea would follow directly from this human ideal and out of the free will of every individual formed its essence Marxists state that this contradiction was responsible for their inability to act In the anarchist vision the conflict between liberty and equality was resolved through coexistence and intertwining'"
      ]
     },
     "execution_count": 51,
     "metadata": {},
     "output_type": "execute_result"
    }
   ],
   "source": [
    "d['12']"
   ]
  },
  {
   "cell_type": "code",
   "execution_count": 6,
   "id": "c97eeb0b",
   "metadata": {},
   "outputs": [],
   "source": [
    "# # very slow\n",
    "# # lemmatization: use only tagger to speed up\n",
    "# nlp = spacy.load(\"en_core_web_sm\",  disable=[\"parser\", \"ner\"])\n",
    "\n",
    "# for key in d:\n",
    "#     doc = nlp(d[key])\n",
    "#     text_data = ' '.join([token.lemma_ for token in doc])\n",
    "#     d[key] = text_data\n",
    "\n",
    "# # ALSO SLOW:\n",
    "\n",
    "# from nltk.stem import WordNetLemmatizer\n",
    "# wn_lemmatizer = WordNetLemmatizer()\n",
    "\n",
    "# for key in d:\n",
    "#     text_data = d[key]\n",
    "#     d[key] = \" \".join([wn_lemmatizer.lemmatize(w) for w in text_data])"
   ]
  },
  {
   "cell_type": "code",
   "execution_count": 12,
   "id": "4f527d60",
   "metadata": {},
   "outputs": [],
   "source": [
    "import pickle\n",
    "\n",
    "filename = 'wiki_00'\n",
    "#C:/Users/Sverre/Documents/UNI/2amm30/2AMM30-TextMining\n",
    "rootpath = \"C:/Users/t1rk9/Desktop/2AMM30\"\n",
    "\n",
    "file_string = f\"{rootpath}/preprocessed_file_{filename}\"\n",
    "with open(file_string, 'wb') as f:\n",
    "    pickle.dump(d, f, pickle.HIGHEST_PROTOCOL)"
   ]
  },
  {
   "cell_type": "markdown",
   "id": "95ed4486",
   "metadata": {},
   "source": [
    "## REBEL"
   ]
  },
  {
   "cell_type": "code",
   "execution_count": 52,
   "id": "50ace151",
   "metadata": {},
   "outputs": [],
   "source": [
    "import requests\n",
    "import re\n",
    "import hashlib\n",
    "from spacy import Language\n",
    "from typing import List\n",
    "\n",
    "from spacy.tokens import Doc, Span\n",
    "\n",
    "from transformers import pipeline\n",
    "\n",
    "def call_wiki_api(item):\n",
    "    try:\n",
    "        url = f\"https://www.wikidata.org/w/api.php?action=wbsearchentities&search={item}&language=en&format=json\"\n",
    "        data = requests.get(url).json()\n",
    "        # Return the first id (Could upgrade this in the future)\n",
    "        return data['search'][0]['id']\n",
    "    except:\n",
    "        return 'id-less'\n",
    "\n",
    "def extract_triplets(text):\n",
    "    \"\"\"\n",
    "    Function to parse the generated text and extract the triplets\n",
    "    \"\"\"\n",
    "    triplets = []\n",
    "    relation, subject, relation, object_ = '', '', '', ''\n",
    "    text = text.strip()\n",
    "    current = 'x'\n",
    "    for token in text.replace(\"<s>\", \"\").replace(\"<pad>\", \"\").replace(\"</s>\", \"\").split():\n",
    "        if token == \"<triplet>\":\n",
    "            current = 't'\n",
    "            if relation != '':\n",
    "                triplets.append({'head': subject.strip(), 'type': relation.strip(),'tail': object_.strip()})\n",
    "                relation = ''\n",
    "            subject = ''\n",
    "        elif token == \"<subj>\":\n",
    "            current = 's'\n",
    "            if relation != '':\n",
    "                triplets.append({'head': subject.strip(), 'type': relation.strip(),'tail': object_.strip()})\n",
    "            object_ = ''\n",
    "        elif token == \"<obj>\":\n",
    "            current = 'o'\n",
    "            relation = ''\n",
    "        else:\n",
    "            if current == 't':\n",
    "                subject += ' ' + token\n",
    "            elif current == 's':\n",
    "                object_ += ' ' + token\n",
    "            elif current == 'o':\n",
    "                relation += ' ' + token\n",
    "    if subject != '' and relation != '' and object_ != '':\n",
    "        triplets.append({'head': subject.strip(), 'type': relation.strip(),'tail': object_.strip()})\n",
    "\n",
    "    return triplets\n",
    "\n",
    "\n",
    "@Language.factory(\n",
    "    \"rebel\",\n",
    "    requires=[\"doc.sents\"],\n",
    "    assigns=[\"doc._.rel\"],\n",
    "    default_config={\n",
    "        \"model_name\": \"Babelscape/rebel-large\",\n",
    "        \"device\": 0,\n",
    "    },\n",
    ")\n",
    "class RebelComponent:\n",
    "    def __init__(\n",
    "        self,\n",
    "        nlp,\n",
    "        name,\n",
    "        model_name: str,\n",
    "        device: int,\n",
    "    ):\n",
    "        assert model_name is not None, \"\"\n",
    "        self.triplet_extractor = pipeline(\"text2text-generation\", model=model_name, tokenizer=model_name, device=device)\n",
    "        self.entity_mapping = {}\n",
    "        # Register custom extension on the Doc\n",
    "        if not Doc.has_extension(\"rel\"):\n",
    "            Doc.set_extension(\"rel\", default={})\n",
    "\n",
    "    def get_wiki_id(self, item: str):\n",
    "        mapping = self.entity_mapping.get(item)\n",
    "        if mapping:\n",
    "            return mapping\n",
    "        else:\n",
    "            res = call_wiki_api(item)\n",
    "            self.entity_mapping[item] = res\n",
    "            return res\n",
    "\n",
    "    \n",
    "    def _generate_triplets(self, sent: Span) -> List[dict]:\n",
    "        output_ids = self.triplet_extractor(sent.text, return_tensors=True, return_text=False)[0][\"generated_token_ids\"][\"output_ids\"]\n",
    "        extracted_text = self.triplet_extractor.tokenizer.batch_decode(output_ids[0])\n",
    "        extracted_triplets = extract_triplets(extracted_text[0])\n",
    "        return extracted_triplets\n",
    "\n",
    "    def set_annotations(self, doc: Doc, triplets: List[dict]):\n",
    "        for triplet in triplets:\n",
    "\n",
    "            # Remove self-loops (relationships that start and end at the entity)\n",
    "            if triplet['head'] == triplet['tail']:\n",
    "                continue\n",
    "\n",
    "            # Use regex to search for entities\n",
    "            head_span = re.search(triplet[\"head\"], doc.text)\n",
    "            tail_span = re.search(triplet[\"tail\"], doc.text)\n",
    "\n",
    "            # Skip the relation if both head and tail entities are not present in the text\n",
    "            # Sometimes the Rebel model hallucinates some entities\n",
    "            if not head_span or not tail_span:\n",
    "                continue\n",
    "\n",
    "            index = hashlib.sha1(\"\".join([triplet['head'], triplet['tail'], triplet['type']]).encode('utf-8')).hexdigest()\n",
    "            if index not in doc._.rel:\n",
    "                # Get wiki ids and store results\n",
    "                doc._.rel[index] = {\"relation\": triplet[\"type\"], \"head_span\": {'text': triplet['head'], 'id': self.get_wiki_id(triplet['head'])}, \"tail_span\": {'text': triplet['tail'], 'id': self.get_wiki_id(triplet['tail'])}}\n",
    "\n",
    "    def __call__(self, doc: Doc) -> Doc:\n",
    "        for sent in doc.sents:\n",
    "            sentence_triplets = self._generate_triplets(sent)\n",
    "            self.set_annotations(doc, sentence_triplets)\n",
    "        return doc"
   ]
  },
  {
   "cell_type": "code",
   "execution_count": 53,
   "id": "a98f65bc",
   "metadata": {},
   "outputs": [
    {
     "name": "stderr",
     "output_type": "stream",
     "text": [
      "[nltk_data] Downloading package omw-1.4 to\n",
      "[nltk_data]     C:\\Users\\t1rk9\\AppData\\Roaming\\nltk_data...\n",
      "[nltk_data]   Package omw-1.4 is already up-to-date!\n",
      "error loading _jsonnet (this is expected on Windows), treating C:\\Users\\t1rk9\\AppData\\Local\\Temp\\tmpeo1pie1m\\config.json as plain json\n",
      "Some weights of the model checkpoint at nreimers/mMiniLMv2-L12-H384-distilled-from-XLMR-Large were not used when initializing XLMRobertaModel: ['lm_head.layer_norm.bias', 'lm_head.dense.weight', 'lm_head.bias', 'lm_head.dense.bias', 'lm_head.layer_norm.weight']\n",
      "- This IS expected if you are initializing XLMRobertaModel from the checkpoint of a model trained on another task or with another architecture (e.g. initializing a BertForSequenceClassification model from a BertForPreTraining model).\n",
      "- This IS NOT expected if you are initializing XLMRobertaModel from the checkpoint of a model that you expect to be exactly identical (initializing a BertForSequenceClassification model from a BertForSequenceClassification model).\n",
      "Some weights of XLMRobertaModel were not initialized from the model checkpoint at nreimers/mMiniLMv2-L12-H384-distilled-from-XLMR-Large and are newly initialized: ['roberta.pooler.dense.bias', 'roberta.pooler.dense.weight']\n",
      "You should probably TRAIN this model on a down-stream task to be able to use it for predictions and inference.\n"
     ]
    },
    {
     "data": {
      "text/plain": [
       "<__main__.RebelComponent at 0x187d0e28520>"
      ]
     },
     "execution_count": 53,
     "metadata": {},
     "output_type": "execute_result"
    }
   ],
   "source": [
    "import crosslingual_coreference\n",
    "\n",
    "DEVICE = -1 # Number of the GPU, -1 if want to use CPU\n",
    "\n",
    "# Add coreference resolution model\n",
    "coref = spacy.load('en_core_web_sm', disable=['ner', 'tagger', 'parser', 'attribute_ruler', 'lemmatizer'])\n",
    "coref.add_pipe(\n",
    "    \"xx_coref\", config={\"chunk_size\": 2500, \"chunk_overlap\": 2, \"device\": DEVICE})\n",
    "\n",
    "# Define rel extraction model\n",
    "\n",
    "rel_ext = spacy.load('en_core_web_sm', disable=['ner', 'lemmatizer', 'attribute_rules', 'tagger'])\n",
    "rel_ext.add_pipe(\"rebel\", config={\n",
    "    'device':DEVICE, # Number of the GPU, -1 if want to use CPU\n",
    "    'model_name':'Babelscape/rebel-large'} # Model used, will default to 'Babelscape/rebel-large' if not given\n",
    "    )"
   ]
  },
  {
   "cell_type": "code",
   "execution_count": 54,
   "id": "56d0d956",
   "metadata": {},
   "outputs": [
    {
     "name": "stderr",
     "output_type": "stream",
     "text": [
      "C:\\Users\\t1rk9\\AppData\\Roaming\\Python\\Python39\\site-packages\\allennlp\\modules\\token_embedders\\pretrained_transformer_embedder.py:385: UserWarning: __floordiv__ is deprecated, and its behavior will change in a future version of pytorch. It currently rounds toward 0 (like the 'trunc' function NOT 'floor'). This results in incorrect rounding for negative values. To keep the current behavior, use torch.div(a, b, rounding_mode='trunc'), or for actual floor division, use torch.div(a, b, rounding_mode='floor').\n",
      "  num_effective_segments = (seq_lengths + self._max_length - 1) // self._max_length\n"
     ]
    },
    {
     "name": "stdout",
     "output_type": "stream",
     "text": [
      "c2b25a2f943e2766a43cc29772b739b1f9c43f2d: {'relation': 'instance of', 'head_span': {'text': 'ASCII', 'id': 'Q8815'}, 'tail_span': {'text': 'character encoding', 'id': 'Q184759'}}\n",
      "d4a6f8af82aacce004945be3e8b91f0171c8c1a7: {'relation': 'instance of', 'head_span': {'text': 'ASCII', 'id': 'Q8815'}, 'tail_span': {'text': 'Internet Standard', 'id': 'Q290378'}}\n",
      "f13a44a816cbe1194aec67724fc97e32acb025cc: {'relation': 'based on', 'head_span': {'text': 'English alphabet ASCII encodes', 'id': 'id-less'}, 'tail_span': {'text': 'Standards Institute 105 History', 'id': 'id-less'}}\n",
      "876175c1a01cdc668c2cf64e369c8867d11ae3eb: {'relation': 'derivative work', 'head_span': {'text': 'Standards Institute 105 History', 'id': 'id-less'}, 'tail_span': {'text': 'English alphabet ASCII encodes', 'id': 'id-less'}}\n",
      "5a72b0869273a881fdce6b38adf8536deca0baf3: {'relation': 'publisher', 'head_span': {'text': 'American Standard Code for Information Interchange', 'id': 'Q8815'}, 'tail_span': {'text': 'International Organization for Standardization', 'id': 'Q15028'}}\n",
      "5b171c206c91b7fbd4dc088f5340acfde86bf6aa: {'relation': 'manufacturer', 'head_span': {'text': 'ANSI X341986', 'id': 'id-less'}, 'tail_span': {'text': 'ANSI', 'id': 'Q180003'}}\n",
      "b7617951ec7999e4f847ea7e168e1c7afabd446b: {'relation': 'different from', 'head_span': {'text': 'magnetic tape', 'id': 'Q193663'}, 'tail_span': {'text': 'punched card', 'id': 'Q183414'}}\n",
      "1ca380aa5f350fcac89ddfcc580b9770d7b2a10d: {'relation': 'different from', 'head_span': {'text': 'punched card', 'id': 'Q183414'}, 'tail_span': {'text': 'magnetic tape', 'id': 'Q193663'}}\n",
      "581d894a508bf1bd51e26d93a27b28f210542ded: {'relation': 'instance of', 'head_span': {'text': 'ASCII', 'id': 'Q8815'}, 'tail_span': {'text': 'character symbols', 'id': 'id-less'}}\n",
      "29ce54cbfb824316964bee0a480b054ee0b920f0: {'relation': 'uses', 'head_span': {'text': 'Télégraphique', 'id': 'id-less'}, 'tail_span': {'text': 'International Telegraph Alphabet', 'id': 'id-less'}}\n",
      "a9732e8b15d67138961498b19056587ad5fba763: {'relation': 'used by', 'head_span': {'text': 'International Telegraph Alphabet', 'id': 'id-less'}, 'tail_span': {'text': 'Télégraphique', 'id': 'id-less'}}\n",
      "0477e454578b4854682c773178014d8ce54be87e: {'relation': 'discoverer or inventor', 'head_span': {'text': '5bit telegraph code', 'id': 'id-less'}, 'tail_span': {'text': 'Émile Baudot', 'id': 'Q550192'}}\n",
      "745fd7c500c56978d9baa4826ecb764b806c0dba: {'relation': 'instance of', 'head_span': {'text': 'ITA2', 'id': 'Q753170'}, 'tail_span': {'text': 'shift function', 'id': 'id-less'}}\n",
      "c6c9031320183ebe3f3b8b8e4cb4dc623043fc96: {'relation': 'use', 'head_span': {'text': 'parity bit', 'id': 'Q625502'}, 'tail_span': {'text': 'error checking', 'id': 'Q40413279'}}\n",
      "a5910a846e8060f006de881f7b83d8ec3de9bd5c: {'relation': 'part of', 'head_span': {'text': 'space character', 'id': 'id-less'}, 'tail_span': {'text': 'special signs commonly used as separators', 'id': 'id-less'}}\n",
      "fdfa8bf2cbfabf970df0e3217279cabd6e555869: {'relation': 'has part', 'head_span': {'text': 'special signs commonly used as separators', 'id': 'id-less'}, 'tail_span': {'text': 'space character', 'id': 'id-less'}}\n",
      "447f03381fb500ec8417a6e46992b738e8e3ed06: {'relation': 'subclass of', 'head_span': {'text': 'digits', 'id': 'Q18615365'}, 'tail_span': {'text': 'character', 'id': 'Q95074'}}\n",
      "902ccdffd760e93ea73260e7c29fd0a86ca36d9f: {'relation': 'has part', 'head_span': {'text': 'ASCII', 'id': 'Q8815'}, 'tail_span': {'text': 'decimal', 'id': 'Q81365'}}\n",
      "f4e92837ced4eb988200d3c2e56a9f204c24726f: {'relation': 'part of', 'head_span': {'text': 'decimal', 'id': 'Q81365'}, 'tail_span': {'text': 'ASCII', 'id': 'Q8815'}}\n",
      "dfe817ac70a9e6e2decd117f87fc146f0d50df9e: {'relation': 'opposite of', 'head_span': {'text': 'mechanical typewriter', 'id': 'id-less'}, 'tail_span': {'text': 'electric typewriter', 'id': 'Q74743373'}}\n",
      "0be25ba82a9c43d07a45cd88eff5223c4e32c5b5: {'relation': 'opposite of', 'head_span': {'text': 'electric typewriter', 'id': 'Q74743373'}, 'tail_span': {'text': 'mechanical typewriter', 'id': 'id-less'}}\n",
      "b194dbb2471a64601bc7923597b01ee14329e0f2: {'relation': 'has part', 'head_span': {'text': 'ASCII', 'id': 'Q8815'}, 'tail_span': {'text': 'O', 'id': 'Q629'}}\n",
      "b67b336814263f7f00b7e902301e059a609ef0e8: {'relation': 'has part', 'head_span': {'text': 'ASCII', 'id': 'Q8815'}, 'tail_span': {'text': 'capital letter o', 'id': 'id-less'}}\n",
      "eb6795605e833d6500c648eb659bd07dc190d185: {'relation': 'has part', 'head_span': {'text': 'ASCII', 'id': 'Q8815'}, 'tail_span': {'text': 'lowercase letter L', 'id': 'id-less'}}\n",
      "a6fa573f274c9a656ebb344429ac679b37090a05: {'relation': 'publication date', 'head_span': {'text': 'Selectric 1961', 'id': 'id-less'}, 'tail_span': {'text': '1961', 'id': 'Q3696'}}\n",
      "796f2683a7df0454ee426fbbc49c3e0f5c6f93fc: {'relation': 'manufacturer', 'head_span': {'text': 'IBM PC 1981', 'id': 'id-less'}, 'tail_span': {'text': 'IBM', 'id': 'Q37156'}}\n",
      "b65839e31f70152c5a9718a9658551c2e96ee626: {'relation': 'manufacturer', 'head_span': {'text': 'Model M 1984', 'id': 'id-less'}, 'tail_span': {'text': 'IBM', 'id': 'Q37156'}}\n",
      "c3966faee7282cf5e2cce29a90c17f439f59df87: {'relation': 'instance of', 'head_span': {'text': 'EOA end', 'id': 'id-less'}, 'tail_span': {'text': 'control code', 'id': 'id-less'}}\n",
      "a25dd2d1761e01b0c7ab61fc8ff39a15118d0f6c: {'relation': 'part of', 'head_span': {'text': 'ASCIIcode order', 'id': 'id-less'}, 'tail_span': {'text': 'ASCII', 'id': 'Q8815'}}\n",
      "3e545fa3d55a02c9ae71ea06fad3ab8a6da41cbf: {'relation': 'has parts of the class', 'head_span': {'text': 'ASCII', 'id': 'Q8815'}, 'tail_span': {'text': 'Control characters', 'id': 'id-less'}}\n",
      "c8a15262df17bf46156ab5dd28e70c6abb4941d9: {'relation': 'subclass of', 'head_span': {'text': 'Teletype Model 33 ASR', 'id': 'id-less'}, 'tail_span': {'text': 'printing terminal', 'id': 'id-less'}}\n",
      "595feb13b223ce783d9ba07f78f7f89974b9d33b: {'relation': 'subclass of', 'head_span': {'text': 'Teletype Model', 'id': 'Q297987'}, 'tail_span': {'text': 'magnetic tape machine', 'id': 'id-less'}}\n",
      "2bf2f429c89ff4f2846006463e1876e4319e83ef: {'relation': 'has part', 'head_span': {'text': 'ControlQ', 'id': 'id-less'}, 'tail_span': {'text': 'DC1', 'id': 'Q1046108'}}\n",
      "7c4aeb491311fba7b9121c19be950420daad45ee: {'relation': 'part of', 'head_span': {'text': 'DC1', 'id': 'Q1046108'}, 'tail_span': {'text': 'ControlQ', 'id': 'id-less'}}\n",
      "ee394b8542e143d1dab2ca3ac50f979af4597f3b: {'relation': 'instance of', 'head_span': {'text': 'ControlG', 'id': 'id-less'}, 'tail_span': {'text': 'computer operating system', 'id': 'Q106513812'}}\n",
      "a502bfd1f71dd523260c5c30b6826a1179f77d47: {'relation': 'instance of', 'head_span': {'text': 'ControlR', 'id': 'id-less'}, 'tail_span': {'text': 'computer operating system', 'id': 'Q106513812'}}\n",
      "84df5912fb7dbc58fb327d78b9cf129bc856c52a: {'relation': 'instance of', 'head_span': {'text': 'DC2', 'id': 'Q142591'}, 'tail_span': {'text': 'computer operating system', 'id': 'Q106513812'}}\n",
      "cfcab6d539af4bc5bb35c49e9b179977d0f74a8c: {'relation': 'instance of', 'head_span': {'text': 'DC4', 'id': 'Q18052429'}, 'tail_span': {'text': 'computer operating system', 'id': 'Q106513812'}}\n",
      "a5965186d370ebb78571badbe49a519079c5c677: {'relation': 'instance of', 'head_span': {'text': 'TAPE', 'id': 'Q149757'}, 'tail_span': {'text': 'computer operating system', 'id': 'Q106513812'}}\n",
      "2a01cdc8704e889665fbab24bedbf478878f7ea0: {'relation': 'subclass of', 'head_span': {'text': 'backspace', 'id': 'Q798515'}, 'tail_span': {'text': 'key', 'id': 'Q23445'}}\n",
      "f61226d97a646c365ad96bedc165647a362a8e73: {'relation': 'manufacturer', 'head_span': {'text': 'lessexpensive', 'id': 'id-less'}, 'tail_span': {'text': 'Digital Equipment Corporation', 'id': 'Q690079'}}\n",
      "f96ff96afaec813e4f97cb3a5814b9dca7c35690: {'relation': 'instance of', 'head_span': {'text': 'vi', 'id': 'Q9199'}, 'tail_span': {'text': 'text editor', 'id': 'Q131212'}}\n",
      "31f76bc0857fe978678626e69a2492d1117d9ad9: {'relation': 'has part', 'head_span': {'text': 'plain text', 'id': 'Q1145976'}, 'tail_span': {'text': 'control characters', 'id': 'id-less'}}\n",
      "99c7b7cdcaadf2bbc5e7063fca820b8c5d6f158f: {'relation': 'developer', 'head_span': {'text': 'MSDOS', 'id': 'Q47604'}, 'tail_span': {'text': 'Microsoft', 'id': 'Q2283'}}\n",
      "167aa3e9d66a30d399d95a2d9b3d6f1e3b0e1c21: {'relation': 'product or material produced', 'head_span': {'text': 'Microsoft', 'id': 'Q2283'}, 'tail_span': {'text': 'MSDOS', 'id': 'Q47604'}}\n",
      "44e3aedc8a98710c5143243cc936f772305a7f43: {'relation': 'product or material produced', 'head_span': {'text': 'Microsoft', 'id': 'Q2283'}, 'tail_span': {'text': 'Windows', 'id': 'Q1406'}}\n",
      "2e3cb84f38b6cc690b99f67b3838f54561e17894: {'relation': 'developer', 'head_span': {'text': 'Windows', 'id': 'Q1406'}, 'tail_span': {'text': 'Microsoft', 'id': 'Q2283'}}\n",
      "a32b47727e35f44dde285295376b8b9a0b115422: {'relation': 'based on', 'head_span': {'text': 'Windows', 'id': 'Q1406'}, 'tail_span': {'text': 'MSDOS', 'id': 'Q47604'}}\n",
      "6da516a74397e6183a5c66b39d377927cabf7aad: {'relation': 'followed by', 'head_span': {'text': 'MSDOS', 'id': 'Q47604'}, 'tail_span': {'text': 'Windows', 'id': 'Q1406'}}\n",
      "ed0e320f58920f07bb704cad458408d9ec4c9049: {'relation': 'has part', 'head_span': {'text': 'Macintosh OS', 'id': 'Q13522376'}, 'tail_span': {'text': 'Apple DOS', 'id': 'Q621234'}}\n",
      "30a07c4894ba79c7e836bf479ec53efbeba0cc8a: {'relation': 'has part', 'head_span': {'text': 'Macintosh OS', 'id': 'Q13522376'}, 'tail_span': {'text': 'ProDOS', 'id': 'Q621328'}}\n",
      "a05812a6e737413594cc308689e1a84771e40549: {'relation': 'part of', 'head_span': {'text': 'Apple DOS', 'id': 'Q621234'}, 'tail_span': {'text': 'Macintosh OS', 'id': 'Q13522376'}}\n",
      "d6d5328b5f59c1500f937984f5c4d319d359d106: {'relation': 'part of', 'head_span': {'text': 'ProDOS', 'id': 'Q621328'}, 'tail_span': {'text': 'Macintosh OS', 'id': 'Q13522376'}}\n",
      "a312b5868d14de86161050d89cf6c001a761fade: {'relation': 'instance of', 'head_span': {'text': 'TOPS10', 'id': 'id-less'}, 'tail_span': {'text': 'operating system', 'id': 'Q9135'}}\n",
      "9ce7e94af8fb69466a41bdacbac49ba2d77765e1: {'relation': 'instance of', 'head_span': {'text': 'TENEX', 'id': 'Q2992529'}, 'tail_span': {'text': 'operating system', 'id': 'Q9135'}}\n",
      "ee17f6f77915874d9c9daf5868cfcc36afa07bb7: {'relation': 'instance of', 'head_span': {'text': 'Multics', 'id': 'Q739186'}, 'tail_span': {'text': 'operating system', 'id': 'Q9135'}}\n",
      "6d9687526718fba4ee868073605674791e863235: {'relation': 'instance of', 'head_span': {'text': 'OS360', 'id': 'Q1690495'}, 'tail_span': {'text': 'operating system', 'id': 'Q9135'}}\n",
      "abb4035d896cb84d0d0dae82a00668babc0aae55: {'relation': 'instance of', 'head_span': {'text': 'Terminal NVT', 'id': 'id-less'}, 'tail_span': {'text': 'NVT', 'id': 'Q1432040'}}\n",
      "8baed2ebcb539690e9d867f89145a5aa1c88ee0b: {'relation': 'uses', 'head_span': {'text': 'Telnet', 'id': 'Q160470'}, 'tail_span': {'text': 'Telnet protocol', 'id': 'Q47469273'}}\n",
      "fef8bd2f60accecae4d56bedf33df269348ba82c: {'relation': 'used by', 'head_span': {'text': 'Telnet protocol', 'id': 'Q47469273'}, 'tail_span': {'text': 'Telnet', 'id': 'Q160470'}}\n",
      "57bb517cd46f7657b4a2663f5fc1d95c853ac1fe: {'relation': 'uses', 'head_span': {'text': 'End of FileStream', 'id': 'id-less'}, 'tail_span': {'text': 'CRLF', 'id': 'Q3025677'}}\n",
      "052b316f9811b28fb99723c46dd66bb30e19f89c: {'relation': 'followed by', 'head_span': {'text': 'PDP6', 'id': 'id-less'}, 'tail_span': {'text': 'PDP10', 'id': 'Q35845195'}}\n",
      "2e077bc3ffa949e8397d66dd8076681b9257a70e: {'relation': 'follows', 'head_span': {'text': 'PDP10', 'id': 'Q35845195'}, 'tail_span': {'text': 'PDP6', 'id': 'id-less'}}\n",
      "64baa552663a9d2abc4cbedbad11ce73f518765e: {'relation': 'instance of', 'head_span': {'text': 'ETX code convention', 'id': 'id-less'}, 'tail_span': {'text': 'mnemonic', 'id': 'Q191062'}}\n",
      "cebf034e5340b6dc265ae24e21bf5790d09ff5a9: {'relation': 'instance of', 'head_span': {'text': 'ASCII', 'id': 'Q8815'}, 'tail_span': {'text': 'international character code standard', 'id': 'id-less'}}\n",
      "dbb03edd2be38aaf6e0de4ddf436d6d645ecc54b: {'relation': 'language used', 'head_span': {'text': 'Canada', 'id': 'Q16'}, 'tail_span': {'text': 'French', 'id': 'Q150'}}\n",
      "e21b49f8ef762f1e05ad96d1191061a0b3c4bd38: {'relation': 'country', 'head_span': {'text': 'French', 'id': 'Q150'}, 'tail_span': {'text': 'Canada', 'id': 'Q16'}}\n",
      "df8fc2d158bb1cd48abcb960c38ee5adfee81e2f: {'relation': 'different from', 'head_span': {'text': 'ISOIEC 646', 'id': 'id-less'}, 'tail_span': {'text': 'ASCII', 'id': 'Q8815'}}\n",
      "2465cd4174be0f0bb6726e98f1841c246695353e: {'relation': 'different from', 'head_span': {'text': 'ASCII', 'id': 'Q8815'}, 'tail_span': {'text': 'ISOIEC 646', 'id': 'id-less'}}\n",
      "c9565f6ae1ccf8ee9bc62ef0b3137aa11364ccef: {'relation': 'different', 'head_span': {'text': 'ISOIEC 646', 'id': 'id-less'}, 'tail_span': {'text': 'ASCII', 'id': 'Q8815'}}\n",
      "b989f07e3d65f8f22d471feafc416d4882f90cfe: {'relation': 'said to be the same as', 'head_span': {'text': '¥', 'id': 'Q8146'}, 'tail_span': {'text': 'Yen', 'id': 'Q3037'}}\n",
      "87aa537d841b0386da9943126fa98ad537ad1770: {'relation': 'said to be the same as', 'head_span': {'text': 'Yen', 'id': 'Q3037'}, 'tail_span': {'text': '¥', 'id': 'Q8146'}}\n",
      "572ed557edf20840963f8baa80ad21ba0cda48f0: {'relation': 'instance of', 'head_span': {'text': 'CUsersSmith', 'id': 'id-less'}, 'tail_span': {'text': 'file path', 'id': 'Q817765'}}\n",
      "d36551dd336eceefebee7947719d0ced5e0320a2: {'relation': 'manufacturer', 'head_span': {'text': 'ZX Spectrum', 'id': 'Q23882'}, 'tail_span': {'text': 'Commodore International', 'id': 'Q208305'}}\n",
      "723093c828f8597c1452ac3972214ff15d0a9d46: {'relation': 'part of', 'head_span': {'text': 'IBM PC', 'id': 'Q202712'}, 'tail_span': {'text': '8bit systems', 'id': 'id-less'}}\n",
      "15fea68aeaf081bbdee2de84bb5869236dd0db61: {'relation': 'has part', 'head_span': {'text': '8bit systems', 'id': 'id-less'}, 'tail_span': {'text': 'IBM PC', 'id': 'Q202712'}}\n",
      "90dc0fb7fbac0cc0ded205e12537fb679bc0e09d: {'relation': 'manufacturer', 'head_span': {'text': 'VT220', 'id': 'Q3553018'}, 'tail_span': {'text': 'Digital Equipment Corporation', 'id': 'Q690079'}}\n",
      "7d7abb138517c961792b418ce227374b01933919: {'relation': 'point in time', 'head_span': {'text': 'ISOIEC 10646', 'id': 'id-less'}, 'tail_span': {'text': '10646', 'id': 'Q1484695'}}\n",
      "7932f17f20bfc6f103399cf25a6e7692aeb4bf6b: {'relation': 'has part', 'head_span': {'text': 'Unicode', 'id': 'Q8819'}, 'tail_span': {'text': 'ISOIEC 8859', 'id': 'id-less'}}\n",
      "c4d4936fa98b14334dd02fdfc022b74bb04c7b69: {'relation': 'has part', 'head_span': {'text': 'Unicode', 'id': 'Q8819'}, 'tail_span': {'text': 'ISO88591', 'id': 'id-less'}}\n",
      "848d4882e2572d1961f604997685b0b0898bee67: {'relation': 'part of', 'head_span': {'text': 'ISO88591', 'id': 'id-less'}, 'tail_span': {'text': 'Unicode', 'id': 'Q8819'}}\n"
     ]
    }
   ],
   "source": [
    "# fails on d['12'] most likely due to lenght of the text\n",
    "# quite slow.... on d['586']\n",
    "input_text = d['586']\n",
    "\n",
    "coref_text = coref(input_text)._.resolved_text\n",
    "\n",
    "doc = rel_ext(coref_text)\n",
    "\n",
    "for value, rel_dict in doc._.rel.items():\n",
    "    print(f\"{value}: {rel_dict}\")"
   ]
  },
  {
   "cell_type": "markdown",
   "id": "83007901",
   "metadata": {},
   "source": [
    "## NLTK"
   ]
  },
  {
   "cell_type": "code",
   "execution_count": 37,
   "id": "b491140f",
   "metadata": {},
   "outputs": [],
   "source": [
    "# download the pos tagger since its not included by default\n",
    "#nltk.download('averaged_perceptron_tagger')\n",
    "#nltk.download('maxent_ne_chunker')\n",
    "#nltk.download('words')\n",
    "\n",
    "# enable only if fresh NLTK or lots of issues\n",
    "#nltk.download('all')\n",
    "\n",
    "#pip install svgling"
   ]
  },
  {
   "cell_type": "code",
   "execution_count": 27,
   "id": "84c8dabb",
   "metadata": {},
   "outputs": [],
   "source": [
    "from nltk import ne_chunk, pos_tag, word_tokenize\n",
    "from nltk.sem.relextract import extract_rels"
   ]
  },
  {
   "cell_type": "code",
   "execution_count": 28,
   "id": "34730283",
   "metadata": {},
   "outputs": [
    {
     "data": {
      "text/plain": [
       "'Humans lived in societies without formal hierarchies long before the establishment of formal states realms or empires With the rise of organised hierarchical bodies scepticism toward authority also rose Although traces of anarchist thought are found throughout history modern anarchism emerged from the Enlightenment During the latter half of the 19th and the first decades of the 20th century the anarchist movement flourished in most parts of the world and had a significant role in workers struggles for emancipation Various anarchist schools of thought formed during this period Anarchists have taken part in several revolutions most notably in the Paris Commune the Russian Civil War and the Spanish Civil War whose end marked the end of the classical era of anarchism In the last decades of the 20th and into the 21st century the anarchist movement has been resurgent once more'"
      ]
     },
     "execution_count": 28,
     "metadata": {},
     "output_type": "execute_result"
    }
   ],
   "source": [
    "te = d['12'].splitlines()\n",
    "use = te[1]\n",
    "use"
   ]
  },
  {
   "cell_type": "code",
   "execution_count": 40,
   "id": "a4a96670",
   "metadata": {},
   "outputs": [
    {
     "data": {
      "image/svg+xml": [
       "<svg baseProfile=\"full\" height=\"168px\" preserveAspectRatio=\"xMidYMid meet\" style=\"font-family: times, serif; font-weight:normal; font-style: normal; font-size: 16px;\" version=\"1.1\" viewBox=\"0,0,8264.0,168.0\" width=\"8264px\" xmlns=\"http://www.w3.org/2000/svg\" xmlns:ev=\"http://www.w3.org/2001/xml-events\" xmlns:xlink=\"http://www.w3.org/1999/xlink\"><defs /><svg width=\"100%\" x=\"0\" y=\"0em\"><defs /><text text-anchor=\"middle\" x=\"50%\" y=\"1em\">S</text></svg><svg width=\"0.774443%\" x=\"0%\" y=\"3em\"><defs /><svg width=\"100%\" x=\"0\" y=\"0em\"><defs /><text text-anchor=\"middle\" x=\"50%\" y=\"1em\">Humans</text></svg><svg width=\"100%\" x=\"0%\" y=\"3em\"><defs /><svg width=\"100%\" x=\"0\" y=\"0em\"><defs /><text text-anchor=\"middle\" x=\"50%\" y=\"1em\">NNS</text></svg></svg><line stroke=\"black\" x1=\"50%\" x2=\"50%\" y1=\"1.2em\" y2=\"3em\" /></svg><line stroke=\"black\" x1=\"50%\" x2=\"0.387222%\" y1=\"1.2em\" y2=\"3em\" /><svg width=\"0.677638%\" x=\"0.774443%\" y=\"3em\"><defs /><svg width=\"100%\" x=\"0\" y=\"0em\"><defs /><text text-anchor=\"middle\" x=\"50%\" y=\"1em\">lived</text></svg><svg width=\"100%\" x=\"0%\" y=\"3em\"><defs /><svg width=\"100%\" x=\"0\" y=\"0em\"><defs /><text text-anchor=\"middle\" x=\"50%\" y=\"1em\">VBD</text></svg></svg><line stroke=\"black\" x1=\"50%\" x2=\"50%\" y1=\"1.2em\" y2=\"3em\" /></svg><line stroke=\"black\" x1=\"50%\" x2=\"1.11326%\" y1=\"1.2em\" y2=\"3em\" /><svg width=\"0.387222%\" x=\"1.45208%\" y=\"3em\"><defs /><svg width=\"100%\" x=\"0\" y=\"0em\"><defs /><text text-anchor=\"middle\" x=\"50%\" y=\"1em\">in</text></svg><svg width=\"100%\" x=\"0%\" y=\"3em\"><defs /><svg width=\"100%\" x=\"0\" y=\"0em\"><defs /><text text-anchor=\"middle\" x=\"50%\" y=\"1em\">IN</text></svg></svg><line stroke=\"black\" x1=\"50%\" x2=\"50%\" y1=\"1.2em\" y2=\"3em\" /></svg><line stroke=\"black\" x1=\"50%\" x2=\"1.64569%\" y1=\"1.2em\" y2=\"3em\" /><svg width=\"1.06486%\" x=\"1.8393%\" y=\"3em\"><defs /><svg width=\"100%\" x=\"0\" y=\"0em\"><defs /><text text-anchor=\"middle\" x=\"50%\" y=\"1em\">societies</text></svg><svg width=\"100%\" x=\"0%\" y=\"3em\"><defs /><svg width=\"100%\" x=\"0\" y=\"0em\"><defs /><text text-anchor=\"middle\" x=\"50%\" y=\"1em\">NNS</text></svg></svg><line stroke=\"black\" x1=\"50%\" x2=\"50%\" y1=\"1.2em\" y2=\"3em\" /></svg><line stroke=\"black\" x1=\"50%\" x2=\"2.37173%\" y1=\"1.2em\" y2=\"3em\" /><svg width=\"0.871249%\" x=\"2.90416%\" y=\"3em\"><defs /><svg width=\"100%\" x=\"0\" y=\"0em\"><defs /><text text-anchor=\"middle\" x=\"50%\" y=\"1em\">without</text></svg><svg width=\"100%\" x=\"0%\" y=\"3em\"><defs /><svg width=\"100%\" x=\"0\" y=\"0em\"><defs /><text text-anchor=\"middle\" x=\"50%\" y=\"1em\">IN</text></svg></svg><line stroke=\"black\" x1=\"50%\" x2=\"50%\" y1=\"1.2em\" y2=\"3em\" /></svg><line stroke=\"black\" x1=\"50%\" x2=\"3.33979%\" y1=\"1.2em\" y2=\"3em\" /><svg width=\"0.774443%\" x=\"3.77541%\" y=\"3em\"><defs /><svg width=\"100%\" x=\"0\" y=\"0em\"><defs /><text text-anchor=\"middle\" x=\"50%\" y=\"1em\">formal</text></svg><svg width=\"100%\" x=\"0%\" y=\"3em\"><defs /><svg width=\"100%\" x=\"0\" y=\"0em\"><defs /><text text-anchor=\"middle\" x=\"50%\" y=\"1em\">JJ</text></svg></svg><line stroke=\"black\" x1=\"50%\" x2=\"50%\" y1=\"1.2em\" y2=\"3em\" /></svg><line stroke=\"black\" x1=\"50%\" x2=\"4.16263%\" y1=\"1.2em\" y2=\"3em\" /><svg width=\"1.25847%\" x=\"4.54985%\" y=\"3em\"><defs /><svg width=\"100%\" x=\"0\" y=\"0em\"><defs /><text text-anchor=\"middle\" x=\"50%\" y=\"1em\">hierarchies</text></svg><svg width=\"100%\" x=\"0%\" y=\"3em\"><defs /><svg width=\"100%\" x=\"0\" y=\"0em\"><defs /><text text-anchor=\"middle\" x=\"50%\" y=\"1em\">NNS</text></svg></svg><line stroke=\"black\" x1=\"50%\" x2=\"50%\" y1=\"1.2em\" y2=\"3em\" /></svg><line stroke=\"black\" x1=\"50%\" x2=\"5.17909%\" y1=\"1.2em\" y2=\"3em\" /><svg width=\"0.580833%\" x=\"5.80833%\" y=\"3em\"><defs /><svg width=\"100%\" x=\"0\" y=\"0em\"><defs /><text text-anchor=\"middle\" x=\"50%\" y=\"1em\">long</text></svg><svg width=\"100%\" x=\"0%\" y=\"3em\"><defs /><svg width=\"100%\" x=\"0\" y=\"0em\"><defs /><text text-anchor=\"middle\" x=\"50%\" y=\"1em\">RB</text></svg></svg><line stroke=\"black\" x1=\"50%\" x2=\"50%\" y1=\"1.2em\" y2=\"3em\" /></svg><line stroke=\"black\" x1=\"50%\" x2=\"6.09874%\" y1=\"1.2em\" y2=\"3em\" /><svg width=\"0.774443%\" x=\"6.38916%\" y=\"3em\"><defs /><svg width=\"100%\" x=\"0\" y=\"0em\"><defs /><text text-anchor=\"middle\" x=\"50%\" y=\"1em\">before</text></svg><svg width=\"100%\" x=\"0%\" y=\"3em\"><defs /><svg width=\"100%\" x=\"0\" y=\"0em\"><defs /><text text-anchor=\"middle\" x=\"50%\" y=\"1em\">IN</text></svg></svg><line stroke=\"black\" x1=\"50%\" x2=\"50%\" y1=\"1.2em\" y2=\"3em\" /></svg><line stroke=\"black\" x1=\"50%\" x2=\"6.77638%\" y1=\"1.2em\" y2=\"3em\" /><svg width=\"0.484027%\" x=\"7.1636%\" y=\"3em\"><defs /><svg width=\"100%\" x=\"0\" y=\"0em\"><defs /><text text-anchor=\"middle\" x=\"50%\" y=\"1em\">the</text></svg><svg width=\"100%\" x=\"0%\" y=\"3em\"><defs /><svg width=\"100%\" x=\"0\" y=\"0em\"><defs /><text text-anchor=\"middle\" x=\"50%\" y=\"1em\">DT</text></svg></svg><line stroke=\"black\" x1=\"50%\" x2=\"50%\" y1=\"1.2em\" y2=\"3em\" /></svg><line stroke=\"black\" x1=\"50%\" x2=\"7.40561%\" y1=\"1.2em\" y2=\"3em\" /><svg width=\"1.45208%\" x=\"7.64763%\" y=\"3em\"><defs /><svg width=\"100%\" x=\"0\" y=\"0em\"><defs /><text text-anchor=\"middle\" x=\"50%\" y=\"1em\">establishment</text></svg><svg width=\"100%\" x=\"0%\" y=\"3em\"><defs /><svg width=\"100%\" x=\"0\" y=\"0em\"><defs /><text text-anchor=\"middle\" x=\"50%\" y=\"1em\">NN</text></svg></svg><line stroke=\"black\" x1=\"50%\" x2=\"50%\" y1=\"1.2em\" y2=\"3em\" /></svg><line stroke=\"black\" x1=\"50%\" x2=\"8.37367%\" y1=\"1.2em\" y2=\"3em\" /><svg width=\"0.387222%\" x=\"9.09971%\" y=\"3em\"><defs /><svg width=\"100%\" x=\"0\" y=\"0em\"><defs /><text text-anchor=\"middle\" x=\"50%\" y=\"1em\">of</text></svg><svg width=\"100%\" x=\"0%\" y=\"3em\"><defs /><svg width=\"100%\" x=\"0\" y=\"0em\"><defs /><text text-anchor=\"middle\" x=\"50%\" y=\"1em\">IN</text></svg></svg><line stroke=\"black\" x1=\"50%\" x2=\"50%\" y1=\"1.2em\" y2=\"3em\" /></svg><line stroke=\"black\" x1=\"50%\" x2=\"9.29332%\" y1=\"1.2em\" y2=\"3em\" /><svg width=\"0.774443%\" x=\"9.48693%\" y=\"3em\"><defs /><svg width=\"100%\" x=\"0\" y=\"0em\"><defs /><text text-anchor=\"middle\" x=\"50%\" y=\"1em\">formal</text></svg><svg width=\"100%\" x=\"0%\" y=\"3em\"><defs /><svg width=\"100%\" x=\"0\" y=\"0em\"><defs /><text text-anchor=\"middle\" x=\"50%\" y=\"1em\">JJ</text></svg></svg><line stroke=\"black\" x1=\"50%\" x2=\"50%\" y1=\"1.2em\" y2=\"3em\" /></svg><line stroke=\"black\" x1=\"50%\" x2=\"9.87415%\" y1=\"1.2em\" y2=\"3em\" /><svg width=\"0.774443%\" x=\"10.2614%\" y=\"3em\"><defs /><svg width=\"100%\" x=\"0\" y=\"0em\"><defs /><text text-anchor=\"middle\" x=\"50%\" y=\"1em\">states</text></svg><svg width=\"100%\" x=\"0%\" y=\"3em\"><defs /><svg width=\"100%\" x=\"0\" y=\"0em\"><defs /><text text-anchor=\"middle\" x=\"50%\" y=\"1em\">NNS</text></svg></svg><line stroke=\"black\" x1=\"50%\" x2=\"50%\" y1=\"1.2em\" y2=\"3em\" /></svg><line stroke=\"black\" x1=\"50%\" x2=\"10.6486%\" y1=\"1.2em\" y2=\"3em\" /><svg width=\"0.774443%\" x=\"11.0358%\" y=\"3em\"><defs /><svg width=\"100%\" x=\"0\" y=\"0em\"><defs /><text text-anchor=\"middle\" x=\"50%\" y=\"1em\">realms</text></svg><svg width=\"100%\" x=\"0%\" y=\"3em\"><defs /><svg width=\"100%\" x=\"0\" y=\"0em\"><defs /><text text-anchor=\"middle\" x=\"50%\" y=\"1em\">VBP</text></svg></svg><line stroke=\"black\" x1=\"50%\" x2=\"50%\" y1=\"1.2em\" y2=\"3em\" /></svg><line stroke=\"black\" x1=\"50%\" x2=\"11.423%\" y1=\"1.2em\" y2=\"3em\" /><svg width=\"0.387222%\" x=\"11.8103%\" y=\"3em\"><defs /><svg width=\"100%\" x=\"0\" y=\"0em\"><defs /><text text-anchor=\"middle\" x=\"50%\" y=\"1em\">or</text></svg><svg width=\"100%\" x=\"0%\" y=\"3em\"><defs /><svg width=\"100%\" x=\"0\" y=\"0em\"><defs /><text text-anchor=\"middle\" x=\"50%\" y=\"1em\">CC</text></svg></svg><line stroke=\"black\" x1=\"50%\" x2=\"50%\" y1=\"1.2em\" y2=\"3em\" /></svg><line stroke=\"black\" x1=\"50%\" x2=\"12.0039%\" y1=\"1.2em\" y2=\"3em\" /><svg width=\"0.871249%\" x=\"12.1975%\" y=\"3em\"><defs /><svg width=\"100%\" x=\"0\" y=\"0em\"><defs /><text text-anchor=\"middle\" x=\"50%\" y=\"1em\">empires</text></svg><svg width=\"100%\" x=\"0%\" y=\"3em\"><defs /><svg width=\"100%\" x=\"0\" y=\"0em\"><defs /><text text-anchor=\"middle\" x=\"50%\" y=\"1em\">VBZ</text></svg></svg><line stroke=\"black\" x1=\"50%\" x2=\"50%\" y1=\"1.2em\" y2=\"3em\" /></svg><line stroke=\"black\" x1=\"50%\" x2=\"12.6331%\" y1=\"1.2em\" y2=\"3em\" /><svg width=\"0.580833%\" x=\"13.0687%\" y=\"3em\"><defs /><svg width=\"100%\" x=\"0\" y=\"0em\"><defs /><text text-anchor=\"middle\" x=\"50%\" y=\"1em\">With</text></svg><svg width=\"100%\" x=\"0%\" y=\"3em\"><defs /><svg width=\"100%\" x=\"0\" y=\"0em\"><defs /><text text-anchor=\"middle\" x=\"50%\" y=\"1em\">IN</text></svg></svg><line stroke=\"black\" x1=\"50%\" x2=\"50%\" y1=\"1.2em\" y2=\"3em\" /></svg><line stroke=\"black\" x1=\"50%\" x2=\"13.3591%\" y1=\"1.2em\" y2=\"3em\" /><svg width=\"0.484027%\" x=\"13.6496%\" y=\"3em\"><defs /><svg width=\"100%\" x=\"0\" y=\"0em\"><defs /><text text-anchor=\"middle\" x=\"50%\" y=\"1em\">the</text></svg><svg width=\"100%\" x=\"0%\" y=\"3em\"><defs /><svg width=\"100%\" x=\"0\" y=\"0em\"><defs /><text text-anchor=\"middle\" x=\"50%\" y=\"1em\">DT</text></svg></svg><line stroke=\"black\" x1=\"50%\" x2=\"50%\" y1=\"1.2em\" y2=\"3em\" /></svg><line stroke=\"black\" x1=\"50%\" x2=\"13.8916%\" y1=\"1.2em\" y2=\"3em\" /><svg width=\"0.580833%\" x=\"14.1336%\" y=\"3em\"><defs /><svg width=\"100%\" x=\"0\" y=\"0em\"><defs /><text text-anchor=\"middle\" x=\"50%\" y=\"1em\">rise</text></svg><svg width=\"100%\" x=\"0%\" y=\"3em\"><defs /><svg width=\"100%\" x=\"0\" y=\"0em\"><defs /><text text-anchor=\"middle\" x=\"50%\" y=\"1em\">NN</text></svg></svg><line stroke=\"black\" x1=\"50%\" x2=\"50%\" y1=\"1.2em\" y2=\"3em\" /></svg><line stroke=\"black\" x1=\"50%\" x2=\"14.424%\" y1=\"1.2em\" y2=\"3em\" /><svg width=\"0.387222%\" x=\"14.7144%\" y=\"3em\"><defs /><svg width=\"100%\" x=\"0\" y=\"0em\"><defs /><text text-anchor=\"middle\" x=\"50%\" y=\"1em\">of</text></svg><svg width=\"100%\" x=\"0%\" y=\"3em\"><defs /><svg width=\"100%\" x=\"0\" y=\"0em\"><defs /><text text-anchor=\"middle\" x=\"50%\" y=\"1em\">IN</text></svg></svg><line stroke=\"black\" x1=\"50%\" x2=\"50%\" y1=\"1.2em\" y2=\"3em\" /></svg><line stroke=\"black\" x1=\"50%\" x2=\"14.908%\" y1=\"1.2em\" y2=\"3em\" /><svg width=\"1.06486%\" x=\"15.1016%\" y=\"3em\"><defs /><svg width=\"100%\" x=\"0\" y=\"0em\"><defs /><text text-anchor=\"middle\" x=\"50%\" y=\"1em\">organised</text></svg><svg width=\"100%\" x=\"0%\" y=\"3em\"><defs /><svg width=\"100%\" x=\"0\" y=\"0em\"><defs /><text text-anchor=\"middle\" x=\"50%\" y=\"1em\">JJ</text></svg></svg><line stroke=\"black\" x1=\"50%\" x2=\"50%\" y1=\"1.2em\" y2=\"3em\" /></svg><line stroke=\"black\" x1=\"50%\" x2=\"15.6341%\" y1=\"1.2em\" y2=\"3em\" /><svg width=\"1.35528%\" x=\"16.1665%\" y=\"3em\"><defs /><svg width=\"100%\" x=\"0\" y=\"0em\"><defs /><text text-anchor=\"middle\" x=\"50%\" y=\"1em\">hierarchical</text></svg><svg width=\"100%\" x=\"0%\" y=\"3em\"><defs /><svg width=\"100%\" x=\"0\" y=\"0em\"><defs /><text text-anchor=\"middle\" x=\"50%\" y=\"1em\">JJ</text></svg></svg><line stroke=\"black\" x1=\"50%\" x2=\"50%\" y1=\"1.2em\" y2=\"3em\" /></svg><line stroke=\"black\" x1=\"50%\" x2=\"16.8441%\" y1=\"1.2em\" y2=\"3em\" /><svg width=\"0.774443%\" x=\"17.5218%\" y=\"3em\"><defs /><svg width=\"100%\" x=\"0\" y=\"0em\"><defs /><text text-anchor=\"middle\" x=\"50%\" y=\"1em\">bodies</text></svg><svg width=\"100%\" x=\"0%\" y=\"3em\"><defs /><svg width=\"100%\" x=\"0\" y=\"0em\"><defs /><text text-anchor=\"middle\" x=\"50%\" y=\"1em\">NNS</text></svg></svg><line stroke=\"black\" x1=\"50%\" x2=\"50%\" y1=\"1.2em\" y2=\"3em\" /></svg><line stroke=\"black\" x1=\"50%\" x2=\"17.909%\" y1=\"1.2em\" y2=\"3em\" /><svg width=\"1.16167%\" x=\"18.2962%\" y=\"3em\"><defs /><svg width=\"100%\" x=\"0\" y=\"0em\"><defs /><text text-anchor=\"middle\" x=\"50%\" y=\"1em\">scepticism</text></svg><svg width=\"100%\" x=\"0%\" y=\"3em\"><defs /><svg width=\"100%\" x=\"0\" y=\"0em\"><defs /><text text-anchor=\"middle\" x=\"50%\" y=\"1em\">VBP</text></svg></svg><line stroke=\"black\" x1=\"50%\" x2=\"50%\" y1=\"1.2em\" y2=\"3em\" /></svg><line stroke=\"black\" x1=\"50%\" x2=\"18.8771%\" y1=\"1.2em\" y2=\"3em\" /><svg width=\"0.774443%\" x=\"19.4579%\" y=\"3em\"><defs /><svg width=\"100%\" x=\"0\" y=\"0em\"><defs /><text text-anchor=\"middle\" x=\"50%\" y=\"1em\">toward</text></svg><svg width=\"100%\" x=\"0%\" y=\"3em\"><defs /><svg width=\"100%\" x=\"0\" y=\"0em\"><defs /><text text-anchor=\"middle\" x=\"50%\" y=\"1em\">IN</text></svg></svg><line stroke=\"black\" x1=\"50%\" x2=\"50%\" y1=\"1.2em\" y2=\"3em\" /></svg><line stroke=\"black\" x1=\"50%\" x2=\"19.8451%\" y1=\"1.2em\" y2=\"3em\" /><svg width=\"1.06486%\" x=\"20.2323%\" y=\"3em\"><defs /><svg width=\"100%\" x=\"0\" y=\"0em\"><defs /><text text-anchor=\"middle\" x=\"50%\" y=\"1em\">authority</text></svg><svg width=\"100%\" x=\"0%\" y=\"3em\"><defs /><svg width=\"100%\" x=\"0\" y=\"0em\"><defs /><text text-anchor=\"middle\" x=\"50%\" y=\"1em\">NN</text></svg></svg><line stroke=\"black\" x1=\"50%\" x2=\"50%\" y1=\"1.2em\" y2=\"3em\" /></svg><line stroke=\"black\" x1=\"50%\" x2=\"20.7648%\" y1=\"1.2em\" y2=\"3em\" /><svg width=\"0.580833%\" x=\"21.2972%\" y=\"3em\"><defs /><svg width=\"100%\" x=\"0\" y=\"0em\"><defs /><text text-anchor=\"middle\" x=\"50%\" y=\"1em\">also</text></svg><svg width=\"100%\" x=\"0%\" y=\"3em\"><defs /><svg width=\"100%\" x=\"0\" y=\"0em\"><defs /><text text-anchor=\"middle\" x=\"50%\" y=\"1em\">RB</text></svg></svg><line stroke=\"black\" x1=\"50%\" x2=\"50%\" y1=\"1.2em\" y2=\"3em\" /></svg><line stroke=\"black\" x1=\"50%\" x2=\"21.5876%\" y1=\"1.2em\" y2=\"3em\" /><svg width=\"0.580833%\" x=\"21.878%\" y=\"3em\"><defs /><svg width=\"100%\" x=\"0\" y=\"0em\"><defs /><text text-anchor=\"middle\" x=\"50%\" y=\"1em\">rose</text></svg><svg width=\"100%\" x=\"0%\" y=\"3em\"><defs /><svg width=\"100%\" x=\"0\" y=\"0em\"><defs /><text text-anchor=\"middle\" x=\"50%\" y=\"1em\">VBD</text></svg></svg><line stroke=\"black\" x1=\"50%\" x2=\"50%\" y1=\"1.2em\" y2=\"3em\" /></svg><line stroke=\"black\" x1=\"50%\" x2=\"22.1684%\" y1=\"1.2em\" y2=\"3em\" /><svg width=\"0.968054%\" x=\"22.4589%\" y=\"3em\"><defs /><svg width=\"100%\" x=\"0\" y=\"0em\"><defs /><text text-anchor=\"middle\" x=\"50%\" y=\"1em\">Although</text></svg><svg width=\"100%\" x=\"0%\" y=\"3em\"><defs /><svg width=\"100%\" x=\"0\" y=\"0em\"><defs /><text text-anchor=\"middle\" x=\"50%\" y=\"1em\">IN</text></svg></svg><line stroke=\"black\" x1=\"50%\" x2=\"50%\" y1=\"1.2em\" y2=\"3em\" /></svg><line stroke=\"black\" x1=\"50%\" x2=\"22.9429%\" y1=\"1.2em\" y2=\"3em\" /><svg width=\"0.774443%\" x=\"23.4269%\" y=\"3em\"><defs /><svg width=\"100%\" x=\"0\" y=\"0em\"><defs /><text text-anchor=\"middle\" x=\"50%\" y=\"1em\">traces</text></svg><svg width=\"100%\" x=\"0%\" y=\"3em\"><defs /><svg width=\"100%\" x=\"0\" y=\"0em\"><defs /><text text-anchor=\"middle\" x=\"50%\" y=\"1em\">NNS</text></svg></svg><line stroke=\"black\" x1=\"50%\" x2=\"50%\" y1=\"1.2em\" y2=\"3em\" /></svg><line stroke=\"black\" x1=\"50%\" x2=\"23.8141%\" y1=\"1.2em\" y2=\"3em\" /><svg width=\"0.387222%\" x=\"24.2014%\" y=\"3em\"><defs /><svg width=\"100%\" x=\"0\" y=\"0em\"><defs /><text text-anchor=\"middle\" x=\"50%\" y=\"1em\">of</text></svg><svg width=\"100%\" x=\"0%\" y=\"3em\"><defs /><svg width=\"100%\" x=\"0\" y=\"0em\"><defs /><text text-anchor=\"middle\" x=\"50%\" y=\"1em\">IN</text></svg></svg><line stroke=\"black\" x1=\"50%\" x2=\"50%\" y1=\"1.2em\" y2=\"3em\" /></svg><line stroke=\"black\" x1=\"50%\" x2=\"24.395%\" y1=\"1.2em\" y2=\"3em\" /><svg width=\"1.06486%\" x=\"24.5886%\" y=\"3em\"><defs /><svg width=\"100%\" x=\"0\" y=\"0em\"><defs /><text text-anchor=\"middle\" x=\"50%\" y=\"1em\">anarchist</text></svg><svg width=\"100%\" x=\"0%\" y=\"3em\"><defs /><svg width=\"100%\" x=\"0\" y=\"0em\"><defs /><text text-anchor=\"middle\" x=\"50%\" y=\"1em\">JJ</text></svg></svg><line stroke=\"black\" x1=\"50%\" x2=\"50%\" y1=\"1.2em\" y2=\"3em\" /></svg><line stroke=\"black\" x1=\"50%\" x2=\"25.121%\" y1=\"1.2em\" y2=\"3em\" /><svg width=\"0.871249%\" x=\"25.6534%\" y=\"3em\"><defs /><svg width=\"100%\" x=\"0\" y=\"0em\"><defs /><text text-anchor=\"middle\" x=\"50%\" y=\"1em\">thought</text></svg><svg width=\"100%\" x=\"0%\" y=\"3em\"><defs /><svg width=\"100%\" x=\"0\" y=\"0em\"><defs /><text text-anchor=\"middle\" x=\"50%\" y=\"1em\">NN</text></svg></svg><line stroke=\"black\" x1=\"50%\" x2=\"50%\" y1=\"1.2em\" y2=\"3em\" /></svg><line stroke=\"black\" x1=\"50%\" x2=\"26.0891%\" y1=\"1.2em\" y2=\"3em\" /><svg width=\"0.484027%\" x=\"26.5247%\" y=\"3em\"><defs /><svg width=\"100%\" x=\"0\" y=\"0em\"><defs /><text text-anchor=\"middle\" x=\"50%\" y=\"1em\">are</text></svg><svg width=\"100%\" x=\"0%\" y=\"3em\"><defs /><svg width=\"100%\" x=\"0\" y=\"0em\"><defs /><text text-anchor=\"middle\" x=\"50%\" y=\"1em\">VBP</text></svg></svg><line stroke=\"black\" x1=\"50%\" x2=\"50%\" y1=\"1.2em\" y2=\"3em\" /></svg><line stroke=\"black\" x1=\"50%\" x2=\"26.7667%\" y1=\"1.2em\" y2=\"3em\" /><svg width=\"0.677638%\" x=\"27.0087%\" y=\"3em\"><defs /><svg width=\"100%\" x=\"0\" y=\"0em\"><defs /><text text-anchor=\"middle\" x=\"50%\" y=\"1em\">found</text></svg><svg width=\"100%\" x=\"0%\" y=\"3em\"><defs /><svg width=\"100%\" x=\"0\" y=\"0em\"><defs /><text text-anchor=\"middle\" x=\"50%\" y=\"1em\">VBN</text></svg></svg><line stroke=\"black\" x1=\"50%\" x2=\"50%\" y1=\"1.2em\" y2=\"3em\" /></svg><line stroke=\"black\" x1=\"50%\" x2=\"27.3475%\" y1=\"1.2em\" y2=\"3em\" /><svg width=\"1.16167%\" x=\"27.6864%\" y=\"3em\"><defs /><svg width=\"100%\" x=\"0\" y=\"0em\"><defs /><text text-anchor=\"middle\" x=\"50%\" y=\"1em\">throughout</text></svg><svg width=\"100%\" x=\"0%\" y=\"3em\"><defs /><svg width=\"100%\" x=\"0\" y=\"0em\"><defs /><text text-anchor=\"middle\" x=\"50%\" y=\"1em\">IN</text></svg></svg><line stroke=\"black\" x1=\"50%\" x2=\"50%\" y1=\"1.2em\" y2=\"3em\" /></svg><line stroke=\"black\" x1=\"50%\" x2=\"28.2672%\" y1=\"1.2em\" y2=\"3em\" /><svg width=\"0.871249%\" x=\"28.848%\" y=\"3em\"><defs /><svg width=\"100%\" x=\"0\" y=\"0em\"><defs /><text text-anchor=\"middle\" x=\"50%\" y=\"1em\">history</text></svg><svg width=\"100%\" x=\"0%\" y=\"3em\"><defs /><svg width=\"100%\" x=\"0\" y=\"0em\"><defs /><text text-anchor=\"middle\" x=\"50%\" y=\"1em\">NN</text></svg></svg><line stroke=\"black\" x1=\"50%\" x2=\"50%\" y1=\"1.2em\" y2=\"3em\" /></svg><line stroke=\"black\" x1=\"50%\" x2=\"29.2836%\" y1=\"1.2em\" y2=\"3em\" /><svg width=\"0.774443%\" x=\"29.7193%\" y=\"3em\"><defs /><svg width=\"100%\" x=\"0\" y=\"0em\"><defs /><text text-anchor=\"middle\" x=\"50%\" y=\"1em\">modern</text></svg><svg width=\"100%\" x=\"0%\" y=\"3em\"><defs /><svg width=\"100%\" x=\"0\" y=\"0em\"><defs /><text text-anchor=\"middle\" x=\"50%\" y=\"1em\">JJ</text></svg></svg><line stroke=\"black\" x1=\"50%\" x2=\"50%\" y1=\"1.2em\" y2=\"3em\" /></svg><line stroke=\"black\" x1=\"50%\" x2=\"30.1065%\" y1=\"1.2em\" y2=\"3em\" /><svg width=\"1.06486%\" x=\"30.4937%\" y=\"3em\"><defs /><svg width=\"100%\" x=\"0\" y=\"0em\"><defs /><text text-anchor=\"middle\" x=\"50%\" y=\"1em\">anarchism</text></svg><svg width=\"100%\" x=\"0%\" y=\"3em\"><defs /><svg width=\"100%\" x=\"0\" y=\"0em\"><defs /><text text-anchor=\"middle\" x=\"50%\" y=\"1em\">NN</text></svg></svg><line stroke=\"black\" x1=\"50%\" x2=\"50%\" y1=\"1.2em\" y2=\"3em\" /></svg><line stroke=\"black\" x1=\"50%\" x2=\"31.0261%\" y1=\"1.2em\" y2=\"3em\" /><svg width=\"0.871249%\" x=\"31.5586%\" y=\"3em\"><defs /><svg width=\"100%\" x=\"0\" y=\"0em\"><defs /><text text-anchor=\"middle\" x=\"50%\" y=\"1em\">emerged</text></svg><svg width=\"100%\" x=\"0%\" y=\"3em\"><defs /><svg width=\"100%\" x=\"0\" y=\"0em\"><defs /><text text-anchor=\"middle\" x=\"50%\" y=\"1em\">VBD</text></svg></svg><line stroke=\"black\" x1=\"50%\" x2=\"50%\" y1=\"1.2em\" y2=\"3em\" /></svg><line stroke=\"black\" x1=\"50%\" x2=\"31.9942%\" y1=\"1.2em\" y2=\"3em\" /><svg width=\"0.580833%\" x=\"32.4298%\" y=\"3em\"><defs /><svg width=\"100%\" x=\"0\" y=\"0em\"><defs /><text text-anchor=\"middle\" x=\"50%\" y=\"1em\">from</text></svg><svg width=\"100%\" x=\"0%\" y=\"3em\"><defs /><svg width=\"100%\" x=\"0\" y=\"0em\"><defs /><text text-anchor=\"middle\" x=\"50%\" y=\"1em\">IN</text></svg></svg><line stroke=\"black\" x1=\"50%\" x2=\"50%\" y1=\"1.2em\" y2=\"3em\" /></svg><line stroke=\"black\" x1=\"50%\" x2=\"32.7202%\" y1=\"1.2em\" y2=\"3em\" /><svg width=\"0.484027%\" x=\"33.0106%\" y=\"3em\"><defs /><svg width=\"100%\" x=\"0\" y=\"0em\"><defs /><text text-anchor=\"middle\" x=\"50%\" y=\"1em\">the</text></svg><svg width=\"100%\" x=\"0%\" y=\"3em\"><defs /><svg width=\"100%\" x=\"0\" y=\"0em\"><defs /><text text-anchor=\"middle\" x=\"50%\" y=\"1em\">DT</text></svg></svg><line stroke=\"black\" x1=\"50%\" x2=\"50%\" y1=\"1.2em\" y2=\"3em\" /></svg><line stroke=\"black\" x1=\"50%\" x2=\"33.2527%\" y1=\"1.2em\" y2=\"3em\" /><svg width=\"1.45208%\" x=\"33.4947%\" y=\"3em\"><defs /><svg width=\"100%\" x=\"0\" y=\"0em\"><defs /><text text-anchor=\"middle\" x=\"50%\" y=\"1em\">Enlightenment</text></svg><svg width=\"100%\" x=\"0%\" y=\"3em\"><defs /><svg width=\"100%\" x=\"0\" y=\"0em\"><defs /><text text-anchor=\"middle\" x=\"50%\" y=\"1em\">NNP</text></svg></svg><line stroke=\"black\" x1=\"50%\" x2=\"50%\" y1=\"1.2em\" y2=\"3em\" /></svg><line stroke=\"black\" x1=\"50%\" x2=\"34.2207%\" y1=\"1.2em\" y2=\"3em\" /><svg width=\"0.774443%\" x=\"34.9468%\" y=\"3em\"><defs /><svg width=\"100%\" x=\"0\" y=\"0em\"><defs /><text text-anchor=\"middle\" x=\"50%\" y=\"1em\">During</text></svg><svg width=\"100%\" x=\"0%\" y=\"3em\"><defs /><svg width=\"100%\" x=\"0\" y=\"0em\"><defs /><text text-anchor=\"middle\" x=\"50%\" y=\"1em\">IN</text></svg></svg><line stroke=\"black\" x1=\"50%\" x2=\"50%\" y1=\"1.2em\" y2=\"3em\" /></svg><line stroke=\"black\" x1=\"50%\" x2=\"35.334%\" y1=\"1.2em\" y2=\"3em\" /><svg width=\"0.484027%\" x=\"35.7212%\" y=\"3em\"><defs /><svg width=\"100%\" x=\"0\" y=\"0em\"><defs /><text text-anchor=\"middle\" x=\"50%\" y=\"1em\">the</text></svg><svg width=\"100%\" x=\"0%\" y=\"3em\"><defs /><svg width=\"100%\" x=\"0\" y=\"0em\"><defs /><text text-anchor=\"middle\" x=\"50%\" y=\"1em\">DT</text></svg></svg><line stroke=\"black\" x1=\"50%\" x2=\"50%\" y1=\"1.2em\" y2=\"3em\" /></svg><line stroke=\"black\" x1=\"50%\" x2=\"35.9632%\" y1=\"1.2em\" y2=\"3em\" /><svg width=\"0.774443%\" x=\"36.2052%\" y=\"3em\"><defs /><svg width=\"100%\" x=\"0\" y=\"0em\"><defs /><text text-anchor=\"middle\" x=\"50%\" y=\"1em\">latter</text></svg><svg width=\"100%\" x=\"0%\" y=\"3em\"><defs /><svg width=\"100%\" x=\"0\" y=\"0em\"><defs /><text text-anchor=\"middle\" x=\"50%\" y=\"1em\">JJ</text></svg></svg><line stroke=\"black\" x1=\"50%\" x2=\"50%\" y1=\"1.2em\" y2=\"3em\" /></svg><line stroke=\"black\" x1=\"50%\" x2=\"36.5924%\" y1=\"1.2em\" y2=\"3em\" /><svg width=\"0.580833%\" x=\"36.9797%\" y=\"3em\"><defs /><svg width=\"100%\" x=\"0\" y=\"0em\"><defs /><text text-anchor=\"middle\" x=\"50%\" y=\"1em\">half</text></svg><svg width=\"100%\" x=\"0%\" y=\"3em\"><defs /><svg width=\"100%\" x=\"0\" y=\"0em\"><defs /><text text-anchor=\"middle\" x=\"50%\" y=\"1em\">NN</text></svg></svg><line stroke=\"black\" x1=\"50%\" x2=\"50%\" y1=\"1.2em\" y2=\"3em\" /></svg><line stroke=\"black\" x1=\"50%\" x2=\"37.2701%\" y1=\"1.2em\" y2=\"3em\" /><svg width=\"0.387222%\" x=\"37.5605%\" y=\"3em\"><defs /><svg width=\"100%\" x=\"0\" y=\"0em\"><defs /><text text-anchor=\"middle\" x=\"50%\" y=\"1em\">of</text></svg><svg width=\"100%\" x=\"0%\" y=\"3em\"><defs /><svg width=\"100%\" x=\"0\" y=\"0em\"><defs /><text text-anchor=\"middle\" x=\"50%\" y=\"1em\">IN</text></svg></svg><line stroke=\"black\" x1=\"50%\" x2=\"50%\" y1=\"1.2em\" y2=\"3em\" /></svg><line stroke=\"black\" x1=\"50%\" x2=\"37.7541%\" y1=\"1.2em\" y2=\"3em\" /><svg width=\"0.484027%\" x=\"37.9477%\" y=\"3em\"><defs /><svg width=\"100%\" x=\"0\" y=\"0em\"><defs /><text text-anchor=\"middle\" x=\"50%\" y=\"1em\">the</text></svg><svg width=\"100%\" x=\"0%\" y=\"3em\"><defs /><svg width=\"100%\" x=\"0\" y=\"0em\"><defs /><text text-anchor=\"middle\" x=\"50%\" y=\"1em\">DT</text></svg></svg><line stroke=\"black\" x1=\"50%\" x2=\"50%\" y1=\"1.2em\" y2=\"3em\" /></svg><line stroke=\"black\" x1=\"50%\" x2=\"38.1897%\" y1=\"1.2em\" y2=\"3em\" /><svg width=\"0.580833%\" x=\"38.4318%\" y=\"3em\"><defs /><svg width=\"100%\" x=\"0\" y=\"0em\"><defs /><text text-anchor=\"middle\" x=\"50%\" y=\"1em\">19th</text></svg><svg width=\"100%\" x=\"0%\" y=\"3em\"><defs /><svg width=\"100%\" x=\"0\" y=\"0em\"><defs /><text text-anchor=\"middle\" x=\"50%\" y=\"1em\">CD</text></svg></svg><line stroke=\"black\" x1=\"50%\" x2=\"50%\" y1=\"1.2em\" y2=\"3em\" /></svg><line stroke=\"black\" x1=\"50%\" x2=\"38.7222%\" y1=\"1.2em\" y2=\"3em\" /><svg width=\"0.484027%\" x=\"39.0126%\" y=\"3em\"><defs /><svg width=\"100%\" x=\"0\" y=\"0em\"><defs /><text text-anchor=\"middle\" x=\"50%\" y=\"1em\">and</text></svg><svg width=\"100%\" x=\"0%\" y=\"3em\"><defs /><svg width=\"100%\" x=\"0\" y=\"0em\"><defs /><text text-anchor=\"middle\" x=\"50%\" y=\"1em\">CC</text></svg></svg><line stroke=\"black\" x1=\"50%\" x2=\"50%\" y1=\"1.2em\" y2=\"3em\" /></svg><line stroke=\"black\" x1=\"50%\" x2=\"39.2546%\" y1=\"1.2em\" y2=\"3em\" /><svg width=\"0.484027%\" x=\"39.4966%\" y=\"3em\"><defs /><svg width=\"100%\" x=\"0\" y=\"0em\"><defs /><text text-anchor=\"middle\" x=\"50%\" y=\"1em\">the</text></svg><svg width=\"100%\" x=\"0%\" y=\"3em\"><defs /><svg width=\"100%\" x=\"0\" y=\"0em\"><defs /><text text-anchor=\"middle\" x=\"50%\" y=\"1em\">DT</text></svg></svg><line stroke=\"black\" x1=\"50%\" x2=\"50%\" y1=\"1.2em\" y2=\"3em\" /></svg><line stroke=\"black\" x1=\"50%\" x2=\"39.7386%\" y1=\"1.2em\" y2=\"3em\" /><svg width=\"0.677638%\" x=\"39.9806%\" y=\"3em\"><defs /><svg width=\"100%\" x=\"0\" y=\"0em\"><defs /><text text-anchor=\"middle\" x=\"50%\" y=\"1em\">first</text></svg><svg width=\"100%\" x=\"0%\" y=\"3em\"><defs /><svg width=\"100%\" x=\"0\" y=\"0em\"><defs /><text text-anchor=\"middle\" x=\"50%\" y=\"1em\">JJ</text></svg></svg><line stroke=\"black\" x1=\"50%\" x2=\"50%\" y1=\"1.2em\" y2=\"3em\" /></svg><line stroke=\"black\" x1=\"50%\" x2=\"40.3195%\" y1=\"1.2em\" y2=\"3em\" /><svg width=\"0.871249%\" x=\"40.6583%\" y=\"3em\"><defs /><svg width=\"100%\" x=\"0\" y=\"0em\"><defs /><text text-anchor=\"middle\" x=\"50%\" y=\"1em\">decades</text></svg><svg width=\"100%\" x=\"0%\" y=\"3em\"><defs /><svg width=\"100%\" x=\"0\" y=\"0em\"><defs /><text text-anchor=\"middle\" x=\"50%\" y=\"1em\">NNS</text></svg></svg><line stroke=\"black\" x1=\"50%\" x2=\"50%\" y1=\"1.2em\" y2=\"3em\" /></svg><line stroke=\"black\" x1=\"50%\" x2=\"41.0939%\" y1=\"1.2em\" y2=\"3em\" /><svg width=\"0.387222%\" x=\"41.5295%\" y=\"3em\"><defs /><svg width=\"100%\" x=\"0\" y=\"0em\"><defs /><text text-anchor=\"middle\" x=\"50%\" y=\"1em\">of</text></svg><svg width=\"100%\" x=\"0%\" y=\"3em\"><defs /><svg width=\"100%\" x=\"0\" y=\"0em\"><defs /><text text-anchor=\"middle\" x=\"50%\" y=\"1em\">IN</text></svg></svg><line stroke=\"black\" x1=\"50%\" x2=\"50%\" y1=\"1.2em\" y2=\"3em\" /></svg><line stroke=\"black\" x1=\"50%\" x2=\"41.7231%\" y1=\"1.2em\" y2=\"3em\" /><svg width=\"0.484027%\" x=\"41.9167%\" y=\"3em\"><defs /><svg width=\"100%\" x=\"0\" y=\"0em\"><defs /><text text-anchor=\"middle\" x=\"50%\" y=\"1em\">the</text></svg><svg width=\"100%\" x=\"0%\" y=\"3em\"><defs /><svg width=\"100%\" x=\"0\" y=\"0em\"><defs /><text text-anchor=\"middle\" x=\"50%\" y=\"1em\">DT</text></svg></svg><line stroke=\"black\" x1=\"50%\" x2=\"50%\" y1=\"1.2em\" y2=\"3em\" /></svg><line stroke=\"black\" x1=\"50%\" x2=\"42.1588%\" y1=\"1.2em\" y2=\"3em\" /><svg width=\"0.580833%\" x=\"42.4008%\" y=\"3em\"><defs /><svg width=\"100%\" x=\"0\" y=\"0em\"><defs /><text text-anchor=\"middle\" x=\"50%\" y=\"1em\">20th</text></svg><svg width=\"100%\" x=\"0%\" y=\"3em\"><defs /><svg width=\"100%\" x=\"0\" y=\"0em\"><defs /><text text-anchor=\"middle\" x=\"50%\" y=\"1em\">JJ</text></svg></svg><line stroke=\"black\" x1=\"50%\" x2=\"50%\" y1=\"1.2em\" y2=\"3em\" /></svg><line stroke=\"black\" x1=\"50%\" x2=\"42.6912%\" y1=\"1.2em\" y2=\"3em\" /><svg width=\"0.871249%\" x=\"42.9816%\" y=\"3em\"><defs /><svg width=\"100%\" x=\"0\" y=\"0em\"><defs /><text text-anchor=\"middle\" x=\"50%\" y=\"1em\">century</text></svg><svg width=\"100%\" x=\"0%\" y=\"3em\"><defs /><svg width=\"100%\" x=\"0\" y=\"0em\"><defs /><text text-anchor=\"middle\" x=\"50%\" y=\"1em\">NN</text></svg></svg><line stroke=\"black\" x1=\"50%\" x2=\"50%\" y1=\"1.2em\" y2=\"3em\" /></svg><line stroke=\"black\" x1=\"50%\" x2=\"43.4172%\" y1=\"1.2em\" y2=\"3em\" /><svg width=\"0.484027%\" x=\"43.8529%\" y=\"3em\"><defs /><svg width=\"100%\" x=\"0\" y=\"0em\"><defs /><text text-anchor=\"middle\" x=\"50%\" y=\"1em\">the</text></svg><svg width=\"100%\" x=\"0%\" y=\"3em\"><defs /><svg width=\"100%\" x=\"0\" y=\"0em\"><defs /><text text-anchor=\"middle\" x=\"50%\" y=\"1em\">DT</text></svg></svg><line stroke=\"black\" x1=\"50%\" x2=\"50%\" y1=\"1.2em\" y2=\"3em\" /></svg><line stroke=\"black\" x1=\"50%\" x2=\"44.0949%\" y1=\"1.2em\" y2=\"3em\" /><svg width=\"1.06486%\" x=\"44.3369%\" y=\"3em\"><defs /><svg width=\"100%\" x=\"0\" y=\"0em\"><defs /><text text-anchor=\"middle\" x=\"50%\" y=\"1em\">anarchist</text></svg><svg width=\"100%\" x=\"0%\" y=\"3em\"><defs /><svg width=\"100%\" x=\"0\" y=\"0em\"><defs /><text text-anchor=\"middle\" x=\"50%\" y=\"1em\">JJ</text></svg></svg><line stroke=\"black\" x1=\"50%\" x2=\"50%\" y1=\"1.2em\" y2=\"3em\" /></svg><line stroke=\"black\" x1=\"50%\" x2=\"44.8693%\" y1=\"1.2em\" y2=\"3em\" /><svg width=\"0.968054%\" x=\"45.4017%\" y=\"3em\"><defs /><svg width=\"100%\" x=\"0\" y=\"0em\"><defs /><text text-anchor=\"middle\" x=\"50%\" y=\"1em\">movement</text></svg><svg width=\"100%\" x=\"0%\" y=\"3em\"><defs /><svg width=\"100%\" x=\"0\" y=\"0em\"><defs /><text text-anchor=\"middle\" x=\"50%\" y=\"1em\">NN</text></svg></svg><line stroke=\"black\" x1=\"50%\" x2=\"50%\" y1=\"1.2em\" y2=\"3em\" /></svg><line stroke=\"black\" x1=\"50%\" x2=\"45.8858%\" y1=\"1.2em\" y2=\"3em\" /><svg width=\"1.16167%\" x=\"46.3698%\" y=\"3em\"><defs /><svg width=\"100%\" x=\"0\" y=\"0em\"><defs /><text text-anchor=\"middle\" x=\"50%\" y=\"1em\">flourished</text></svg><svg width=\"100%\" x=\"0%\" y=\"3em\"><defs /><svg width=\"100%\" x=\"0\" y=\"0em\"><defs /><text text-anchor=\"middle\" x=\"50%\" y=\"1em\">VBN</text></svg></svg><line stroke=\"black\" x1=\"50%\" x2=\"50%\" y1=\"1.2em\" y2=\"3em\" /></svg><line stroke=\"black\" x1=\"50%\" x2=\"46.9506%\" y1=\"1.2em\" y2=\"3em\" /><svg width=\"0.387222%\" x=\"47.5315%\" y=\"3em\"><defs /><svg width=\"100%\" x=\"0\" y=\"0em\"><defs /><text text-anchor=\"middle\" x=\"50%\" y=\"1em\">in</text></svg><svg width=\"100%\" x=\"0%\" y=\"3em\"><defs /><svg width=\"100%\" x=\"0\" y=\"0em\"><defs /><text text-anchor=\"middle\" x=\"50%\" y=\"1em\">IN</text></svg></svg><line stroke=\"black\" x1=\"50%\" x2=\"50%\" y1=\"1.2em\" y2=\"3em\" /></svg><line stroke=\"black\" x1=\"50%\" x2=\"47.7251%\" y1=\"1.2em\" y2=\"3em\" /><svg width=\"0.580833%\" x=\"47.9187%\" y=\"3em\"><defs /><svg width=\"100%\" x=\"0\" y=\"0em\"><defs /><text text-anchor=\"middle\" x=\"50%\" y=\"1em\">most</text></svg><svg width=\"100%\" x=\"0%\" y=\"3em\"><defs /><svg width=\"100%\" x=\"0\" y=\"0em\"><defs /><text text-anchor=\"middle\" x=\"50%\" y=\"1em\">JJS</text></svg></svg><line stroke=\"black\" x1=\"50%\" x2=\"50%\" y1=\"1.2em\" y2=\"3em\" /></svg><line stroke=\"black\" x1=\"50%\" x2=\"48.2091%\" y1=\"1.2em\" y2=\"3em\" /><svg width=\"0.677638%\" x=\"48.4995%\" y=\"3em\"><defs /><svg width=\"100%\" x=\"0\" y=\"0em\"><defs /><text text-anchor=\"middle\" x=\"50%\" y=\"1em\">parts</text></svg><svg width=\"100%\" x=\"0%\" y=\"3em\"><defs /><svg width=\"100%\" x=\"0\" y=\"0em\"><defs /><text text-anchor=\"middle\" x=\"50%\" y=\"1em\">NNS</text></svg></svg><line stroke=\"black\" x1=\"50%\" x2=\"50%\" y1=\"1.2em\" y2=\"3em\" /></svg><line stroke=\"black\" x1=\"50%\" x2=\"48.8383%\" y1=\"1.2em\" y2=\"3em\" /><svg width=\"0.387222%\" x=\"49.1772%\" y=\"3em\"><defs /><svg width=\"100%\" x=\"0\" y=\"0em\"><defs /><text text-anchor=\"middle\" x=\"50%\" y=\"1em\">of</text></svg><svg width=\"100%\" x=\"0%\" y=\"3em\"><defs /><svg width=\"100%\" x=\"0\" y=\"0em\"><defs /><text text-anchor=\"middle\" x=\"50%\" y=\"1em\">IN</text></svg></svg><line stroke=\"black\" x1=\"50%\" x2=\"50%\" y1=\"1.2em\" y2=\"3em\" /></svg><line stroke=\"black\" x1=\"50%\" x2=\"49.3708%\" y1=\"1.2em\" y2=\"3em\" /><svg width=\"0.484027%\" x=\"49.5644%\" y=\"3em\"><defs /><svg width=\"100%\" x=\"0\" y=\"0em\"><defs /><text text-anchor=\"middle\" x=\"50%\" y=\"1em\">the</text></svg><svg width=\"100%\" x=\"0%\" y=\"3em\"><defs /><svg width=\"100%\" x=\"0\" y=\"0em\"><defs /><text text-anchor=\"middle\" x=\"50%\" y=\"1em\">DT</text></svg></svg><line stroke=\"black\" x1=\"50%\" x2=\"50%\" y1=\"1.2em\" y2=\"3em\" /></svg><line stroke=\"black\" x1=\"50%\" x2=\"49.8064%\" y1=\"1.2em\" y2=\"3em\" /><svg width=\"0.677638%\" x=\"50.0484%\" y=\"3em\"><defs /><svg width=\"100%\" x=\"0\" y=\"0em\"><defs /><text text-anchor=\"middle\" x=\"50%\" y=\"1em\">world</text></svg><svg width=\"100%\" x=\"0%\" y=\"3em\"><defs /><svg width=\"100%\" x=\"0\" y=\"0em\"><defs /><text text-anchor=\"middle\" x=\"50%\" y=\"1em\">NN</text></svg></svg><line stroke=\"black\" x1=\"50%\" x2=\"50%\" y1=\"1.2em\" y2=\"3em\" /></svg><line stroke=\"black\" x1=\"50%\" x2=\"50.3872%\" y1=\"1.2em\" y2=\"3em\" /><svg width=\"0.484027%\" x=\"50.726%\" y=\"3em\"><defs /><svg width=\"100%\" x=\"0\" y=\"0em\"><defs /><text text-anchor=\"middle\" x=\"50%\" y=\"1em\">and</text></svg><svg width=\"100%\" x=\"0%\" y=\"3em\"><defs /><svg width=\"100%\" x=\"0\" y=\"0em\"><defs /><text text-anchor=\"middle\" x=\"50%\" y=\"1em\">CC</text></svg></svg><line stroke=\"black\" x1=\"50%\" x2=\"50%\" y1=\"1.2em\" y2=\"3em\" /></svg><line stroke=\"black\" x1=\"50%\" x2=\"50.9681%\" y1=\"1.2em\" y2=\"3em\" /><svg width=\"0.484027%\" x=\"51.2101%\" y=\"3em\"><defs /><svg width=\"100%\" x=\"0\" y=\"0em\"><defs /><text text-anchor=\"middle\" x=\"50%\" y=\"1em\">had</text></svg><svg width=\"100%\" x=\"0%\" y=\"3em\"><defs /><svg width=\"100%\" x=\"0\" y=\"0em\"><defs /><text text-anchor=\"middle\" x=\"50%\" y=\"1em\">VBD</text></svg></svg><line stroke=\"black\" x1=\"50%\" x2=\"50%\" y1=\"1.2em\" y2=\"3em\" /></svg><line stroke=\"black\" x1=\"50%\" x2=\"51.4521%\" y1=\"1.2em\" y2=\"3em\" /><svg width=\"0.387222%\" x=\"51.6941%\" y=\"3em\"><defs /><svg width=\"100%\" x=\"0\" y=\"0em\"><defs /><text text-anchor=\"middle\" x=\"50%\" y=\"1em\">a</text></svg><svg width=\"100%\" x=\"0%\" y=\"3em\"><defs /><svg width=\"100%\" x=\"0\" y=\"0em\"><defs /><text text-anchor=\"middle\" x=\"50%\" y=\"1em\">DT</text></svg></svg><line stroke=\"black\" x1=\"50%\" x2=\"50%\" y1=\"1.2em\" y2=\"3em\" /></svg><line stroke=\"black\" x1=\"50%\" x2=\"51.8877%\" y1=\"1.2em\" y2=\"3em\" /><svg width=\"1.25847%\" x=\"52.0813%\" y=\"3em\"><defs /><svg width=\"100%\" x=\"0\" y=\"0em\"><defs /><text text-anchor=\"middle\" x=\"50%\" y=\"1em\">significant</text></svg><svg width=\"100%\" x=\"0%\" y=\"3em\"><defs /><svg width=\"100%\" x=\"0\" y=\"0em\"><defs /><text text-anchor=\"middle\" x=\"50%\" y=\"1em\">JJ</text></svg></svg><line stroke=\"black\" x1=\"50%\" x2=\"50%\" y1=\"1.2em\" y2=\"3em\" /></svg><line stroke=\"black\" x1=\"50%\" x2=\"52.7106%\" y1=\"1.2em\" y2=\"3em\" /><svg width=\"0.580833%\" x=\"53.3398%\" y=\"3em\"><defs /><svg width=\"100%\" x=\"0\" y=\"0em\"><defs /><text text-anchor=\"middle\" x=\"50%\" y=\"1em\">role</text></svg><svg width=\"100%\" x=\"0%\" y=\"3em\"><defs /><svg width=\"100%\" x=\"0\" y=\"0em\"><defs /><text text-anchor=\"middle\" x=\"50%\" y=\"1em\">NN</text></svg></svg><line stroke=\"black\" x1=\"50%\" x2=\"50%\" y1=\"1.2em\" y2=\"3em\" /></svg><line stroke=\"black\" x1=\"50%\" x2=\"53.6302%\" y1=\"1.2em\" y2=\"3em\" /><svg width=\"0.387222%\" x=\"53.9206%\" y=\"3em\"><defs /><svg width=\"100%\" x=\"0\" y=\"0em\"><defs /><text text-anchor=\"middle\" x=\"50%\" y=\"1em\">in</text></svg><svg width=\"100%\" x=\"0%\" y=\"3em\"><defs /><svg width=\"100%\" x=\"0\" y=\"0em\"><defs /><text text-anchor=\"middle\" x=\"50%\" y=\"1em\">IN</text></svg></svg><line stroke=\"black\" x1=\"50%\" x2=\"50%\" y1=\"1.2em\" y2=\"3em\" /></svg><line stroke=\"black\" x1=\"50%\" x2=\"54.1142%\" y1=\"1.2em\" y2=\"3em\" /><svg width=\"0.871249%\" x=\"54.3078%\" y=\"3em\"><defs /><svg width=\"100%\" x=\"0\" y=\"0em\"><defs /><text text-anchor=\"middle\" x=\"50%\" y=\"1em\">workers</text></svg><svg width=\"100%\" x=\"0%\" y=\"3em\"><defs /><svg width=\"100%\" x=\"0\" y=\"0em\"><defs /><text text-anchor=\"middle\" x=\"50%\" y=\"1em\">NNS</text></svg></svg><line stroke=\"black\" x1=\"50%\" x2=\"50%\" y1=\"1.2em\" y2=\"3em\" /></svg><line stroke=\"black\" x1=\"50%\" x2=\"54.7435%\" y1=\"1.2em\" y2=\"3em\" /><svg width=\"1.06486%\" x=\"55.1791%\" y=\"3em\"><defs /><svg width=\"100%\" x=\"0\" y=\"0em\"><defs /><text text-anchor=\"middle\" x=\"50%\" y=\"1em\">struggles</text></svg><svg width=\"100%\" x=\"0%\" y=\"3em\"><defs /><svg width=\"100%\" x=\"0\" y=\"0em\"><defs /><text text-anchor=\"middle\" x=\"50%\" y=\"1em\">NNS</text></svg></svg><line stroke=\"black\" x1=\"50%\" x2=\"50%\" y1=\"1.2em\" y2=\"3em\" /></svg><line stroke=\"black\" x1=\"50%\" x2=\"55.7115%\" y1=\"1.2em\" y2=\"3em\" /><svg width=\"0.484027%\" x=\"56.2439%\" y=\"3em\"><defs /><svg width=\"100%\" x=\"0\" y=\"0em\"><defs /><text text-anchor=\"middle\" x=\"50%\" y=\"1em\">for</text></svg><svg width=\"100%\" x=\"0%\" y=\"3em\"><defs /><svg width=\"100%\" x=\"0\" y=\"0em\"><defs /><text text-anchor=\"middle\" x=\"50%\" y=\"1em\">IN</text></svg></svg><line stroke=\"black\" x1=\"50%\" x2=\"50%\" y1=\"1.2em\" y2=\"3em\" /></svg><line stroke=\"black\" x1=\"50%\" x2=\"56.486%\" y1=\"1.2em\" y2=\"3em\" /><svg width=\"1.35528%\" x=\"56.728%\" y=\"3em\"><defs /><svg width=\"100%\" x=\"0\" y=\"0em\"><defs /><text text-anchor=\"middle\" x=\"50%\" y=\"1em\">emancipation</text></svg><svg width=\"100%\" x=\"0%\" y=\"3em\"><defs /><svg width=\"100%\" x=\"0\" y=\"0em\"><defs /><text text-anchor=\"middle\" x=\"50%\" y=\"1em\">NN</text></svg></svg><line stroke=\"black\" x1=\"50%\" x2=\"50%\" y1=\"1.2em\" y2=\"3em\" /></svg><line stroke=\"black\" x1=\"50%\" x2=\"57.4056%\" y1=\"1.2em\" y2=\"3em\" /><svg width=\"0.871249%\" x=\"58.0833%\" y=\"3em\"><defs /><svg width=\"100%\" x=\"0\" y=\"0em\"><defs /><text text-anchor=\"middle\" x=\"50%\" y=\"1em\">PERSON</text></svg><svg width=\"100%\" x=\"0%\" y=\"3em\"><defs /><svg width=\"100%\" x=\"0\" y=\"0em\"><defs /><text text-anchor=\"middle\" x=\"50%\" y=\"1em\">Various</text></svg><svg width=\"100%\" x=\"0%\" y=\"3em\"><defs /><svg width=\"100%\" x=\"0\" y=\"0em\"><defs /><text text-anchor=\"middle\" x=\"50%\" y=\"1em\">NNP</text></svg></svg><line stroke=\"black\" x1=\"50%\" x2=\"50%\" y1=\"1.2em\" y2=\"3em\" /></svg><line stroke=\"black\" x1=\"50%\" x2=\"50%\" y1=\"1.2em\" y2=\"3em\" /></svg><line stroke=\"black\" x1=\"50%\" x2=\"58.5189%\" y1=\"1.2em\" y2=\"3em\" /><svg width=\"1.06486%\" x=\"58.9545%\" y=\"3em\"><defs /><svg width=\"100%\" x=\"0\" y=\"0em\"><defs /><text text-anchor=\"middle\" x=\"50%\" y=\"1em\">anarchist</text></svg><svg width=\"100%\" x=\"0%\" y=\"3em\"><defs /><svg width=\"100%\" x=\"0\" y=\"0em\"><defs /><text text-anchor=\"middle\" x=\"50%\" y=\"1em\">NN</text></svg></svg><line stroke=\"black\" x1=\"50%\" x2=\"50%\" y1=\"1.2em\" y2=\"3em\" /></svg><line stroke=\"black\" x1=\"50%\" x2=\"59.4869%\" y1=\"1.2em\" y2=\"3em\" /><svg width=\"0.871249%\" x=\"60.0194%\" y=\"3em\"><defs /><svg width=\"100%\" x=\"0\" y=\"0em\"><defs /><text text-anchor=\"middle\" x=\"50%\" y=\"1em\">schools</text></svg><svg width=\"100%\" x=\"0%\" y=\"3em\"><defs /><svg width=\"100%\" x=\"0\" y=\"0em\"><defs /><text text-anchor=\"middle\" x=\"50%\" y=\"1em\">NNS</text></svg></svg><line stroke=\"black\" x1=\"50%\" x2=\"50%\" y1=\"1.2em\" y2=\"3em\" /></svg><line stroke=\"black\" x1=\"50%\" x2=\"60.455%\" y1=\"1.2em\" y2=\"3em\" /><svg width=\"0.387222%\" x=\"60.8906%\" y=\"3em\"><defs /><svg width=\"100%\" x=\"0\" y=\"0em\"><defs /><text text-anchor=\"middle\" x=\"50%\" y=\"1em\">of</text></svg><svg width=\"100%\" x=\"0%\" y=\"3em\"><defs /><svg width=\"100%\" x=\"0\" y=\"0em\"><defs /><text text-anchor=\"middle\" x=\"50%\" y=\"1em\">IN</text></svg></svg><line stroke=\"black\" x1=\"50%\" x2=\"50%\" y1=\"1.2em\" y2=\"3em\" /></svg><line stroke=\"black\" x1=\"50%\" x2=\"61.0842%\" y1=\"1.2em\" y2=\"3em\" /><svg width=\"0.871249%\" x=\"61.2778%\" y=\"3em\"><defs /><svg width=\"100%\" x=\"0\" y=\"0em\"><defs /><text text-anchor=\"middle\" x=\"50%\" y=\"1em\">thought</text></svg><svg width=\"100%\" x=\"0%\" y=\"3em\"><defs /><svg width=\"100%\" x=\"0\" y=\"0em\"><defs /><text text-anchor=\"middle\" x=\"50%\" y=\"1em\">NN</text></svg></svg><line stroke=\"black\" x1=\"50%\" x2=\"50%\" y1=\"1.2em\" y2=\"3em\" /></svg><line stroke=\"black\" x1=\"50%\" x2=\"61.7135%\" y1=\"1.2em\" y2=\"3em\" /><svg width=\"0.774443%\" x=\"62.1491%\" y=\"3em\"><defs /><svg width=\"100%\" x=\"0\" y=\"0em\"><defs /><text text-anchor=\"middle\" x=\"50%\" y=\"1em\">formed</text></svg><svg width=\"100%\" x=\"0%\" y=\"3em\"><defs /><svg width=\"100%\" x=\"0\" y=\"0em\"><defs /><text text-anchor=\"middle\" x=\"50%\" y=\"1em\">VBN</text></svg></svg><line stroke=\"black\" x1=\"50%\" x2=\"50%\" y1=\"1.2em\" y2=\"3em\" /></svg><line stroke=\"black\" x1=\"50%\" x2=\"62.5363%\" y1=\"1.2em\" y2=\"3em\" /><svg width=\"0.774443%\" x=\"62.9235%\" y=\"3em\"><defs /><svg width=\"100%\" x=\"0\" y=\"0em\"><defs /><text text-anchor=\"middle\" x=\"50%\" y=\"1em\">during</text></svg><svg width=\"100%\" x=\"0%\" y=\"3em\"><defs /><svg width=\"100%\" x=\"0\" y=\"0em\"><defs /><text text-anchor=\"middle\" x=\"50%\" y=\"1em\">IN</text></svg></svg><line stroke=\"black\" x1=\"50%\" x2=\"50%\" y1=\"1.2em\" y2=\"3em\" /></svg><line stroke=\"black\" x1=\"50%\" x2=\"63.3107%\" y1=\"1.2em\" y2=\"3em\" /><svg width=\"0.580833%\" x=\"63.698%\" y=\"3em\"><defs /><svg width=\"100%\" x=\"0\" y=\"0em\"><defs /><text text-anchor=\"middle\" x=\"50%\" y=\"1em\">this</text></svg><svg width=\"100%\" x=\"0%\" y=\"3em\"><defs /><svg width=\"100%\" x=\"0\" y=\"0em\"><defs /><text text-anchor=\"middle\" x=\"50%\" y=\"1em\">DT</text></svg></svg><line stroke=\"black\" x1=\"50%\" x2=\"50%\" y1=\"1.2em\" y2=\"3em\" /></svg><line stroke=\"black\" x1=\"50%\" x2=\"63.9884%\" y1=\"1.2em\" y2=\"3em\" /><svg width=\"0.774443%\" x=\"64.2788%\" y=\"3em\"><defs /><svg width=\"100%\" x=\"0\" y=\"0em\"><defs /><text text-anchor=\"middle\" x=\"50%\" y=\"1em\">period</text></svg><svg width=\"100%\" x=\"0%\" y=\"3em\"><defs /><svg width=\"100%\" x=\"0\" y=\"0em\"><defs /><text text-anchor=\"middle\" x=\"50%\" y=\"1em\">NN</text></svg></svg><line stroke=\"black\" x1=\"50%\" x2=\"50%\" y1=\"1.2em\" y2=\"3em\" /></svg><line stroke=\"black\" x1=\"50%\" x2=\"64.666%\" y1=\"1.2em\" y2=\"3em\" /><svg width=\"1.16167%\" x=\"65.0532%\" y=\"3em\"><defs /><svg width=\"100%\" x=\"0\" y=\"0em\"><defs /><text text-anchor=\"middle\" x=\"50%\" y=\"1em\">Anarchists</text></svg><svg width=\"100%\" x=\"0%\" y=\"3em\"><defs /><svg width=\"100%\" x=\"0\" y=\"0em\"><defs /><text text-anchor=\"middle\" x=\"50%\" y=\"1em\">NNS</text></svg></svg><line stroke=\"black\" x1=\"50%\" x2=\"50%\" y1=\"1.2em\" y2=\"3em\" /></svg><line stroke=\"black\" x1=\"50%\" x2=\"65.6341%\" y1=\"1.2em\" y2=\"3em\" /><svg width=\"0.580833%\" x=\"66.2149%\" y=\"3em\"><defs /><svg width=\"100%\" x=\"0\" y=\"0em\"><defs /><text text-anchor=\"middle\" x=\"50%\" y=\"1em\">have</text></svg><svg width=\"100%\" x=\"0%\" y=\"3em\"><defs /><svg width=\"100%\" x=\"0\" y=\"0em\"><defs /><text text-anchor=\"middle\" x=\"50%\" y=\"1em\">VBP</text></svg></svg><line stroke=\"black\" x1=\"50%\" x2=\"50%\" y1=\"1.2em\" y2=\"3em\" /></svg><line stroke=\"black\" x1=\"50%\" x2=\"66.5053%\" y1=\"1.2em\" y2=\"3em\" /><svg width=\"0.677638%\" x=\"66.7957%\" y=\"3em\"><defs /><svg width=\"100%\" x=\"0\" y=\"0em\"><defs /><text text-anchor=\"middle\" x=\"50%\" y=\"1em\">taken</text></svg><svg width=\"100%\" x=\"0%\" y=\"3em\"><defs /><svg width=\"100%\" x=\"0\" y=\"0em\"><defs /><text text-anchor=\"middle\" x=\"50%\" y=\"1em\">VBN</text></svg></svg><line stroke=\"black\" x1=\"50%\" x2=\"50%\" y1=\"1.2em\" y2=\"3em\" /></svg><line stroke=\"black\" x1=\"50%\" x2=\"67.1346%\" y1=\"1.2em\" y2=\"3em\" /><svg width=\"0.580833%\" x=\"67.4734%\" y=\"3em\"><defs /><svg width=\"100%\" x=\"0\" y=\"0em\"><defs /><text text-anchor=\"middle\" x=\"50%\" y=\"1em\">part</text></svg><svg width=\"100%\" x=\"0%\" y=\"3em\"><defs /><svg width=\"100%\" x=\"0\" y=\"0em\"><defs /><text text-anchor=\"middle\" x=\"50%\" y=\"1em\">NN</text></svg></svg><line stroke=\"black\" x1=\"50%\" x2=\"50%\" y1=\"1.2em\" y2=\"3em\" /></svg><line stroke=\"black\" x1=\"50%\" x2=\"67.7638%\" y1=\"1.2em\" y2=\"3em\" /><svg width=\"0.387222%\" x=\"68.0542%\" y=\"3em\"><defs /><svg width=\"100%\" x=\"0\" y=\"0em\"><defs /><text text-anchor=\"middle\" x=\"50%\" y=\"1em\">in</text></svg><svg width=\"100%\" x=\"0%\" y=\"3em\"><defs /><svg width=\"100%\" x=\"0\" y=\"0em\"><defs /><text text-anchor=\"middle\" x=\"50%\" y=\"1em\">IN</text></svg></svg><line stroke=\"black\" x1=\"50%\" x2=\"50%\" y1=\"1.2em\" y2=\"3em\" /></svg><line stroke=\"black\" x1=\"50%\" x2=\"68.2478%\" y1=\"1.2em\" y2=\"3em\" /><svg width=\"0.871249%\" x=\"68.4414%\" y=\"3em\"><defs /><svg width=\"100%\" x=\"0\" y=\"0em\"><defs /><text text-anchor=\"middle\" x=\"50%\" y=\"1em\">several</text></svg><svg width=\"100%\" x=\"0%\" y=\"3em\"><defs /><svg width=\"100%\" x=\"0\" y=\"0em\"><defs /><text text-anchor=\"middle\" x=\"50%\" y=\"1em\">JJ</text></svg></svg><line stroke=\"black\" x1=\"50%\" x2=\"50%\" y1=\"1.2em\" y2=\"3em\" /></svg><line stroke=\"black\" x1=\"50%\" x2=\"68.8771%\" y1=\"1.2em\" y2=\"3em\" /><svg width=\"1.25847%\" x=\"69.3127%\" y=\"3em\"><defs /><svg width=\"100%\" x=\"0\" y=\"0em\"><defs /><text text-anchor=\"middle\" x=\"50%\" y=\"1em\">revolutions</text></svg><svg width=\"100%\" x=\"0%\" y=\"3em\"><defs /><svg width=\"100%\" x=\"0\" y=\"0em\"><defs /><text text-anchor=\"middle\" x=\"50%\" y=\"1em\">NNS</text></svg></svg><line stroke=\"black\" x1=\"50%\" x2=\"50%\" y1=\"1.2em\" y2=\"3em\" /></svg><line stroke=\"black\" x1=\"50%\" x2=\"69.9419%\" y1=\"1.2em\" y2=\"3em\" /><svg width=\"0.580833%\" x=\"70.5712%\" y=\"3em\"><defs /><svg width=\"100%\" x=\"0\" y=\"0em\"><defs /><text text-anchor=\"middle\" x=\"50%\" y=\"1em\">most</text></svg><svg width=\"100%\" x=\"0%\" y=\"3em\"><defs /><svg width=\"100%\" x=\"0\" y=\"0em\"><defs /><text text-anchor=\"middle\" x=\"50%\" y=\"1em\">RBS</text></svg></svg><line stroke=\"black\" x1=\"50%\" x2=\"50%\" y1=\"1.2em\" y2=\"3em\" /></svg><line stroke=\"black\" x1=\"50%\" x2=\"70.8616%\" y1=\"1.2em\" y2=\"3em\" /><svg width=\"0.871249%\" x=\"71.152%\" y=\"3em\"><defs /><svg width=\"100%\" x=\"0\" y=\"0em\"><defs /><text text-anchor=\"middle\" x=\"50%\" y=\"1em\">notably</text></svg><svg width=\"100%\" x=\"0%\" y=\"3em\"><defs /><svg width=\"100%\" x=\"0\" y=\"0em\"><defs /><text text-anchor=\"middle\" x=\"50%\" y=\"1em\">RB</text></svg></svg><line stroke=\"black\" x1=\"50%\" x2=\"50%\" y1=\"1.2em\" y2=\"3em\" /></svg><line stroke=\"black\" x1=\"50%\" x2=\"71.5876%\" y1=\"1.2em\" y2=\"3em\" /><svg width=\"0.387222%\" x=\"72.0232%\" y=\"3em\"><defs /><svg width=\"100%\" x=\"0\" y=\"0em\"><defs /><text text-anchor=\"middle\" x=\"50%\" y=\"1em\">in</text></svg><svg width=\"100%\" x=\"0%\" y=\"3em\"><defs /><svg width=\"100%\" x=\"0\" y=\"0em\"><defs /><text text-anchor=\"middle\" x=\"50%\" y=\"1em\">IN</text></svg></svg><line stroke=\"black\" x1=\"50%\" x2=\"50%\" y1=\"1.2em\" y2=\"3em\" /></svg><line stroke=\"black\" x1=\"50%\" x2=\"72.2168%\" y1=\"1.2em\" y2=\"3em\" /><svg width=\"0.484027%\" x=\"72.4105%\" y=\"3em\"><defs /><svg width=\"100%\" x=\"0\" y=\"0em\"><defs /><text text-anchor=\"middle\" x=\"50%\" y=\"1em\">the</text></svg><svg width=\"100%\" x=\"0%\" y=\"3em\"><defs /><svg width=\"100%\" x=\"0\" y=\"0em\"><defs /><text text-anchor=\"middle\" x=\"50%\" y=\"1em\">DT</text></svg></svg><line stroke=\"black\" x1=\"50%\" x2=\"50%\" y1=\"1.2em\" y2=\"3em\" /></svg><line stroke=\"black\" x1=\"50%\" x2=\"72.6525%\" y1=\"1.2em\" y2=\"3em\" /><svg width=\"1.35528%\" x=\"72.8945%\" y=\"3em\"><defs /><svg width=\"100%\" x=\"0\" y=\"0em\"><defs /><text text-anchor=\"middle\" x=\"50%\" y=\"1em\">ORGANIZATION</text></svg><svg width=\"100%\" x=\"0%\" y=\"3em\"><defs /><svg width=\"100%\" x=\"0\" y=\"0em\"><defs /><text text-anchor=\"middle\" x=\"50%\" y=\"1em\">Paris</text></svg><svg width=\"100%\" x=\"0%\" y=\"3em\"><defs /><svg width=\"100%\" x=\"0\" y=\"0em\"><defs /><text text-anchor=\"middle\" x=\"50%\" y=\"1em\">NNP</text></svg></svg><line stroke=\"black\" x1=\"50%\" x2=\"50%\" y1=\"1.2em\" y2=\"3em\" /></svg><line stroke=\"black\" x1=\"50%\" x2=\"50%\" y1=\"1.2em\" y2=\"3em\" /></svg><line stroke=\"black\" x1=\"50%\" x2=\"73.5721%\" y1=\"1.2em\" y2=\"3em\" /><svg width=\"0.871249%\" x=\"74.2498%\" y=\"3em\"><defs /><svg width=\"100%\" x=\"0\" y=\"0em\"><defs /><text text-anchor=\"middle\" x=\"50%\" y=\"1em\">Commune</text></svg><svg width=\"100%\" x=\"0%\" y=\"3em\"><defs /><svg width=\"100%\" x=\"0\" y=\"0em\"><defs /><text text-anchor=\"middle\" x=\"50%\" y=\"1em\">NNP</text></svg></svg><line stroke=\"black\" x1=\"50%\" x2=\"50%\" y1=\"1.2em\" y2=\"3em\" /></svg><line stroke=\"black\" x1=\"50%\" x2=\"74.6854%\" y1=\"1.2em\" y2=\"3em\" /><svg width=\"0.484027%\" x=\"75.121%\" y=\"3em\"><defs /><svg width=\"100%\" x=\"0\" y=\"0em\"><defs /><text text-anchor=\"middle\" x=\"50%\" y=\"1em\">the</text></svg><svg width=\"100%\" x=\"0%\" y=\"3em\"><defs /><svg width=\"100%\" x=\"0\" y=\"0em\"><defs /><text text-anchor=\"middle\" x=\"50%\" y=\"1em\">DT</text></svg></svg><line stroke=\"black\" x1=\"50%\" x2=\"50%\" y1=\"1.2em\" y2=\"3em\" /></svg><line stroke=\"black\" x1=\"50%\" x2=\"75.363%\" y1=\"1.2em\" y2=\"3em\" /><svg width=\"0.871249%\" x=\"75.605%\" y=\"3em\"><defs /><svg width=\"100%\" x=\"0\" y=\"0em\"><defs /><text text-anchor=\"middle\" x=\"50%\" y=\"1em\">GPE</text></svg><svg width=\"100%\" x=\"0%\" y=\"3em\"><defs /><svg width=\"100%\" x=\"0\" y=\"0em\"><defs /><text text-anchor=\"middle\" x=\"50%\" y=\"1em\">Russian</text></svg><svg width=\"100%\" x=\"0%\" y=\"3em\"><defs /><svg width=\"100%\" x=\"0\" y=\"0em\"><defs /><text text-anchor=\"middle\" x=\"50%\" y=\"1em\">NNP</text></svg></svg><line stroke=\"black\" x1=\"50%\" x2=\"50%\" y1=\"1.2em\" y2=\"3em\" /></svg><line stroke=\"black\" x1=\"50%\" x2=\"50%\" y1=\"1.2em\" y2=\"3em\" /></svg><line stroke=\"black\" x1=\"50%\" x2=\"76.0407%\" y1=\"1.2em\" y2=\"3em\" /><svg width=\"0.677638%\" x=\"76.4763%\" y=\"3em\"><defs /><svg width=\"100%\" x=\"0\" y=\"0em\"><defs /><text text-anchor=\"middle\" x=\"50%\" y=\"1em\">Civil</text></svg><svg width=\"100%\" x=\"0%\" y=\"3em\"><defs /><svg width=\"100%\" x=\"0\" y=\"0em\"><defs /><text text-anchor=\"middle\" x=\"50%\" y=\"1em\">NNP</text></svg></svg><line stroke=\"black\" x1=\"50%\" x2=\"50%\" y1=\"1.2em\" y2=\"3em\" /></svg><line stroke=\"black\" x1=\"50%\" x2=\"76.8151%\" y1=\"1.2em\" y2=\"3em\" /><svg width=\"0.484027%\" x=\"77.1539%\" y=\"3em\"><defs /><svg width=\"100%\" x=\"0\" y=\"0em\"><defs /><text text-anchor=\"middle\" x=\"50%\" y=\"1em\">War</text></svg><svg width=\"100%\" x=\"0%\" y=\"3em\"><defs /><svg width=\"100%\" x=\"0\" y=\"0em\"><defs /><text text-anchor=\"middle\" x=\"50%\" y=\"1em\">NNP</text></svg></svg><line stroke=\"black\" x1=\"50%\" x2=\"50%\" y1=\"1.2em\" y2=\"3em\" /></svg><line stroke=\"black\" x1=\"50%\" x2=\"77.3959%\" y1=\"1.2em\" y2=\"3em\" /><svg width=\"0.484027%\" x=\"77.6379%\" y=\"3em\"><defs /><svg width=\"100%\" x=\"0\" y=\"0em\"><defs /><text text-anchor=\"middle\" x=\"50%\" y=\"1em\">and</text></svg><svg width=\"100%\" x=\"0%\" y=\"3em\"><defs /><svg width=\"100%\" x=\"0\" y=\"0em\"><defs /><text text-anchor=\"middle\" x=\"50%\" y=\"1em\">CC</text></svg></svg><line stroke=\"black\" x1=\"50%\" x2=\"50%\" y1=\"1.2em\" y2=\"3em\" /></svg><line stroke=\"black\" x1=\"50%\" x2=\"77.88%\" y1=\"1.2em\" y2=\"3em\" /><svg width=\"0.484027%\" x=\"78.122%\" y=\"3em\"><defs /><svg width=\"100%\" x=\"0\" y=\"0em\"><defs /><text text-anchor=\"middle\" x=\"50%\" y=\"1em\">the</text></svg><svg width=\"100%\" x=\"0%\" y=\"3em\"><defs /><svg width=\"100%\" x=\"0\" y=\"0em\"><defs /><text text-anchor=\"middle\" x=\"50%\" y=\"1em\">DT</text></svg></svg><line stroke=\"black\" x1=\"50%\" x2=\"50%\" y1=\"1.2em\" y2=\"3em\" /></svg><line stroke=\"black\" x1=\"50%\" x2=\"78.364%\" y1=\"1.2em\" y2=\"3em\" /><svg width=\"1.54889%\" x=\"78.606%\" y=\"3em\"><defs /><svg width=\"100%\" x=\"0\" y=\"0em\"><defs /><text text-anchor=\"middle\" x=\"50%\" y=\"1em\">ORGANIZATION</text></svg><svg width=\"56.25%\" x=\"0%\" y=\"3em\"><defs /><svg width=\"100%\" x=\"0\" y=\"0em\"><defs /><text text-anchor=\"middle\" x=\"50%\" y=\"1em\">Spanish</text></svg><svg width=\"100%\" x=\"0%\" y=\"3em\"><defs /><svg width=\"100%\" x=\"0\" y=\"0em\"><defs /><text text-anchor=\"middle\" x=\"50%\" y=\"1em\">JJ</text></svg></svg><line stroke=\"black\" x1=\"50%\" x2=\"50%\" y1=\"1.2em\" y2=\"3em\" /></svg><line stroke=\"black\" x1=\"50%\" x2=\"28.125%\" y1=\"1.2em\" y2=\"3em\" /><svg width=\"43.75%\" x=\"56.25%\" y=\"3em\"><defs /><svg width=\"100%\" x=\"0\" y=\"0em\"><defs /><text text-anchor=\"middle\" x=\"50%\" y=\"1em\">Civil</text></svg><svg width=\"100%\" x=\"0%\" y=\"3em\"><defs /><svg width=\"100%\" x=\"0\" y=\"0em\"><defs /><text text-anchor=\"middle\" x=\"50%\" y=\"1em\">NNP</text></svg></svg><line stroke=\"black\" x1=\"50%\" x2=\"50%\" y1=\"1.2em\" y2=\"3em\" /></svg><line stroke=\"black\" x1=\"50%\" x2=\"78.125%\" y1=\"1.2em\" y2=\"3em\" /></svg><line stroke=\"black\" x1=\"50%\" x2=\"79.3804%\" y1=\"1.2em\" y2=\"3em\" /><svg width=\"0.484027%\" x=\"80.1549%\" y=\"3em\"><defs /><svg width=\"100%\" x=\"0\" y=\"0em\"><defs /><text text-anchor=\"middle\" x=\"50%\" y=\"1em\">War</text></svg><svg width=\"100%\" x=\"0%\" y=\"3em\"><defs /><svg width=\"100%\" x=\"0\" y=\"0em\"><defs /><text text-anchor=\"middle\" x=\"50%\" y=\"1em\">NNP</text></svg></svg><line stroke=\"black\" x1=\"50%\" x2=\"50%\" y1=\"1.2em\" y2=\"3em\" /></svg><line stroke=\"black\" x1=\"50%\" x2=\"80.3969%\" y1=\"1.2em\" y2=\"3em\" /><svg width=\"0.677638%\" x=\"80.6389%\" y=\"3em\"><defs /><svg width=\"100%\" x=\"0\" y=\"0em\"><defs /><text text-anchor=\"middle\" x=\"50%\" y=\"1em\">whose</text></svg><svg width=\"100%\" x=\"0%\" y=\"3em\"><defs /><svg width=\"100%\" x=\"0\" y=\"0em\"><defs /><text text-anchor=\"middle\" x=\"50%\" y=\"1em\">WP$</text></svg></svg><line stroke=\"black\" x1=\"50%\" x2=\"50%\" y1=\"1.2em\" y2=\"3em\" /></svg><line stroke=\"black\" x1=\"50%\" x2=\"80.9777%\" y1=\"1.2em\" y2=\"3em\" /><svg width=\"0.484027%\" x=\"81.3166%\" y=\"3em\"><defs /><svg width=\"100%\" x=\"0\" y=\"0em\"><defs /><text text-anchor=\"middle\" x=\"50%\" y=\"1em\">end</text></svg><svg width=\"100%\" x=\"0%\" y=\"3em\"><defs /><svg width=\"100%\" x=\"0\" y=\"0em\"><defs /><text text-anchor=\"middle\" x=\"50%\" y=\"1em\">NN</text></svg></svg><line stroke=\"black\" x1=\"50%\" x2=\"50%\" y1=\"1.2em\" y2=\"3em\" /></svg><line stroke=\"black\" x1=\"50%\" x2=\"81.5586%\" y1=\"1.2em\" y2=\"3em\" /><svg width=\"0.774443%\" x=\"81.8006%\" y=\"3em\"><defs /><svg width=\"100%\" x=\"0\" y=\"0em\"><defs /><text text-anchor=\"middle\" x=\"50%\" y=\"1em\">marked</text></svg><svg width=\"100%\" x=\"0%\" y=\"3em\"><defs /><svg width=\"100%\" x=\"0\" y=\"0em\"><defs /><text text-anchor=\"middle\" x=\"50%\" y=\"1em\">VBD</text></svg></svg><line stroke=\"black\" x1=\"50%\" x2=\"50%\" y1=\"1.2em\" y2=\"3em\" /></svg><line stroke=\"black\" x1=\"50%\" x2=\"82.1878%\" y1=\"1.2em\" y2=\"3em\" /><svg width=\"0.484027%\" x=\"82.575%\" y=\"3em\"><defs /><svg width=\"100%\" x=\"0\" y=\"0em\"><defs /><text text-anchor=\"middle\" x=\"50%\" y=\"1em\">the</text></svg><svg width=\"100%\" x=\"0%\" y=\"3em\"><defs /><svg width=\"100%\" x=\"0\" y=\"0em\"><defs /><text text-anchor=\"middle\" x=\"50%\" y=\"1em\">DT</text></svg></svg><line stroke=\"black\" x1=\"50%\" x2=\"50%\" y1=\"1.2em\" y2=\"3em\" /></svg><line stroke=\"black\" x1=\"50%\" x2=\"82.817%\" y1=\"1.2em\" y2=\"3em\" /><svg width=\"0.484027%\" x=\"83.0591%\" y=\"3em\"><defs /><svg width=\"100%\" x=\"0\" y=\"0em\"><defs /><text text-anchor=\"middle\" x=\"50%\" y=\"1em\">end</text></svg><svg width=\"100%\" x=\"0%\" y=\"3em\"><defs /><svg width=\"100%\" x=\"0\" y=\"0em\"><defs /><text text-anchor=\"middle\" x=\"50%\" y=\"1em\">NN</text></svg></svg><line stroke=\"black\" x1=\"50%\" x2=\"50%\" y1=\"1.2em\" y2=\"3em\" /></svg><line stroke=\"black\" x1=\"50%\" x2=\"83.3011%\" y1=\"1.2em\" y2=\"3em\" /><svg width=\"0.387222%\" x=\"83.5431%\" y=\"3em\"><defs /><svg width=\"100%\" x=\"0\" y=\"0em\"><defs /><text text-anchor=\"middle\" x=\"50%\" y=\"1em\">of</text></svg><svg width=\"100%\" x=\"0%\" y=\"3em\"><defs /><svg width=\"100%\" x=\"0\" y=\"0em\"><defs /><text text-anchor=\"middle\" x=\"50%\" y=\"1em\">IN</text></svg></svg><line stroke=\"black\" x1=\"50%\" x2=\"50%\" y1=\"1.2em\" y2=\"3em\" /></svg><line stroke=\"black\" x1=\"50%\" x2=\"83.7367%\" y1=\"1.2em\" y2=\"3em\" /><svg width=\"0.484027%\" x=\"83.9303%\" y=\"3em\"><defs /><svg width=\"100%\" x=\"0\" y=\"0em\"><defs /><text text-anchor=\"middle\" x=\"50%\" y=\"1em\">the</text></svg><svg width=\"100%\" x=\"0%\" y=\"3em\"><defs /><svg width=\"100%\" x=\"0\" y=\"0em\"><defs /><text text-anchor=\"middle\" x=\"50%\" y=\"1em\">DT</text></svg></svg><line stroke=\"black\" x1=\"50%\" x2=\"50%\" y1=\"1.2em\" y2=\"3em\" /></svg><line stroke=\"black\" x1=\"50%\" x2=\"84.1723%\" y1=\"1.2em\" y2=\"3em\" /><svg width=\"1.06486%\" x=\"84.4143%\" y=\"3em\"><defs /><svg width=\"100%\" x=\"0\" y=\"0em\"><defs /><text text-anchor=\"middle\" x=\"50%\" y=\"1em\">classical</text></svg><svg width=\"100%\" x=\"0%\" y=\"3em\"><defs /><svg width=\"100%\" x=\"0\" y=\"0em\"><defs /><text text-anchor=\"middle\" x=\"50%\" y=\"1em\">JJ</text></svg></svg><line stroke=\"black\" x1=\"50%\" x2=\"50%\" y1=\"1.2em\" y2=\"3em\" /></svg><line stroke=\"black\" x1=\"50%\" x2=\"84.9468%\" y1=\"1.2em\" y2=\"3em\" /><svg width=\"0.484027%\" x=\"85.4792%\" y=\"3em\"><defs /><svg width=\"100%\" x=\"0\" y=\"0em\"><defs /><text text-anchor=\"middle\" x=\"50%\" y=\"1em\">era</text></svg><svg width=\"100%\" x=\"0%\" y=\"3em\"><defs /><svg width=\"100%\" x=\"0\" y=\"0em\"><defs /><text text-anchor=\"middle\" x=\"50%\" y=\"1em\">NN</text></svg></svg><line stroke=\"black\" x1=\"50%\" x2=\"50%\" y1=\"1.2em\" y2=\"3em\" /></svg><line stroke=\"black\" x1=\"50%\" x2=\"85.7212%\" y1=\"1.2em\" y2=\"3em\" /><svg width=\"0.387222%\" x=\"85.9632%\" y=\"3em\"><defs /><svg width=\"100%\" x=\"0\" y=\"0em\"><defs /><text text-anchor=\"middle\" x=\"50%\" y=\"1em\">of</text></svg><svg width=\"100%\" x=\"0%\" y=\"3em\"><defs /><svg width=\"100%\" x=\"0\" y=\"0em\"><defs /><text text-anchor=\"middle\" x=\"50%\" y=\"1em\">IN</text></svg></svg><line stroke=\"black\" x1=\"50%\" x2=\"50%\" y1=\"1.2em\" y2=\"3em\" /></svg><line stroke=\"black\" x1=\"50%\" x2=\"86.1568%\" y1=\"1.2em\" y2=\"3em\" /><svg width=\"1.06486%\" x=\"86.3504%\" y=\"3em\"><defs /><svg width=\"100%\" x=\"0\" y=\"0em\"><defs /><text text-anchor=\"middle\" x=\"50%\" y=\"1em\">anarchism</text></svg><svg width=\"100%\" x=\"0%\" y=\"3em\"><defs /><svg width=\"100%\" x=\"0\" y=\"0em\"><defs /><text text-anchor=\"middle\" x=\"50%\" y=\"1em\">NN</text></svg></svg><line stroke=\"black\" x1=\"50%\" x2=\"50%\" y1=\"1.2em\" y2=\"3em\" /></svg><line stroke=\"black\" x1=\"50%\" x2=\"86.8829%\" y1=\"1.2em\" y2=\"3em\" /><svg width=\"0.387222%\" x=\"87.4153%\" y=\"3em\"><defs /><svg width=\"100%\" x=\"0\" y=\"0em\"><defs /><text text-anchor=\"middle\" x=\"50%\" y=\"1em\">In</text></svg><svg width=\"100%\" x=\"0%\" y=\"3em\"><defs /><svg width=\"100%\" x=\"0\" y=\"0em\"><defs /><text text-anchor=\"middle\" x=\"50%\" y=\"1em\">IN</text></svg></svg><line stroke=\"black\" x1=\"50%\" x2=\"50%\" y1=\"1.2em\" y2=\"3em\" /></svg><line stroke=\"black\" x1=\"50%\" x2=\"87.6089%\" y1=\"1.2em\" y2=\"3em\" /><svg width=\"0.484027%\" x=\"87.8025%\" y=\"3em\"><defs /><svg width=\"100%\" x=\"0\" y=\"0em\"><defs /><text text-anchor=\"middle\" x=\"50%\" y=\"1em\">the</text></svg><svg width=\"100%\" x=\"0%\" y=\"3em\"><defs /><svg width=\"100%\" x=\"0\" y=\"0em\"><defs /><text text-anchor=\"middle\" x=\"50%\" y=\"1em\">DT</text></svg></svg><line stroke=\"black\" x1=\"50%\" x2=\"50%\" y1=\"1.2em\" y2=\"3em\" /></svg><line stroke=\"black\" x1=\"50%\" x2=\"88.0445%\" y1=\"1.2em\" y2=\"3em\" /><svg width=\"0.580833%\" x=\"88.2865%\" y=\"3em\"><defs /><svg width=\"100%\" x=\"0\" y=\"0em\"><defs /><text text-anchor=\"middle\" x=\"50%\" y=\"1em\">last</text></svg><svg width=\"100%\" x=\"0%\" y=\"3em\"><defs /><svg width=\"100%\" x=\"0\" y=\"0em\"><defs /><text text-anchor=\"middle\" x=\"50%\" y=\"1em\">JJ</text></svg></svg><line stroke=\"black\" x1=\"50%\" x2=\"50%\" y1=\"1.2em\" y2=\"3em\" /></svg><line stroke=\"black\" x1=\"50%\" x2=\"88.577%\" y1=\"1.2em\" y2=\"3em\" /><svg width=\"0.871249%\" x=\"88.8674%\" y=\"3em\"><defs /><svg width=\"100%\" x=\"0\" y=\"0em\"><defs /><text text-anchor=\"middle\" x=\"50%\" y=\"1em\">decades</text></svg><svg width=\"100%\" x=\"0%\" y=\"3em\"><defs /><svg width=\"100%\" x=\"0\" y=\"0em\"><defs /><text text-anchor=\"middle\" x=\"50%\" y=\"1em\">NNS</text></svg></svg><line stroke=\"black\" x1=\"50%\" x2=\"50%\" y1=\"1.2em\" y2=\"3em\" /></svg><line stroke=\"black\" x1=\"50%\" x2=\"89.303%\" y1=\"1.2em\" y2=\"3em\" /><svg width=\"0.387222%\" x=\"89.7386%\" y=\"3em\"><defs /><svg width=\"100%\" x=\"0\" y=\"0em\"><defs /><text text-anchor=\"middle\" x=\"50%\" y=\"1em\">of</text></svg><svg width=\"100%\" x=\"0%\" y=\"3em\"><defs /><svg width=\"100%\" x=\"0\" y=\"0em\"><defs /><text text-anchor=\"middle\" x=\"50%\" y=\"1em\">IN</text></svg></svg><line stroke=\"black\" x1=\"50%\" x2=\"50%\" y1=\"1.2em\" y2=\"3em\" /></svg><line stroke=\"black\" x1=\"50%\" x2=\"89.9322%\" y1=\"1.2em\" y2=\"3em\" /><svg width=\"0.484027%\" x=\"90.1258%\" y=\"3em\"><defs /><svg width=\"100%\" x=\"0\" y=\"0em\"><defs /><text text-anchor=\"middle\" x=\"50%\" y=\"1em\">the</text></svg><svg width=\"100%\" x=\"0%\" y=\"3em\"><defs /><svg width=\"100%\" x=\"0\" y=\"0em\"><defs /><text text-anchor=\"middle\" x=\"50%\" y=\"1em\">DT</text></svg></svg><line stroke=\"black\" x1=\"50%\" x2=\"50%\" y1=\"1.2em\" y2=\"3em\" /></svg><line stroke=\"black\" x1=\"50%\" x2=\"90.3679%\" y1=\"1.2em\" y2=\"3em\" /><svg width=\"0.580833%\" x=\"90.6099%\" y=\"3em\"><defs /><svg width=\"100%\" x=\"0\" y=\"0em\"><defs /><text text-anchor=\"middle\" x=\"50%\" y=\"1em\">20th</text></svg><svg width=\"100%\" x=\"0%\" y=\"3em\"><defs /><svg width=\"100%\" x=\"0\" y=\"0em\"><defs /><text text-anchor=\"middle\" x=\"50%\" y=\"1em\">JJ</text></svg></svg><line stroke=\"black\" x1=\"50%\" x2=\"50%\" y1=\"1.2em\" y2=\"3em\" /></svg><line stroke=\"black\" x1=\"50%\" x2=\"90.9003%\" y1=\"1.2em\" y2=\"3em\" /><svg width=\"0.484027%\" x=\"91.1907%\" y=\"3em\"><defs /><svg width=\"100%\" x=\"0\" y=\"0em\"><defs /><text text-anchor=\"middle\" x=\"50%\" y=\"1em\">and</text></svg><svg width=\"100%\" x=\"0%\" y=\"3em\"><defs /><svg width=\"100%\" x=\"0\" y=\"0em\"><defs /><text text-anchor=\"middle\" x=\"50%\" y=\"1em\">CC</text></svg></svg><line stroke=\"black\" x1=\"50%\" x2=\"50%\" y1=\"1.2em\" y2=\"3em\" /></svg><line stroke=\"black\" x1=\"50%\" x2=\"91.4327%\" y1=\"1.2em\" y2=\"3em\" /><svg width=\"0.580833%\" x=\"91.6747%\" y=\"3em\"><defs /><svg width=\"100%\" x=\"0\" y=\"0em\"><defs /><text text-anchor=\"middle\" x=\"50%\" y=\"1em\">into</text></svg><svg width=\"100%\" x=\"0%\" y=\"3em\"><defs /><svg width=\"100%\" x=\"0\" y=\"0em\"><defs /><text text-anchor=\"middle\" x=\"50%\" y=\"1em\">IN</text></svg></svg><line stroke=\"black\" x1=\"50%\" x2=\"50%\" y1=\"1.2em\" y2=\"3em\" /></svg><line stroke=\"black\" x1=\"50%\" x2=\"91.9652%\" y1=\"1.2em\" y2=\"3em\" /><svg width=\"0.484027%\" x=\"92.2556%\" y=\"3em\"><defs /><svg width=\"100%\" x=\"0\" y=\"0em\"><defs /><text text-anchor=\"middle\" x=\"50%\" y=\"1em\">the</text></svg><svg width=\"100%\" x=\"0%\" y=\"3em\"><defs /><svg width=\"100%\" x=\"0\" y=\"0em\"><defs /><text text-anchor=\"middle\" x=\"50%\" y=\"1em\">DT</text></svg></svg><line stroke=\"black\" x1=\"50%\" x2=\"50%\" y1=\"1.2em\" y2=\"3em\" /></svg><line stroke=\"black\" x1=\"50%\" x2=\"92.4976%\" y1=\"1.2em\" y2=\"3em\" /><svg width=\"0.580833%\" x=\"92.7396%\" y=\"3em\"><defs /><svg width=\"100%\" x=\"0\" y=\"0em\"><defs /><text text-anchor=\"middle\" x=\"50%\" y=\"1em\">21st</text></svg><svg width=\"100%\" x=\"0%\" y=\"3em\"><defs /><svg width=\"100%\" x=\"0\" y=\"0em\"><defs /><text text-anchor=\"middle\" x=\"50%\" y=\"1em\">JJ</text></svg></svg><line stroke=\"black\" x1=\"50%\" x2=\"50%\" y1=\"1.2em\" y2=\"3em\" /></svg><line stroke=\"black\" x1=\"50%\" x2=\"93.03%\" y1=\"1.2em\" y2=\"3em\" /><svg width=\"0.871249%\" x=\"93.3204%\" y=\"3em\"><defs /><svg width=\"100%\" x=\"0\" y=\"0em\"><defs /><text text-anchor=\"middle\" x=\"50%\" y=\"1em\">century</text></svg><svg width=\"100%\" x=\"0%\" y=\"3em\"><defs /><svg width=\"100%\" x=\"0\" y=\"0em\"><defs /><text text-anchor=\"middle\" x=\"50%\" y=\"1em\">NN</text></svg></svg><line stroke=\"black\" x1=\"50%\" x2=\"50%\" y1=\"1.2em\" y2=\"3em\" /></svg><line stroke=\"black\" x1=\"50%\" x2=\"93.7561%\" y1=\"1.2em\" y2=\"3em\" /><svg width=\"0.484027%\" x=\"94.1917%\" y=\"3em\"><defs /><svg width=\"100%\" x=\"0\" y=\"0em\"><defs /><text text-anchor=\"middle\" x=\"50%\" y=\"1em\">the</text></svg><svg width=\"100%\" x=\"0%\" y=\"3em\"><defs /><svg width=\"100%\" x=\"0\" y=\"0em\"><defs /><text text-anchor=\"middle\" x=\"50%\" y=\"1em\">DT</text></svg></svg><line stroke=\"black\" x1=\"50%\" x2=\"50%\" y1=\"1.2em\" y2=\"3em\" /></svg><line stroke=\"black\" x1=\"50%\" x2=\"94.4337%\" y1=\"1.2em\" y2=\"3em\" /><svg width=\"1.06486%\" x=\"94.6757%\" y=\"3em\"><defs /><svg width=\"100%\" x=\"0\" y=\"0em\"><defs /><text text-anchor=\"middle\" x=\"50%\" y=\"1em\">anarchist</text></svg><svg width=\"100%\" x=\"0%\" y=\"3em\"><defs /><svg width=\"100%\" x=\"0\" y=\"0em\"><defs /><text text-anchor=\"middle\" x=\"50%\" y=\"1em\">NN</text></svg></svg><line stroke=\"black\" x1=\"50%\" x2=\"50%\" y1=\"1.2em\" y2=\"3em\" /></svg><line stroke=\"black\" x1=\"50%\" x2=\"95.2081%\" y1=\"1.2em\" y2=\"3em\" /><svg width=\"0.968054%\" x=\"95.7406%\" y=\"3em\"><defs /><svg width=\"100%\" x=\"0\" y=\"0em\"><defs /><text text-anchor=\"middle\" x=\"50%\" y=\"1em\">movement</text></svg><svg width=\"100%\" x=\"0%\" y=\"3em\"><defs /><svg width=\"100%\" x=\"0\" y=\"0em\"><defs /><text text-anchor=\"middle\" x=\"50%\" y=\"1em\">NN</text></svg></svg><line stroke=\"black\" x1=\"50%\" x2=\"50%\" y1=\"1.2em\" y2=\"3em\" /></svg><line stroke=\"black\" x1=\"50%\" x2=\"96.2246%\" y1=\"1.2em\" y2=\"3em\" /><svg width=\"0.484027%\" x=\"96.7086%\" y=\"3em\"><defs /><svg width=\"100%\" x=\"0\" y=\"0em\"><defs /><text text-anchor=\"middle\" x=\"50%\" y=\"1em\">has</text></svg><svg width=\"100%\" x=\"0%\" y=\"3em\"><defs /><svg width=\"100%\" x=\"0\" y=\"0em\"><defs /><text text-anchor=\"middle\" x=\"50%\" y=\"1em\">VBZ</text></svg></svg><line stroke=\"black\" x1=\"50%\" x2=\"50%\" y1=\"1.2em\" y2=\"3em\" /></svg><line stroke=\"black\" x1=\"50%\" x2=\"96.9506%\" y1=\"1.2em\" y2=\"3em\" /><svg width=\"0.580833%\" x=\"97.1926%\" y=\"3em\"><defs /><svg width=\"100%\" x=\"0\" y=\"0em\"><defs /><text text-anchor=\"middle\" x=\"50%\" y=\"1em\">been</text></svg><svg width=\"100%\" x=\"0%\" y=\"3em\"><defs /><svg width=\"100%\" x=\"0\" y=\"0em\"><defs /><text text-anchor=\"middle\" x=\"50%\" y=\"1em\">VBN</text></svg></svg><line stroke=\"black\" x1=\"50%\" x2=\"50%\" y1=\"1.2em\" y2=\"3em\" /></svg><line stroke=\"black\" x1=\"50%\" x2=\"97.4831%\" y1=\"1.2em\" y2=\"3em\" /><svg width=\"1.06486%\" x=\"97.7735%\" y=\"3em\"><defs /><svg width=\"100%\" x=\"0\" y=\"0em\"><defs /><text text-anchor=\"middle\" x=\"50%\" y=\"1em\">resurgent</text></svg><svg width=\"100%\" x=\"0%\" y=\"3em\"><defs /><svg width=\"100%\" x=\"0\" y=\"0em\"><defs /><text text-anchor=\"middle\" x=\"50%\" y=\"1em\">JJ</text></svg></svg><line stroke=\"black\" x1=\"50%\" x2=\"50%\" y1=\"1.2em\" y2=\"3em\" /></svg><line stroke=\"black\" x1=\"50%\" x2=\"98.3059%\" y1=\"1.2em\" y2=\"3em\" /><svg width=\"0.580833%\" x=\"98.8383%\" y=\"3em\"><defs /><svg width=\"100%\" x=\"0\" y=\"0em\"><defs /><text text-anchor=\"middle\" x=\"50%\" y=\"1em\">once</text></svg><svg width=\"100%\" x=\"0%\" y=\"3em\"><defs /><svg width=\"100%\" x=\"0\" y=\"0em\"><defs /><text text-anchor=\"middle\" x=\"50%\" y=\"1em\">RB</text></svg></svg><line stroke=\"black\" x1=\"50%\" x2=\"50%\" y1=\"1.2em\" y2=\"3em\" /></svg><line stroke=\"black\" x1=\"50%\" x2=\"99.1288%\" y1=\"1.2em\" y2=\"3em\" /><svg width=\"0.580833%\" x=\"99.4192%\" y=\"3em\"><defs /><svg width=\"100%\" x=\"0\" y=\"0em\"><defs /><text text-anchor=\"middle\" x=\"50%\" y=\"1em\">more</text></svg><svg width=\"100%\" x=\"0%\" y=\"3em\"><defs /><svg width=\"100%\" x=\"0\" y=\"0em\"><defs /><text text-anchor=\"middle\" x=\"50%\" y=\"1em\">JJR</text></svg></svg><line stroke=\"black\" x1=\"50%\" x2=\"50%\" y1=\"1.2em\" y2=\"3em\" /></svg><line stroke=\"black\" x1=\"50%\" x2=\"99.7096%\" y1=\"1.2em\" y2=\"3em\" /></svg>"
      ],
      "text/plain": [
       "Tree('S', [('Humans', 'NNS'), ('lived', 'VBD'), ('in', 'IN'), ('societies', 'NNS'), ('without', 'IN'), ('formal', 'JJ'), ('hierarchies', 'NNS'), ('long', 'RB'), ('before', 'IN'), ('the', 'DT'), ('establishment', 'NN'), ('of', 'IN'), ('formal', 'JJ'), ('states', 'NNS'), ('realms', 'VBP'), ('or', 'CC'), ('empires', 'VBZ'), ('With', 'IN'), ('the', 'DT'), ('rise', 'NN'), ('of', 'IN'), ('organised', 'JJ'), ('hierarchical', 'JJ'), ('bodies', 'NNS'), ('scepticism', 'VBP'), ('toward', 'IN'), ('authority', 'NN'), ('also', 'RB'), ('rose', 'VBD'), ('Although', 'IN'), ('traces', 'NNS'), ('of', 'IN'), ('anarchist', 'JJ'), ('thought', 'NN'), ('are', 'VBP'), ('found', 'VBN'), ('throughout', 'IN'), ('history', 'NN'), ('modern', 'JJ'), ('anarchism', 'NN'), ('emerged', 'VBD'), ('from', 'IN'), ('the', 'DT'), ('Enlightenment', 'NNP'), ('During', 'IN'), ('the', 'DT'), ('latter', 'JJ'), ('half', 'NN'), ('of', 'IN'), ('the', 'DT'), ('19th', 'CD'), ('and', 'CC'), ('the', 'DT'), ('first', 'JJ'), ('decades', 'NNS'), ('of', 'IN'), ('the', 'DT'), ('20th', 'JJ'), ('century', 'NN'), ('the', 'DT'), ('anarchist', 'JJ'), ('movement', 'NN'), ('flourished', 'VBN'), ('in', 'IN'), ('most', 'JJS'), ('parts', 'NNS'), ('of', 'IN'), ('the', 'DT'), ('world', 'NN'), ('and', 'CC'), ('had', 'VBD'), ('a', 'DT'), ('significant', 'JJ'), ('role', 'NN'), ('in', 'IN'), ('workers', 'NNS'), ('struggles', 'NNS'), ('for', 'IN'), ('emancipation', 'NN'), Tree('PERSON', [('Various', 'NNP')]), ('anarchist', 'NN'), ('schools', 'NNS'), ('of', 'IN'), ('thought', 'NN'), ('formed', 'VBN'), ('during', 'IN'), ('this', 'DT'), ('period', 'NN'), ('Anarchists', 'NNS'), ('have', 'VBP'), ('taken', 'VBN'), ('part', 'NN'), ('in', 'IN'), ('several', 'JJ'), ('revolutions', 'NNS'), ('most', 'RBS'), ('notably', 'RB'), ('in', 'IN'), ('the', 'DT'), Tree('ORGANIZATION', [('Paris', 'NNP')]), ('Commune', 'NNP'), ('the', 'DT'), Tree('GPE', [('Russian', 'NNP')]), ('Civil', 'NNP'), ('War', 'NNP'), ('and', 'CC'), ('the', 'DT'), Tree('ORGANIZATION', [('Spanish', 'JJ'), ('Civil', 'NNP')]), ('War', 'NNP'), ('whose', 'WP$'), ('end', 'NN'), ('marked', 'VBD'), ('the', 'DT'), ('end', 'NN'), ('of', 'IN'), ('the', 'DT'), ('classical', 'JJ'), ('era', 'NN'), ('of', 'IN'), ('anarchism', 'NN'), ('In', 'IN'), ('the', 'DT'), ('last', 'JJ'), ('decades', 'NNS'), ('of', 'IN'), ('the', 'DT'), ('20th', 'JJ'), ('and', 'CC'), ('into', 'IN'), ('the', 'DT'), ('21st', 'JJ'), ('century', 'NN'), ('the', 'DT'), ('anarchist', 'NN'), ('movement', 'NN'), ('has', 'VBZ'), ('been', 'VBN'), ('resurgent', 'JJ'), ('once', 'RB'), ('more', 'JJR')])"
      ]
     },
     "execution_count": 40,
     "metadata": {},
     "output_type": "execute_result"
    }
   ],
   "source": [
    "# tokenize sentence\n",
    "#use = \"Humans lived in societies without formal hierarchies long before the establishment of formal states, realms, or empires.\"\n",
    "token = word_tokenize(use)\n",
    "# pos_tag sentence\n",
    "pos = pos_tag(token)\n",
    "pos\n",
    "# chunk sentence\n",
    "chunked = ne_chunk(pos)\n",
    "chunked"
   ]
  },
  {
   "cell_type": "code",
   "execution_count": 42,
   "id": "965d73a0",
   "metadata": {},
   "outputs": [
    {
     "data": {
      "text/plain": [
       "[]"
      ]
     },
     "execution_count": 42,
     "metadata": {},
     "output_type": "execute_result"
    }
   ],
   "source": [
    "rels = extract_rels('LOCATION', 'ORGANIZATION', chunked, corpus='ace', window = 100)\n",
    "rels"
   ]
  },
  {
   "cell_type": "code",
   "execution_count": 43,
   "id": "5e274d8a",
   "metadata": {},
   "outputs": [
    {
     "data": {
      "application/vnd.jupyter.widget-view+json": {
       "model_id": "1a28c4bcf5bd4c90b6f8692581c598da",
       "version_major": 2,
       "version_minor": 0
      },
      "text/plain": [
       "Downloading:   0%|          | 0.00/59.0 [00:00<?, ?B/s]"
      ]
     },
     "metadata": {},
     "output_type": "display_data"
    },
    {
     "data": {
      "application/vnd.jupyter.widget-view+json": {
       "model_id": "d521df1fec2e4b8fae0ba9b9d746cf58",
       "version_major": 2,
       "version_minor": 0
      },
      "text/plain": [
       "Downloading:   0%|          | 0.00/829 [00:00<?, ?B/s]"
      ]
     },
     "metadata": {},
     "output_type": "display_data"
    },
    {
     "data": {
      "application/vnd.jupyter.widget-view+json": {
       "model_id": "11c5f5f474384787904d086bc3ac06ce",
       "version_major": 2,
       "version_minor": 0
      },
      "text/plain": [
       "Downloading:   0%|          | 0.00/208k [00:00<?, ?B/s]"
      ]
     },
     "metadata": {},
     "output_type": "display_data"
    },
    {
     "data": {
      "application/vnd.jupyter.widget-view+json": {
       "model_id": "55a67389f479484c85e4b0b06814591f",
       "version_major": 2,
       "version_minor": 0
      },
      "text/plain": [
       "Downloading:   0%|          | 0.00/2.00 [00:00<?, ?B/s]"
      ]
     },
     "metadata": {},
     "output_type": "display_data"
    },
    {
     "data": {
      "application/vnd.jupyter.widget-view+json": {
       "model_id": "996c5e0e000442fd8a921de924673bf2",
       "version_major": 2,
       "version_minor": 0
      },
      "text/plain": [
       "Downloading:   0%|          | 0.00/112 [00:00<?, ?B/s]"
      ]
     },
     "metadata": {},
     "output_type": "display_data"
    },
    {
     "data": {
      "application/vnd.jupyter.widget-view+json": {
       "model_id": "7db327214e214caabb1575c6410619eb",
       "version_major": 2,
       "version_minor": 0
      },
      "text/plain": [
       "Downloading:   0%|          | 0.00/413M [00:00<?, ?B/s]"
      ]
     },
     "metadata": {},
     "output_type": "display_data"
    },
    {
     "name": "stdout",
     "output_type": "stream",
     "text": [
      "[{'entity': 'B-PER', 'score': 0.9990139, 'index': 4, 'word': 'Wolfgang', 'start': 11, 'end': 19}, {'entity': 'B-LOC', 'score': 0.999645, 'index': 9, 'word': 'Berlin', 'start': 34, 'end': 40}]\n"
     ]
    }
   ],
   "source": [
    "# NER step using BERT\n",
    "from transformers import AutoTokenizer, AutoModelForTokenClassification\n",
    "from transformers import pipeline\n",
    "\n",
    "tokenizer = AutoTokenizer.from_pretrained(\"dslim/bert-base-NER\")\n",
    "model = AutoModelForTokenClassification.from_pretrained(\"dslim/bert-base-NER\")\n",
    "\n",
    "nlp = pipeline(\"ner\", model=model, tokenizer=tokenizer)\n",
    "example = \"My name is Wolfgang and I live in Berlin\"\n",
    "\n",
    "ner_results = nlp(example)\n",
    "print(ner_results)"
   ]
  }
 ],
 "metadata": {
  "kernelspec": {
   "display_name": "Python 3 (ipykernel)",
   "language": "python",
   "name": "python3"
  },
  "language_info": {
   "codemirror_mode": {
    "name": "ipython",
    "version": 3
   },
   "file_extension": ".py",
   "mimetype": "text/x-python",
   "name": "python",
   "nbconvert_exporter": "python",
   "pygments_lexer": "ipython3",
   "version": "3.9.7"
  }
 },
 "nbformat": 4,
 "nbformat_minor": 5
}
