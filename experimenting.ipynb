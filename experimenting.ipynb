{
 "cells": [
  {
   "cell_type": "code",
   "execution_count": 11,
   "metadata": {},
   "outputs": [
    {
     "data": {
      "text/plain": [
       "'/home/ship/School/2amm30'"
      ]
     },
     "execution_count": 11,
     "metadata": {},
     "output_type": "execute_result"
    }
   ],
   "source": [
    "import os\n",
    "cwd = os.getcwd()\n",
    "cwd"
   ]
  },
  {
   "cell_type": "code",
   "execution_count": 17,
   "metadata": {},
   "outputs": [],
   "source": [
    "import json\n",
    "import os\n",
    "import csv\n",
    "from pathlib import Path\n",
    "\n",
    "Path(\"./filtered\").mkdir(exist_ok=True)\n",
    "\n",
    "directory = \"./enwiki20220701-stripped/enwiki20220701-stripped/AA\"\n",
    "for i, file in enumerate(os.listdir(directory)):\n",
    "    to_csv = []\n",
    "    with open(os.path.join(directory, file)) as f:\n",
    "        for line in f:\n",
    "            article = json.loads(line)\n",
    "            if article['text'] != '':\n",
    "                to_csv.append(article)\n",
    "        if len(to_csv) > 0:\n",
    "            keys = to_csv[0].keys()\n",
    "            with open(f'./filtered/wiki_{i:02}', 'w', newline='') as output_file:\n",
    "                dict_writer = csv.DictWriter(output_file, keys)\n",
    "                dict_writer.writeheader()\n",
    "                dict_writer.writerows(to_csv)\n",
    "\n"
   ]
  },
  {
   "cell_type": "code",
   "execution_count": null,
   "metadata": {},
   "outputs": [],
   "source": []
  }
 ],
 "metadata": {
  "kernelspec": {
   "display_name": "Python 3.9.12 ('tf')",
   "language": "python",
   "name": "python3"
  },
  "language_info": {
   "codemirror_mode": {
    "name": "ipython",
    "version": 3
   },
   "file_extension": ".py",
   "mimetype": "text/x-python",
   "name": "python",
   "nbconvert_exporter": "python",
   "pygments_lexer": "ipython3",
   "version": "3.9.12"
  },
  "orig_nbformat": 4,
  "vscode": {
   "interpreter": {
    "hash": "85946e2c3c54d86112ee7f0f4660bfe111f5bbfea6dcdc0a4075209266ab5ede"
   }
  }
 },
 "nbformat": 4,
 "nbformat_minor": 2
}
