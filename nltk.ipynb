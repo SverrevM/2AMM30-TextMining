{
 "cells": [
  {
   "cell_type": "code",
   "execution_count": 1,
   "metadata": {},
   "outputs": [
    {
     "name": "stderr",
     "output_type": "stream",
     "text": [
      "[nltk_data] Downloading package averaged_perceptron_tagger to\n",
      "[nltk_data]     C:\\Users\\Sverre\\AppData\\Roaming\\nltk_data...\n",
      "[nltk_data]   Package averaged_perceptron_tagger is already up-to-\n",
      "[nltk_data]       date!\n",
      "[nltk_data] Downloading package maxent_ne_chunker to\n",
      "[nltk_data]     C:\\Users\\Sverre\\AppData\\Roaming\\nltk_data...\n",
      "[nltk_data]   Package maxent_ne_chunker is already up-to-date!\n",
      "[nltk_data] Downloading package words to\n",
      "[nltk_data]     C:\\Users\\Sverre\\AppData\\Roaming\\nltk_data...\n",
      "[nltk_data]   Package words is already up-to-date!\n",
      "[nltk_data] Downloading collection 'all'\n",
      "[nltk_data]    | \n",
      "[nltk_data]    | Downloading package abc to\n",
      "[nltk_data]    |     C:\\Users\\Sverre\\AppData\\Roaming\\nltk_data...\n",
      "[nltk_data]    |   Package abc is already up-to-date!\n",
      "[nltk_data]    | Downloading package alpino to\n",
      "[nltk_data]    |     C:\\Users\\Sverre\\AppData\\Roaming\\nltk_data...\n",
      "[nltk_data]    |   Package alpino is already up-to-date!\n",
      "[nltk_data]    | Downloading package averaged_perceptron_tagger to\n",
      "[nltk_data]    |     C:\\Users\\Sverre\\AppData\\Roaming\\nltk_data...\n",
      "[nltk_data]    |   Package averaged_perceptron_tagger is already up-\n",
      "[nltk_data]    |       to-date!\n",
      "[nltk_data]    | Downloading package averaged_perceptron_tagger_ru to\n",
      "[nltk_data]    |     C:\\Users\\Sverre\\AppData\\Roaming\\nltk_data...\n",
      "[nltk_data]    |   Package averaged_perceptron_tagger_ru is already\n",
      "[nltk_data]    |       up-to-date!\n",
      "[nltk_data]    | Downloading package basque_grammars to\n",
      "[nltk_data]    |     C:\\Users\\Sverre\\AppData\\Roaming\\nltk_data...\n",
      "[nltk_data]    |   Package basque_grammars is already up-to-date!\n",
      "[nltk_data]    | Downloading package biocreative_ppi to\n",
      "[nltk_data]    |     C:\\Users\\Sverre\\AppData\\Roaming\\nltk_data...\n",
      "[nltk_data]    |   Package biocreative_ppi is already up-to-date!\n",
      "[nltk_data]    | Downloading package bllip_wsj_no_aux to\n",
      "[nltk_data]    |     C:\\Users\\Sverre\\AppData\\Roaming\\nltk_data...\n",
      "[nltk_data]    |   Package bllip_wsj_no_aux is already up-to-date!\n",
      "[nltk_data]    | Downloading package book_grammars to\n",
      "[nltk_data]    |     C:\\Users\\Sverre\\AppData\\Roaming\\nltk_data...\n",
      "[nltk_data]    |   Package book_grammars is already up-to-date!\n",
      "[nltk_data]    | Downloading package brown to\n",
      "[nltk_data]    |     C:\\Users\\Sverre\\AppData\\Roaming\\nltk_data...\n",
      "[nltk_data]    |   Package brown is already up-to-date!\n",
      "[nltk_data]    | Downloading package brown_tei to\n",
      "[nltk_data]    |     C:\\Users\\Sverre\\AppData\\Roaming\\nltk_data...\n",
      "[nltk_data]    |   Package brown_tei is already up-to-date!\n",
      "[nltk_data]    | Downloading package cess_cat to\n",
      "[nltk_data]    |     C:\\Users\\Sverre\\AppData\\Roaming\\nltk_data...\n",
      "[nltk_data]    |   Package cess_cat is already up-to-date!\n",
      "[nltk_data]    | Downloading package cess_esp to\n",
      "[nltk_data]    |     C:\\Users\\Sverre\\AppData\\Roaming\\nltk_data...\n",
      "[nltk_data]    |   Package cess_esp is already up-to-date!\n",
      "[nltk_data]    | Downloading package chat80 to\n",
      "[nltk_data]    |     C:\\Users\\Sverre\\AppData\\Roaming\\nltk_data...\n",
      "[nltk_data]    |   Package chat80 is already up-to-date!\n",
      "[nltk_data]    | Downloading package city_database to\n",
      "[nltk_data]    |     C:\\Users\\Sverre\\AppData\\Roaming\\nltk_data...\n",
      "[nltk_data]    |   Package city_database is already up-to-date!\n",
      "[nltk_data]    | Downloading package cmudict to\n",
      "[nltk_data]    |     C:\\Users\\Sverre\\AppData\\Roaming\\nltk_data...\n",
      "[nltk_data]    |   Package cmudict is already up-to-date!\n",
      "[nltk_data]    | Downloading package comparative_sentences to\n",
      "[nltk_data]    |     C:\\Users\\Sverre\\AppData\\Roaming\\nltk_data...\n",
      "[nltk_data]    |   Package comparative_sentences is already up-to-\n",
      "[nltk_data]    |       date!\n",
      "[nltk_data]    | Downloading package comtrans to\n",
      "[nltk_data]    |     C:\\Users\\Sverre\\AppData\\Roaming\\nltk_data...\n",
      "[nltk_data]    |   Package comtrans is already up-to-date!\n",
      "[nltk_data]    | Downloading package conll2000 to\n",
      "[nltk_data]    |     C:\\Users\\Sverre\\AppData\\Roaming\\nltk_data...\n",
      "[nltk_data]    |   Package conll2000 is already up-to-date!\n",
      "[nltk_data]    | Downloading package conll2002 to\n",
      "[nltk_data]    |     C:\\Users\\Sverre\\AppData\\Roaming\\nltk_data...\n",
      "[nltk_data]    |   Package conll2002 is already up-to-date!\n",
      "[nltk_data]    | Downloading package conll2007 to\n",
      "[nltk_data]    |     C:\\Users\\Sverre\\AppData\\Roaming\\nltk_data...\n",
      "[nltk_data]    |   Package conll2007 is already up-to-date!\n",
      "[nltk_data]    | Downloading package crubadan to\n",
      "[nltk_data]    |     C:\\Users\\Sverre\\AppData\\Roaming\\nltk_data...\n",
      "[nltk_data]    |   Package crubadan is already up-to-date!\n",
      "[nltk_data]    | Downloading package dependency_treebank to\n",
      "[nltk_data]    |     C:\\Users\\Sverre\\AppData\\Roaming\\nltk_data...\n",
      "[nltk_data]    |   Package dependency_treebank is already up-to-date!\n",
      "[nltk_data]    | Downloading package dolch to\n",
      "[nltk_data]    |     C:\\Users\\Sverre\\AppData\\Roaming\\nltk_data...\n",
      "[nltk_data]    |   Package dolch is already up-to-date!\n",
      "[nltk_data]    | Downloading package europarl_raw to\n",
      "[nltk_data]    |     C:\\Users\\Sverre\\AppData\\Roaming\\nltk_data...\n",
      "[nltk_data]    |   Package europarl_raw is already up-to-date!\n",
      "[nltk_data]    | Downloading package extended_omw to\n",
      "[nltk_data]    |     C:\\Users\\Sverre\\AppData\\Roaming\\nltk_data...\n",
      "[nltk_data]    |   Package extended_omw is already up-to-date!\n",
      "[nltk_data]    | Downloading package floresta to\n",
      "[nltk_data]    |     C:\\Users\\Sverre\\AppData\\Roaming\\nltk_data...\n",
      "[nltk_data]    |   Package floresta is already up-to-date!\n",
      "[nltk_data]    | Downloading package framenet_v15 to\n",
      "[nltk_data]    |     C:\\Users\\Sverre\\AppData\\Roaming\\nltk_data...\n",
      "[nltk_data]    |   Package framenet_v15 is already up-to-date!\n",
      "[nltk_data]    | Downloading package framenet_v17 to\n",
      "[nltk_data]    |     C:\\Users\\Sverre\\AppData\\Roaming\\nltk_data...\n",
      "[nltk_data]    |   Package framenet_v17 is already up-to-date!\n",
      "[nltk_data]    | Downloading package gazetteers to\n",
      "[nltk_data]    |     C:\\Users\\Sverre\\AppData\\Roaming\\nltk_data...\n",
      "[nltk_data]    |   Package gazetteers is already up-to-date!\n",
      "[nltk_data]    | Downloading package genesis to\n",
      "[nltk_data]    |     C:\\Users\\Sverre\\AppData\\Roaming\\nltk_data...\n",
      "[nltk_data]    |   Package genesis is already up-to-date!\n",
      "[nltk_data]    | Downloading package gutenberg to\n",
      "[nltk_data]    |     C:\\Users\\Sverre\\AppData\\Roaming\\nltk_data...\n",
      "[nltk_data]    |   Package gutenberg is already up-to-date!\n",
      "[nltk_data]    | Downloading package ieer to\n",
      "[nltk_data]    |     C:\\Users\\Sverre\\AppData\\Roaming\\nltk_data...\n",
      "[nltk_data]    |   Package ieer is already up-to-date!\n",
      "[nltk_data]    | Downloading package inaugural to\n",
      "[nltk_data]    |     C:\\Users\\Sverre\\AppData\\Roaming\\nltk_data...\n",
      "[nltk_data]    |   Package inaugural is already up-to-date!\n",
      "[nltk_data]    | Downloading package indian to\n",
      "[nltk_data]    |     C:\\Users\\Sverre\\AppData\\Roaming\\nltk_data...\n",
      "[nltk_data]    |   Package indian is already up-to-date!\n",
      "[nltk_data]    | Downloading package jeita to\n",
      "[nltk_data]    |     C:\\Users\\Sverre\\AppData\\Roaming\\nltk_data...\n",
      "[nltk_data]    |   Package jeita is already up-to-date!\n",
      "[nltk_data]    | Downloading package kimmo to\n",
      "[nltk_data]    |     C:\\Users\\Sverre\\AppData\\Roaming\\nltk_data...\n",
      "[nltk_data]    |   Package kimmo is already up-to-date!\n",
      "[nltk_data]    | Downloading package knbc to\n",
      "[nltk_data]    |     C:\\Users\\Sverre\\AppData\\Roaming\\nltk_data...\n",
      "[nltk_data]    |   Package knbc is already up-to-date!\n",
      "[nltk_data]    | Downloading package large_grammars to\n",
      "[nltk_data]    |     C:\\Users\\Sverre\\AppData\\Roaming\\nltk_data...\n",
      "[nltk_data]    |   Package large_grammars is already up-to-date!\n",
      "[nltk_data]    | Downloading package lin_thesaurus to\n",
      "[nltk_data]    |     C:\\Users\\Sverre\\AppData\\Roaming\\nltk_data...\n",
      "[nltk_data]    |   Package lin_thesaurus is already up-to-date!\n",
      "[nltk_data]    | Downloading package mac_morpho to\n",
      "[nltk_data]    |     C:\\Users\\Sverre\\AppData\\Roaming\\nltk_data...\n",
      "[nltk_data]    |   Package mac_morpho is already up-to-date!\n",
      "[nltk_data]    | Downloading package machado to\n",
      "[nltk_data]    |     C:\\Users\\Sverre\\AppData\\Roaming\\nltk_data...\n",
      "[nltk_data]    |   Package machado is already up-to-date!\n",
      "[nltk_data]    | Downloading package masc_tagged to\n",
      "[nltk_data]    |     C:\\Users\\Sverre\\AppData\\Roaming\\nltk_data...\n",
      "[nltk_data]    |   Package masc_tagged is already up-to-date!\n",
      "[nltk_data]    | Downloading package maxent_ne_chunker to\n",
      "[nltk_data]    |     C:\\Users\\Sverre\\AppData\\Roaming\\nltk_data...\n",
      "[nltk_data]    |   Package maxent_ne_chunker is already up-to-date!\n",
      "[nltk_data]    | Downloading package maxent_treebank_pos_tagger to\n",
      "[nltk_data]    |     C:\\Users\\Sverre\\AppData\\Roaming\\nltk_data...\n",
      "[nltk_data]    |   Package maxent_treebank_pos_tagger is already up-\n",
      "[nltk_data]    |       to-date!\n",
      "[nltk_data]    | Downloading package moses_sample to\n",
      "[nltk_data]    |     C:\\Users\\Sverre\\AppData\\Roaming\\nltk_data...\n",
      "[nltk_data]    |   Package moses_sample is already up-to-date!\n",
      "[nltk_data]    | Downloading package movie_reviews to\n",
      "[nltk_data]    |     C:\\Users\\Sverre\\AppData\\Roaming\\nltk_data...\n",
      "[nltk_data]    |   Package movie_reviews is already up-to-date!\n",
      "[nltk_data]    | Downloading package mte_teip5 to\n",
      "[nltk_data]    |     C:\\Users\\Sverre\\AppData\\Roaming\\nltk_data...\n",
      "[nltk_data]    |   Package mte_teip5 is already up-to-date!\n",
      "[nltk_data]    | Downloading package mwa_ppdb to\n",
      "[nltk_data]    |     C:\\Users\\Sverre\\AppData\\Roaming\\nltk_data...\n",
      "[nltk_data]    |   Package mwa_ppdb is already up-to-date!\n",
      "[nltk_data]    | Downloading package names to\n",
      "[nltk_data]    |     C:\\Users\\Sverre\\AppData\\Roaming\\nltk_data...\n",
      "[nltk_data]    |   Package names is already up-to-date!\n",
      "[nltk_data]    | Downloading package nombank.1.0 to\n",
      "[nltk_data]    |     C:\\Users\\Sverre\\AppData\\Roaming\\nltk_data...\n",
      "[nltk_data]    |   Package nombank.1.0 is already up-to-date!\n",
      "[nltk_data]    | Downloading package nonbreaking_prefixes to\n",
      "[nltk_data]    |     C:\\Users\\Sverre\\AppData\\Roaming\\nltk_data...\n",
      "[nltk_data]    |   Package nonbreaking_prefixes is already up-to-date!\n",
      "[nltk_data]    | Downloading package nps_chat to\n",
      "[nltk_data]    |     C:\\Users\\Sverre\\AppData\\Roaming\\nltk_data...\n",
      "[nltk_data]    |   Package nps_chat is already up-to-date!\n",
      "[nltk_data]    | Downloading package omw to\n",
      "[nltk_data]    |     C:\\Users\\Sverre\\AppData\\Roaming\\nltk_data...\n",
      "[nltk_data]    |   Package omw is already up-to-date!\n",
      "[nltk_data]    | Downloading package omw-1.4 to\n",
      "[nltk_data]    |     C:\\Users\\Sverre\\AppData\\Roaming\\nltk_data...\n",
      "[nltk_data]    |   Package omw-1.4 is already up-to-date!\n",
      "[nltk_data]    | Downloading package opinion_lexicon to\n",
      "[nltk_data]    |     C:\\Users\\Sverre\\AppData\\Roaming\\nltk_data...\n",
      "[nltk_data]    |   Package opinion_lexicon is already up-to-date!\n",
      "[nltk_data]    | Downloading package panlex_swadesh to\n",
      "[nltk_data]    |     C:\\Users\\Sverre\\AppData\\Roaming\\nltk_data...\n",
      "[nltk_data]    |   Package panlex_swadesh is already up-to-date!\n",
      "[nltk_data]    | Downloading package paradigms to\n",
      "[nltk_data]    |     C:\\Users\\Sverre\\AppData\\Roaming\\nltk_data...\n",
      "[nltk_data]    |   Package paradigms is already up-to-date!\n",
      "[nltk_data]    | Downloading package pe08 to\n",
      "[nltk_data]    |     C:\\Users\\Sverre\\AppData\\Roaming\\nltk_data...\n",
      "[nltk_data]    |   Package pe08 is already up-to-date!\n",
      "[nltk_data]    | Downloading package perluniprops to\n",
      "[nltk_data]    |     C:\\Users\\Sverre\\AppData\\Roaming\\nltk_data...\n",
      "[nltk_data]    |   Package perluniprops is already up-to-date!\n",
      "[nltk_data]    | Downloading package pil to\n",
      "[nltk_data]    |     C:\\Users\\Sverre\\AppData\\Roaming\\nltk_data...\n",
      "[nltk_data]    |   Package pil is already up-to-date!\n",
      "[nltk_data]    | Downloading package pl196x to\n",
      "[nltk_data]    |     C:\\Users\\Sverre\\AppData\\Roaming\\nltk_data...\n",
      "[nltk_data]    |   Package pl196x is already up-to-date!\n",
      "[nltk_data]    | Downloading package porter_test to\n",
      "[nltk_data]    |     C:\\Users\\Sverre\\AppData\\Roaming\\nltk_data...\n",
      "[nltk_data]    |   Package porter_test is already up-to-date!\n",
      "[nltk_data]    | Downloading package ppattach to\n",
      "[nltk_data]    |     C:\\Users\\Sverre\\AppData\\Roaming\\nltk_data...\n",
      "[nltk_data]    |   Package ppattach is already up-to-date!\n",
      "[nltk_data]    | Downloading package problem_reports to\n",
      "[nltk_data]    |     C:\\Users\\Sverre\\AppData\\Roaming\\nltk_data...\n",
      "[nltk_data]    |   Package problem_reports is already up-to-date!\n",
      "[nltk_data]    | Downloading package product_reviews_1 to\n",
      "[nltk_data]    |     C:\\Users\\Sverre\\AppData\\Roaming\\nltk_data...\n",
      "[nltk_data]    |   Package product_reviews_1 is already up-to-date!\n",
      "[nltk_data]    | Downloading package product_reviews_2 to\n",
      "[nltk_data]    |     C:\\Users\\Sverre\\AppData\\Roaming\\nltk_data...\n",
      "[nltk_data]    |   Package product_reviews_2 is already up-to-date!\n",
      "[nltk_data]    | Downloading package propbank to\n",
      "[nltk_data]    |     C:\\Users\\Sverre\\AppData\\Roaming\\nltk_data...\n",
      "[nltk_data]    |   Package propbank is already up-to-date!\n",
      "[nltk_data]    | Downloading package pros_cons to\n",
      "[nltk_data]    |     C:\\Users\\Sverre\\AppData\\Roaming\\nltk_data...\n",
      "[nltk_data]    |   Package pros_cons is already up-to-date!\n",
      "[nltk_data]    | Downloading package ptb to\n",
      "[nltk_data]    |     C:\\Users\\Sverre\\AppData\\Roaming\\nltk_data...\n",
      "[nltk_data]    |   Package ptb is already up-to-date!\n",
      "[nltk_data]    | Downloading package punkt to\n",
      "[nltk_data]    |     C:\\Users\\Sverre\\AppData\\Roaming\\nltk_data...\n",
      "[nltk_data]    |   Package punkt is already up-to-date!\n",
      "[nltk_data]    | Downloading package qc to\n",
      "[nltk_data]    |     C:\\Users\\Sverre\\AppData\\Roaming\\nltk_data...\n",
      "[nltk_data]    |   Package qc is already up-to-date!\n",
      "[nltk_data]    | Downloading package reuters to\n",
      "[nltk_data]    |     C:\\Users\\Sverre\\AppData\\Roaming\\nltk_data...\n",
      "[nltk_data]    |   Package reuters is already up-to-date!\n",
      "[nltk_data]    | Downloading package rslp to\n",
      "[nltk_data]    |     C:\\Users\\Sverre\\AppData\\Roaming\\nltk_data...\n",
      "[nltk_data]    |   Package rslp is already up-to-date!\n",
      "[nltk_data]    | Downloading package rte to\n",
      "[nltk_data]    |     C:\\Users\\Sverre\\AppData\\Roaming\\nltk_data...\n",
      "[nltk_data]    |   Package rte is already up-to-date!\n",
      "[nltk_data]    | Downloading package sample_grammars to\n",
      "[nltk_data]    |     C:\\Users\\Sverre\\AppData\\Roaming\\nltk_data...\n",
      "[nltk_data]    |   Package sample_grammars is already up-to-date!\n",
      "[nltk_data]    | Downloading package semcor to\n",
      "[nltk_data]    |     C:\\Users\\Sverre\\AppData\\Roaming\\nltk_data...\n",
      "[nltk_data]    |   Package semcor is already up-to-date!\n",
      "[nltk_data]    | Downloading package senseval to\n",
      "[nltk_data]    |     C:\\Users\\Sverre\\AppData\\Roaming\\nltk_data...\n",
      "[nltk_data]    |   Package senseval is already up-to-date!\n",
      "[nltk_data]    | Downloading package sentence_polarity to\n",
      "[nltk_data]    |     C:\\Users\\Sverre\\AppData\\Roaming\\nltk_data...\n",
      "[nltk_data]    |   Package sentence_polarity is already up-to-date!\n",
      "[nltk_data]    | Downloading package sentiwordnet to\n",
      "[nltk_data]    |     C:\\Users\\Sverre\\AppData\\Roaming\\nltk_data...\n",
      "[nltk_data]    |   Package sentiwordnet is already up-to-date!\n",
      "[nltk_data]    | Downloading package shakespeare to\n",
      "[nltk_data]    |     C:\\Users\\Sverre\\AppData\\Roaming\\nltk_data...\n",
      "[nltk_data]    |   Package shakespeare is already up-to-date!\n",
      "[nltk_data]    | Downloading package sinica_treebank to\n",
      "[nltk_data]    |     C:\\Users\\Sverre\\AppData\\Roaming\\nltk_data...\n",
      "[nltk_data]    |   Package sinica_treebank is already up-to-date!\n",
      "[nltk_data]    | Downloading package smultron to\n",
      "[nltk_data]    |     C:\\Users\\Sverre\\AppData\\Roaming\\nltk_data...\n",
      "[nltk_data]    |   Package smultron is already up-to-date!\n",
      "[nltk_data]    | Downloading package snowball_data to\n",
      "[nltk_data]    |     C:\\Users\\Sverre\\AppData\\Roaming\\nltk_data...\n",
      "[nltk_data]    |   Package snowball_data is already up-to-date!\n",
      "[nltk_data]    | Downloading package spanish_grammars to\n",
      "[nltk_data]    |     C:\\Users\\Sverre\\AppData\\Roaming\\nltk_data...\n",
      "[nltk_data]    |   Package spanish_grammars is already up-to-date!\n",
      "[nltk_data]    | Downloading package state_union to\n",
      "[nltk_data]    |     C:\\Users\\Sverre\\AppData\\Roaming\\nltk_data...\n",
      "[nltk_data]    |   Package state_union is already up-to-date!\n",
      "[nltk_data]    | Downloading package stopwords to\n",
      "[nltk_data]    |     C:\\Users\\Sverre\\AppData\\Roaming\\nltk_data...\n",
      "[nltk_data]    |   Package stopwords is already up-to-date!\n",
      "[nltk_data]    | Downloading package subjectivity to\n",
      "[nltk_data]    |     C:\\Users\\Sverre\\AppData\\Roaming\\nltk_data...\n",
      "[nltk_data]    |   Package subjectivity is already up-to-date!\n",
      "[nltk_data]    | Downloading package swadesh to\n",
      "[nltk_data]    |     C:\\Users\\Sverre\\AppData\\Roaming\\nltk_data...\n",
      "[nltk_data]    |   Package swadesh is already up-to-date!\n",
      "[nltk_data]    | Downloading package switchboard to\n",
      "[nltk_data]    |     C:\\Users\\Sverre\\AppData\\Roaming\\nltk_data...\n",
      "[nltk_data]    |   Package switchboard is already up-to-date!\n",
      "[nltk_data]    | Downloading package tagsets to\n",
      "[nltk_data]    |     C:\\Users\\Sverre\\AppData\\Roaming\\nltk_data...\n",
      "[nltk_data]    |   Package tagsets is already up-to-date!\n",
      "[nltk_data]    | Downloading package timit to\n",
      "[nltk_data]    |     C:\\Users\\Sverre\\AppData\\Roaming\\nltk_data...\n",
      "[nltk_data]    |   Package timit is already up-to-date!\n",
      "[nltk_data]    | Downloading package toolbox to\n",
      "[nltk_data]    |     C:\\Users\\Sverre\\AppData\\Roaming\\nltk_data...\n",
      "[nltk_data]    |   Package toolbox is already up-to-date!\n",
      "[nltk_data]    | Downloading package treebank to\n",
      "[nltk_data]    |     C:\\Users\\Sverre\\AppData\\Roaming\\nltk_data...\n",
      "[nltk_data]    |   Package treebank is already up-to-date!\n",
      "[nltk_data]    | Downloading package twitter_samples to\n",
      "[nltk_data]    |     C:\\Users\\Sverre\\AppData\\Roaming\\nltk_data...\n",
      "[nltk_data]    |   Package twitter_samples is already up-to-date!\n",
      "[nltk_data]    | Downloading package udhr to\n",
      "[nltk_data]    |     C:\\Users\\Sverre\\AppData\\Roaming\\nltk_data...\n",
      "[nltk_data]    |   Package udhr is already up-to-date!\n",
      "[nltk_data]    | Downloading package udhr2 to\n",
      "[nltk_data]    |     C:\\Users\\Sverre\\AppData\\Roaming\\nltk_data...\n",
      "[nltk_data]    |   Package udhr2 is already up-to-date!\n",
      "[nltk_data]    | Downloading package unicode_samples to\n",
      "[nltk_data]    |     C:\\Users\\Sverre\\AppData\\Roaming\\nltk_data...\n",
      "[nltk_data]    |   Package unicode_samples is already up-to-date!\n",
      "[nltk_data]    | Downloading package universal_tagset to\n",
      "[nltk_data]    |     C:\\Users\\Sverre\\AppData\\Roaming\\nltk_data...\n",
      "[nltk_data]    |   Package universal_tagset is already up-to-date!\n",
      "[nltk_data]    | Downloading package universal_treebanks_v20 to\n",
      "[nltk_data]    |     C:\\Users\\Sverre\\AppData\\Roaming\\nltk_data...\n",
      "[nltk_data]    |   Package universal_treebanks_v20 is already up-to-\n",
      "[nltk_data]    |       date!\n",
      "[nltk_data]    | Downloading package vader_lexicon to\n",
      "[nltk_data]    |     C:\\Users\\Sverre\\AppData\\Roaming\\nltk_data...\n",
      "[nltk_data]    |   Package vader_lexicon is already up-to-date!\n",
      "[nltk_data]    | Downloading package verbnet to\n",
      "[nltk_data]    |     C:\\Users\\Sverre\\AppData\\Roaming\\nltk_data...\n",
      "[nltk_data]    |   Package verbnet is already up-to-date!\n",
      "[nltk_data]    | Downloading package verbnet3 to\n",
      "[nltk_data]    |     C:\\Users\\Sverre\\AppData\\Roaming\\nltk_data...\n",
      "[nltk_data]    |   Package verbnet3 is already up-to-date!\n",
      "[nltk_data]    | Downloading package webtext to\n",
      "[nltk_data]    |     C:\\Users\\Sverre\\AppData\\Roaming\\nltk_data...\n",
      "[nltk_data]    |   Package webtext is already up-to-date!\n",
      "[nltk_data]    | Downloading package wmt15_eval to\n",
      "[nltk_data]    |     C:\\Users\\Sverre\\AppData\\Roaming\\nltk_data...\n",
      "[nltk_data]    |   Package wmt15_eval is already up-to-date!\n",
      "[nltk_data]    | Downloading package word2vec_sample to\n",
      "[nltk_data]    |     C:\\Users\\Sverre\\AppData\\Roaming\\nltk_data...\n",
      "[nltk_data]    |   Package word2vec_sample is already up-to-date!\n",
      "[nltk_data]    | Downloading package wordnet to\n",
      "[nltk_data]    |     C:\\Users\\Sverre\\AppData\\Roaming\\nltk_data...\n",
      "[nltk_data]    |   Package wordnet is already up-to-date!\n",
      "[nltk_data]    | Downloading package wordnet2021 to\n",
      "[nltk_data]    |     C:\\Users\\Sverre\\AppData\\Roaming\\nltk_data...\n",
      "[nltk_data]    |   Package wordnet2021 is already up-to-date!\n",
      "[nltk_data]    | Downloading package wordnet31 to\n",
      "[nltk_data]    |     C:\\Users\\Sverre\\AppData\\Roaming\\nltk_data...\n",
      "[nltk_data]    |   Package wordnet31 is already up-to-date!\n",
      "[nltk_data]    | Downloading package wordnet_ic to\n",
      "[nltk_data]    |     C:\\Users\\Sverre\\AppData\\Roaming\\nltk_data...\n",
      "[nltk_data]    |   Package wordnet_ic is already up-to-date!\n",
      "[nltk_data]    | Downloading package words to\n",
      "[nltk_data]    |     C:\\Users\\Sverre\\AppData\\Roaming\\nltk_data...\n",
      "[nltk_data]    |   Package words is already up-to-date!\n",
      "[nltk_data]    | Downloading package ycoe to\n",
      "[nltk_data]    |     C:\\Users\\Sverre\\AppData\\Roaming\\nltk_data...\n",
      "[nltk_data]    |   Package ycoe is already up-to-date!\n",
      "[nltk_data]    | \n",
      "[nltk_data]  Done downloading collection all\n"
     ]
    },
    {
     "data": {
      "text/plain": [
       "True"
      ]
     },
     "execution_count": 1,
     "metadata": {},
     "output_type": "execute_result"
    }
   ],
   "source": [
    "######################################################################################## IMPORTS\n",
    "import nltk\n",
    "from nltk import ne_chunk, pos_tag, word_tokenize\n",
    "from nltk.sem.relextract import extract_rels\n",
    "from os.path import isfile\n",
    "import json\n",
    "import ftfy\n",
    "import glob\n",
    "import re\n",
    "\n",
    "######################################################################################## RUN ONLY ONCE\n",
    "# download the pos tagger since its not included by default\n",
    "nltk.download('averaged_perceptron_tagger')\n",
    "nltk.download('maxent_ne_chunker')\n",
    "nltk.download('words')\n",
    "# enable only if fresh NLTK or lots of issues\n",
    "nltk.download('all')"
   ]
  },
  {
   "cell_type": "code",
   "execution_count": 2,
   "metadata": {},
   "outputs": [
    {
     "name": "stderr",
     "output_type": "stream",
     "text": [
      "[nltk_data] Downloading package omw-1.4 to\n",
      "[nltk_data]     C:\\Users\\Sverre\\AppData\\Roaming\\nltk_data...\n",
      "[nltk_data]   Package omw-1.4 is already up-to-date!\n"
     ]
    }
   ],
   "source": [
    "import requests\n",
    "import re\n",
    "import hashlib\n",
    "from spacy import Language, util\n",
    "from typing import List\n",
    "from spacy.tokens import Doc, Span\n",
    "from transformers import pipeline\n",
    "import crosslingual_coreference\n",
    "import spacy\n",
    "from os.path import isfile\n",
    "import os\n",
    "import ftfy\n",
    "import json\n",
    "import glob\n",
    "from tqdm import tqdm\n",
    "import pandas as pd\n",
    "import numpy as np"
   ]
  },
  {
   "cell_type": "code",
   "execution_count": 3,
   "metadata": {},
   "outputs": [],
   "source": [
    "import pandas as pd\n",
    "import numpy as np"
   ]
  },
  {
   "cell_type": "code",
   "execution_count": 4,
   "metadata": {},
   "outputs": [],
   "source": [
    "import spacy"
   ]
  },
  {
   "cell_type": "code",
   "execution_count": 5,
   "metadata": {},
   "outputs": [],
   "source": [
    "\"\"\"\n",
    "        Function to apply preprocessing on a selection of files and store it in a separate folder\n",
    "        - path: root folder (preprocessed-nltk), \n",
    "        - subf desired subfolder: AA or AB, must be passed as a string (e.g. \"AA\") \n",
    "        - files in subfolder AA: e.g. p_n_wiki_00 \n",
    "        - files in subfolder AB: e.g. p_n_wiki_00\n",
    "        - start: start number file, e.g. 0-99 (no need to fill in 00, 0 is fine)\n",
    "        - end: end number file, e.g. 0-99\n",
    "        - the range is inclusive which means, e.g. with (0, 0) you select & pre-process file wiki_00,\n",
    "        - with (32, 50) you select file wiki_32 up till wiki_50\n",
    "\"\"\" \n",
    "def rel_extraction_mul_files(path, subf=None, start=None, end=None, pattern=re.compile(r'.'), relation_string=\"test_relation_string\", first='PERSON', second='GPE'):\n",
    "    triplets = []\n",
    "    print(\"Computing triplets for relation \", relation_string, \"with pattern \", pattern)\n",
    "    if subf:\n",
    "        # from file start to end\n",
    "        for i in range(start, end+1):\n",
    "            # to match the filename p_n_wiki_00 up till p_n_wiki_09 we add a zero in front of the number from user input if necessary\n",
    "            if i < 10:\n",
    "                i = \"0\" + str(i)\n",
    "            # construct path to file name that falls within range\n",
    "            f = path + subf + \"/p_n_wiki_{}\".format(i) \n",
    "            \n",
    "            # if file exists\n",
    "            if isfile(f):\n",
    "                # OPEN FILE, GO THROUGH EACH SEN AND PASS THAT INTO COREF FUNCTION\n",
    "                file = open(f, 'r', encoding='utf-8')\n",
    "                doc = json.load(file)\n",
    "                for k, v in doc.items():\n",
    "                    v = ftfy.fix_text(v) # FIX ANY ENCODINGS\n",
    "                    # if paragraph has more than one word\n",
    "                    if len(v.split(\" \")) > 1:\n",
    "                        use = v\n",
    "                        # tokenize sentence\n",
    "                        token = word_tokenize(use)\n",
    "                        # pos_tag sentence\n",
    "                        pos = pos_tag(token)\n",
    "                        # chunk sentence\n",
    "                        chunked = ne_chunk(pos)                        \n",
    "                        # (any of 'LOCATION', 'ORGANIZATION', 'PERSON', 'DURATION', 'DATE', 'CARDINAL', 'PERCENT', 'MONEY', 'MEASURE')\n",
    "                        rels = extract_rels(first, second, chunked, corpus='ace', pattern=pattern, window = 100)\n",
    "                        for relation in rels:\n",
    "                            #subjsym and objsym\n",
    "                            triplets.append((k, relation[\"subjsym\"], relation_string, relation[\"objsym\"] ))\n",
    "    else:\n",
    "        for f in glob.glob('preprocessed-nltk/*/*'):\n",
    "            # OPEN EACH FILE, GO THROUGH EACH PARAGRAPH AND PASS THAT INTO COREF FUNC\n",
    "            file = open(f, 'r', encoding='utf-8')\n",
    "            doc = json.load(file)\n",
    "            for k, v in doc.items():\n",
    "                v = ftfy.fix_text(v) # FIX ANY ENCODINGS\n",
    "                # if paragraph has more than one word\n",
    "                if len(v.split(\" \")) > 1:\n",
    "                    use = v\n",
    "                    # tokenize sentence\n",
    "                    token = word_tokenize(use)\n",
    "                    # pos_tag sentence\n",
    "                    pos = pos_tag(token)\n",
    "                    # chunk sentence\n",
    "                    chunked = ne_chunk(pos)                        \n",
    "                    # (any of 'LOCATION', 'ORGANIZATION', 'PERSON', 'DURATION', 'DATE', 'CARDINAL', 'PERCENT', 'MONEY', 'MEASURE')\n",
    "                    rels = extract_rels(first, second, chunked, corpus='ace', pattern=pattern, window = 100)\n",
    "                    for relation in rels:\n",
    "                            #subjsym and objsym\n",
    "                            triplets.append((k, relation[0][\"subjsym\"], relation_string, relation[0][\"objsym\"] ))\n",
    "    print(\"Finished computing relations\")\n",
    "    return triplets"
   ]
  },
  {
   "cell_type": "code",
   "execution_count": 6,
   "metadata": {},
   "outputs": [],
   "source": [
    "############################################################################### INITIALIZING VARIABLES\n",
    "path = \"./preprocessed-nltk/\""
   ]
  },
  {
   "cell_type": "code",
   "execution_count": 7,
   "metadata": {},
   "outputs": [],
   "source": [
    "#rel_extraction_mul_files(path, \"AA\", 0, 99, pattern=re.compile(r'.*\\bbear\\b.*\\bin\\b.*'), first='PERSON', second='GPE') # rel_extraction_mul_files(path)"
   ]
  },
  {
   "cell_type": "markdown",
   "metadata": {},
   "source": [
    "# Computing results"
   ]
  },
  {
   "cell_type": "code",
   "execution_count": 62,
   "metadata": {},
   "outputs": [],
   "source": [
    "# load evaluation set\n",
    "evaluation_df = pd.read_csv('Evaluation_Set_CSV.csv')\n",
    "# unique indexes in EVAL set\n",
    "indexes = evaluation_df['PAR ID'].unique()\n",
    "# unique predicates in EVAL set\n",
    "predicates = evaluation_df['PRED'].unique()"
   ]
  },
  {
   "cell_type": "code",
   "execution_count": 63,
   "metadata": {},
   "outputs": [
    {
     "data": {
      "text/plain": [
       "occupation        265\n",
       "educated at       156\n",
       "member of         125\n",
       "date of birth      84\n",
       "founded by         80\n",
       "place of birth     49\n",
       "date of death      13\n",
       "spouse             13\n",
       "Name: PRED, dtype: int64"
      ]
     },
     "execution_count": 63,
     "metadata": {},
     "output_type": "execute_result"
    }
   ],
   "source": [
    "evaluation_df['PRED'].value_counts()"
   ]
  },
  {
   "cell_type": "code",
   "execution_count": 64,
   "metadata": {},
   "outputs": [],
   "source": [
    "# [0] = pattern [1] = first [2] = second [3] = relation string\n",
    "#(any of 'LOCATION', 'ORGANIZATION', 'PERSON', 'DURATION', 'DATE', 'CARDINAL', 'PERCENT', 'MONEY', 'MEASURE')\n",
    "setting_variations = [(re.compile(r'.*\\bwork\\b.*\\bas\\b.*'), \"PERSON\", \"ORGANIZATION\", \"occupation\"), \n",
    "                        (re.compile(r'.*\\bgraduate\\b.*\\bfrom\\b.*'), \"PERSON\", \"ORGANIZATION\", \"educated at\"), \n",
    "                            (re.compile(r'.*\\bbear\\b.*\\bon\\b.*'), \"PERSON\", \"DATE\", \"date of birth\"), \n",
    "                                (re.compile(r'.*\\bbear\\b.*\\bin\\b.*'), \"PERSON\", \"GPE\", \"place of birth\"), \n",
    "                                    (re.compile(r'.*\\bfound\\b.*'), \"ORGANIZATION\", \"PERSON\", \"founded by\"), \n",
    "                                        (re.compile(r'.*\\bmember\\b.*\\bof\\b.*'), \"PERSON\", \"ORGANIZATION\", \"member of\"), \n",
    "                                            (re.compile(r'.*\\bdie\\b.*\\bon\\b.*'), \"PERSON\", \"DATE\", \"date of death\"), \n",
    "                                                (re.compile(r'.*\\bhusband\\b.*'), \"PERSON\", \"PERSON\", \"spouse\"),\n",
    "                                                    (re.compile(r'.*\\bwife\\b.*'), \"PERSON\", \"PERSON\", \"spouse\")]"
   ]
  },
  {
   "cell_type": "code",
   "execution_count": 65,
   "metadata": {},
   "outputs": [],
   "source": [
    "# full_relations_list = []\n",
    "# for setting in setting_variations:\n",
    "#     full_relations_list = full_relations_list + rel_extraction_mul_files(path, \"AA\", 0, 99, pattern=setting[0], first=setting[1], second=setting[2], relation_string=setting[3])\n",
    "#     full_relations_list = full_relations_list + rel_extraction_mul_files(path, \"AB\", 0, 69, pattern=setting[0], first=setting[1], second=setting[2], relation_string=setting[3])\n",
    "#     print(\"The length of the full list is now: \", len(full_relations_list))"
   ]
  },
  {
   "cell_type": "code",
   "execution_count": 66,
   "metadata": {},
   "outputs": [],
   "source": [
    "import csv\n",
    "# file = open('NLTK_results.csv', 'w', encoding=\"utf-8\")\n",
    "# writer = csv.writer(file)\n",
    "# writer.writerow(['PAR ID', 'SUB', 'PRED' , 'OBJ'])\n",
    "# for i in range(0, len(full_relations_list)):\n",
    "#     writer.writerow(full_relations_list[i])\n",
    "# file.close()"
   ]
  },
  {
   "cell_type": "markdown",
   "metadata": {},
   "source": [
    "# Evaluation"
   ]
  },
  {
   "cell_type": "code",
   "execution_count": 67,
   "metadata": {},
   "outputs": [],
   "source": [
    "NLTK_results_csv = pd.read_csv('NLTK_results.csv')"
   ]
  },
  {
   "cell_type": "code",
   "execution_count": 68,
   "metadata": {},
   "outputs": [
    {
     "data": {
      "text/html": [
       "<div>\n",
       "<style scoped>\n",
       "    .dataframe tbody tr th:only-of-type {\n",
       "        vertical-align: middle;\n",
       "    }\n",
       "\n",
       "    .dataframe tbody tr th {\n",
       "        vertical-align: top;\n",
       "    }\n",
       "\n",
       "    .dataframe thead th {\n",
       "        text-align: right;\n",
       "    }\n",
       "</style>\n",
       "<table border=\"1\" class=\"dataframe\">\n",
       "  <thead>\n",
       "    <tr style=\"text-align: right;\">\n",
       "      <th></th>\n",
       "      <th>PAR ID</th>\n",
       "      <th>SUB</th>\n",
       "      <th>PRED</th>\n",
       "      <th>OBJ</th>\n",
       "    </tr>\n",
       "  </thead>\n",
       "  <tbody>\n",
       "    <tr>\n",
       "      <th>1</th>\n",
       "      <td>93547-3</td>\n",
       "      <td>arthur_john_robin_gorell_milner</td>\n",
       "      <td>occupation</td>\n",
       "      <td>ferranti</td>\n",
       "    </tr>\n",
       "    <tr>\n",
       "      <th>2</th>\n",
       "      <td>184462-1</td>\n",
       "      <td>david_harold_bailey</td>\n",
       "      <td>occupation</td>\n",
       "      <td>nasa_ames</td>\n",
       "    </tr>\n",
       "    <tr>\n",
       "      <th>108</th>\n",
       "      <td>51694863-7</td>\n",
       "      <td>neuman</td>\n",
       "      <td>occupation</td>\n",
       "      <td>national_institute</td>\n",
       "    </tr>\n",
       "    <tr>\n",
       "      <th>109</th>\n",
       "      <td>51745138-3</td>\n",
       "      <td>berlin</td>\n",
       "      <td>occupation</td>\n",
       "      <td>principal_data</td>\n",
       "    </tr>\n",
       "    <tr>\n",
       "      <th>110</th>\n",
       "      <td>51947774-7</td>\n",
       "      <td>cynthia_barnhart</td>\n",
       "      <td>occupation</td>\n",
       "      <td>school</td>\n",
       "    </tr>\n",
       "    <tr>\n",
       "      <th>...</th>\n",
       "      <td>...</td>\n",
       "      <td>...</td>\n",
       "      <td>...</td>\n",
       "      <td>...</td>\n",
       "    </tr>\n",
       "    <tr>\n",
       "      <th>2945</th>\n",
       "      <td>51956447-4</td>\n",
       "      <td>prakash_vijayanath</td>\n",
       "      <td>member of</td>\n",
       "      <td>road</td>\n",
       "    </tr>\n",
       "    <tr>\n",
       "      <th>2946</th>\n",
       "      <td>52037349-1</td>\n",
       "      <td>tat_tong</td>\n",
       "      <td>member of</td>\n",
       "      <td>american_idol</td>\n",
       "    </tr>\n",
       "    <tr>\n",
       "      <th>2947</th>\n",
       "      <td>52041825-1</td>\n",
       "      <td>tina_l_podlodowski</td>\n",
       "      <td>member of</td>\n",
       "      <td>seattle_city_council</td>\n",
       "    </tr>\n",
       "    <tr>\n",
       "      <th>3099</th>\n",
       "      <td>93547-4</td>\n",
       "      <td>arthur_john_robin_gorell_milner</td>\n",
       "      <td>spouse</td>\n",
       "      <td>lucy</td>\n",
       "    </tr>\n",
       "    <tr>\n",
       "      <th>3100</th>\n",
       "      <td>276160-7</td>\n",
       "      <td>william_allan_wulf</td>\n",
       "      <td>spouse</td>\n",
       "      <td>anita_k_jones</td>\n",
       "    </tr>\n",
       "  </tbody>\n",
       "</table>\n",
       "<p>121 rows × 4 columns</p>\n",
       "</div>"
      ],
      "text/plain": [
       "          PAR ID                              SUB        PRED  \\\n",
       "1        93547-3  arthur_john_robin_gorell_milner  occupation   \n",
       "2       184462-1              david_harold_bailey  occupation   \n",
       "108   51694863-7                           neuman  occupation   \n",
       "109   51745138-3                           berlin  occupation   \n",
       "110   51947774-7                 cynthia_barnhart  occupation   \n",
       "...          ...                              ...         ...   \n",
       "2945  51956447-4               prakash_vijayanath   member of   \n",
       "2946  52037349-1                         tat_tong   member of   \n",
       "2947  52041825-1               tina_l_podlodowski   member of   \n",
       "3099     93547-4  arthur_john_robin_gorell_milner      spouse   \n",
       "3100    276160-7               william_allan_wulf      spouse   \n",
       "\n",
       "                       OBJ  \n",
       "1                 ferranti  \n",
       "2                nasa_ames  \n",
       "108     national_institute  \n",
       "109         principal_data  \n",
       "110                 school  \n",
       "...                    ...  \n",
       "2945                  road  \n",
       "2946         american_idol  \n",
       "2947  seattle_city_council  \n",
       "3099                  lucy  \n",
       "3100         anita_k_jones  \n",
       "\n",
       "[121 rows x 4 columns]"
      ]
     },
     "execution_count": 68,
     "metadata": {},
     "output_type": "execute_result"
    }
   ],
   "source": [
    "NLTK_results_csv = NLTK_results_csv[NLTK_results_csv[\"PAR ID\"].isin(indexes)]\n",
    "NLTK_results_csv"
   ]
  },
  {
   "cell_type": "code",
   "execution_count": 69,
   "metadata": {},
   "outputs": [],
   "source": [
    "indexes_results = NLTK_results_csv['PAR ID'].unique()\n",
    "# unique predicates in EVAL set\n",
    "predicates_results = NLTK_results_csv['PRED'].unique()"
   ]
  },
  {
   "cell_type": "code",
   "execution_count": 70,
   "metadata": {},
   "outputs": [],
   "source": [
    "NLTK_results_csv = NLTK_results_csv.set_index('PAR ID')\n"
   ]
  },
  {
   "cell_type": "code",
   "execution_count": 71,
   "metadata": {},
   "outputs": [],
   "source": [
    "evaluation_df = evaluation_df.set_index('PAR ID')"
   ]
  },
  {
   "cell_type": "code",
   "execution_count": 72,
   "metadata": {},
   "outputs": [
    {
     "name": "stderr",
     "output_type": "stream",
     "text": [
      "C:\\Users\\Sverre\\AppData\\Local\\Temp\\ipykernel_3992\\1994584447.py:1: FutureWarning: arrays to stack must be passed as a \"sequence\" type such as list or tuple. Support for non-sequence iterables such as generators is deprecated as of NumPy 1.16 and will raise an error in the future.\n",
      "  eval_list_true_id = np.vstack({tuple(row) for row in evaluation_df.to_numpy()})\n"
     ]
    }
   ],
   "source": [
    "eval_list_true_id = np.vstack({tuple(row) for row in evaluation_df.to_numpy()})"
   ]
  },
  {
   "cell_type": "code",
   "execution_count": 73,
   "metadata": {},
   "outputs": [
    {
     "name": "stderr",
     "output_type": "stream",
     "text": [
      "C:\\Users\\Sverre\\AppData\\Local\\Temp\\ipykernel_3992\\2744041742.py:1: FutureWarning: arrays to stack must be passed as a \"sequence\" type such as list or tuple. Support for non-sequence iterables such as generators is deprecated as of NumPy 1.16 and will raise an error in the future.\n",
      "  eval_list_pred_id = np.vstack({tuple(row) for row in NLTK_results_csv.to_numpy()})\n"
     ]
    }
   ],
   "source": [
    "eval_list_pred_id = np.vstack({tuple(row) for row in NLTK_results_csv.to_numpy()})"
   ]
  },
  {
   "cell_type": "code",
   "execution_count": 74,
   "metadata": {},
   "outputs": [
    {
     "data": {
      "text/plain": [
       "{'educated at': 4,\n",
       " 'member of': 10,\n",
       " 'place of birth': 44,\n",
       " 'occupation': 8,\n",
       " 'spouse': 2,\n",
       " 'founded by': 2}"
      ]
     },
     "execution_count": 74,
     "metadata": {},
     "output_type": "execute_result"
    }
   ],
   "source": [
    "dicty = {}\n",
    "for i in eval_list_pred_id:\n",
    "    if not i[1] in dicty.keys():\n",
    "        dicty[i[1]] = 1\n",
    "    else:\n",
    "        dicty[i[1]] = dicty[i[1]] + 1\n",
    "dicty"
   ]
  },
  {
   "cell_type": "markdown",
   "metadata": {},
   "source": [
    "# Method 1: substring"
   ]
  },
  {
   "cell_type": "code",
   "execution_count": 75,
   "metadata": {},
   "outputs": [],
   "source": [
    "new_true = [[str(element.replace(\"_\", \" \").lower()) for element in triple] for triple in eval_list_true_id]\n",
    "new_pred = [[str(element.replace(\"_\", \" \").lower()) for element in triple] for triple in eval_list_pred_id]"
   ]
  },
  {
   "cell_type": "code",
   "execution_count": 76,
   "metadata": {},
   "outputs": [],
   "source": [
    "correct = 0\n",
    "for triple_pred in new_pred:\n",
    "    for triple_true in new_true:\n",
    "        if (triple_pred[0] in triple_true[0] or triple_true[0] in triple_pred[0]) and (triple_pred[1] in triple_true[1] or triple_true[1] in triple_pred[1]) and (triple_pred[2] in triple_true[2] or triple_true[2] in triple_pred[2]):\n",
    "            #print(triple_true)\n",
    "            #print(triple_pred)\n",
    "            #print()\n",
    "            correct += 1\n",
    "\n",
    "recall = correct/max(1,len(new_true))\n",
    "precision = correct/max(1,len(new_pred))"
   ]
  },
  {
   "cell_type": "code",
   "execution_count": 77,
   "metadata": {},
   "outputs": [
    {
     "name": "stdout",
     "output_type": "stream",
     "text": [
      "Number of correct predictions: 34 Number of evaluation triples: 779\n",
      "Recall: 0.043645699614890884\n",
      "Precision: 0.4857142857142857\n",
      "F1: 0.042398679625894005\n"
     ]
    }
   ],
   "source": [
    "print('Number of correct predictions: {}'.format(correct), 'Number of evaluation triples: {}'.format(len(new_true)))\n",
    "\n",
    "print('Recall: {}'.format(recall))\n",
    "print('Precision: {}'.format(precision))\n",
    "print('F1: {}'.format(2*precision*recall/max(1,precision+recall)))"
   ]
  },
  {
   "cell_type": "code",
   "execution_count": 78,
   "metadata": {},
   "outputs": [
    {
     "name": "stdout",
     "output_type": "stream",
     "text": [
      "Number of articles not predicted by NLTK, but in Evaluation set: 749\n"
     ]
    }
   ],
   "source": [
    "missing_triples = []\n",
    "for triple_true in new_true:\n",
    "    triple_missing = True\n",
    "    for triple_pred in new_pred:\n",
    "        if (triple_pred[0] in triple_true[0] or triple_true[0] in triple_pred[0]) and (triple_pred[1] in triple_true[1] or triple_true[1] in triple_pred[1]) and (triple_pred[2] in triple_true[2] or triple_true[2] in triple_pred[2]):\n",
    "            triple_missing = False\n",
    "    if triple_missing:\n",
    "        missing_triples.append(triple_true)\n",
    "\n",
    "print('Number of articles not predicted by NLTK, but in Evaluation set: {}'.format(len(missing_triples)))\n",
    "#missing_triples"
   ]
  },
  {
   "cell_type": "code",
   "execution_count": 79,
   "metadata": {},
   "outputs": [
    {
     "name": "stdout",
     "output_type": "stream",
     "text": [
      "Number of articles predicted by NLTK, but not in Evaluation set: 37\n"
     ]
    }
   ],
   "source": [
    "missing_triples = []\n",
    "\n",
    "for triple_pred in new_pred:\n",
    "    triple_missing = True\n",
    "    for triple_true in new_true:\n",
    "        if (triple_pred[0] in triple_true[0] or triple_true[0] in triple_pred[0]) and (triple_pred[1] in triple_true[1] or triple_true[1] in triple_pred[1]) and (triple_pred[2] in triple_true[2] or triple_true[2] in triple_pred[2]):\n",
    "            triple_missing = False\n",
    "    if triple_missing:\n",
    "        missing_triples.append(triple_pred)\n",
    "\n",
    "print('Number of articles predicted by NLTK, but not in Evaluation set: {}'.format(len(missing_triples)))\n",
    "#missing_triples"
   ]
  },
  {
   "cell_type": "code",
   "execution_count": 80,
   "metadata": {},
   "outputs": [
    {
     "name": "stdout",
     "output_type": "stream",
     "text": [
      "date of birth 83 0\n",
      "occupation 264 8\n",
      "educated at 155 4\n",
      "spouse 13 2\n",
      "place of birth 49 44\n",
      "member of 124 10\n",
      "founded by 78 2\n",
      "date of death 13 0\n"
     ]
    }
   ],
   "source": [
    "predicates = ['date of birth', 'occupation', 'educated at', 'spouse', 'place of birth', 'member of', 'founded by', 'date of death']\n",
    "recall_per_predicate = dict()\n",
    "precision_per_predicate = dict()\n",
    "f1_per_predicate = dict()\n",
    "\n",
    "for predicate in predicates:\n",
    "    \n",
    "    true_predicate = []\n",
    "    pred_predicate = []\n",
    "    \n",
    "    for triple in eval_list_true_id:\n",
    "        if triple[1] == predicate:\n",
    "            true_predicate.append(triple)\n",
    "    \n",
    "    for triple in eval_list_pred_id:\n",
    "        if triple[1] == predicate:\n",
    "            pred_predicate.append(triple)\n",
    "\n",
    "    new_true = [[str(element.replace(\"_\", \" \").lower()) for element in triple] for triple in true_predicate]\n",
    "    new_pred = [[str(element.replace(\"_\", \" \").lower()) for element in triple] for triple in pred_predicate]\n",
    "    print(predicate, len(new_true), len(new_pred))\n",
    "\n",
    "\n",
    "    correct = 0\n",
    "    for triple_pred in new_pred:\n",
    "        for triple_true in new_true:\n",
    "            # if (triple_pred[0] in triple_true[0] or triple_true[0] in triple_pred[0]) or (triple_pred[2] in triple_true[2] or triple_true[2] in triple_pred[2]):\n",
    "            #     print(\"predicted: \", triple_pred, \"true: \", triple_true)\n",
    "            if (triple_pred[0] in triple_true[0] or triple_true[0] in triple_pred[0]) and (triple_pred[1] in triple_true[1] or triple_true[1] in triple_pred[1]) and (triple_pred[2] in triple_true[2] or triple_true[2] in triple_pred[2]):\n",
    "                correct += 1\n",
    "\n",
    "    recall = correct/max(1,len(new_true))\n",
    "    recall_per_predicate[predicate] = recall\n",
    "    \n",
    "    precision = correct/max(1,len(new_pred))\n",
    "    precision_per_predicate[predicate] = precision\n",
    "    \n",
    "    f1 = 2*precision*recall/max(1,precision+recall)\n",
    "    f1_per_predicate[predicate] = f1"
   ]
  },
  {
   "cell_type": "code",
   "execution_count": 81,
   "metadata": {},
   "outputs": [
    {
     "name": "stdout",
     "output_type": "stream",
     "text": [
      "Recall per predicate\n"
     ]
    },
    {
     "data": {
      "text/plain": [
       "{'date of birth': 0.0,\n",
       " 'occupation': 0.003787878787878788,\n",
       " 'educated at': 0.03225806451612903,\n",
       " 'spouse': 0.07692307692307693,\n",
       " 'place of birth': 0.4897959183673469,\n",
       " 'member of': 0.024193548387096774,\n",
       " 'founded by': 0.0,\n",
       " 'date of death': 0.0}"
      ]
     },
     "execution_count": 81,
     "metadata": {},
     "output_type": "execute_result"
    }
   ],
   "source": [
    "print('Recall per predicate')\n",
    "recall_per_predicate"
   ]
  },
  {
   "cell_type": "code",
   "execution_count": 82,
   "metadata": {},
   "outputs": [
    {
     "name": "stdout",
     "output_type": "stream",
     "text": [
      "Precision per predicate\n"
     ]
    },
    {
     "data": {
      "text/plain": [
       "{'date of birth': 0.0,\n",
       " 'occupation': 0.125,\n",
       " 'educated at': 1.25,\n",
       " 'spouse': 0.5,\n",
       " 'place of birth': 0.5454545454545454,\n",
       " 'member of': 0.3,\n",
       " 'founded by': 0.0,\n",
       " 'date of death': 0.0}"
      ]
     },
     "execution_count": 82,
     "metadata": {},
     "output_type": "execute_result"
    }
   ],
   "source": [
    "print('Precision per predicate')\n",
    "precision_per_predicate"
   ]
  },
  {
   "cell_type": "code",
   "execution_count": 83,
   "metadata": {},
   "outputs": [
    {
     "name": "stdout",
     "output_type": "stream",
     "text": [
      "F1 per predicate\n"
     ]
    },
    {
     "data": {
      "text/plain": [
       "{'date of birth': 0.0,\n",
       " 'occupation': 0.000946969696969697,\n",
       " 'educated at': 0.06289308176100629,\n",
       " 'spouse': 0.07692307692307693,\n",
       " 'place of birth': 0.5161290322580645,\n",
       " 'member of': 0.014516129032258063,\n",
       " 'founded by': 0.0,\n",
       " 'date of death': 0.0}"
      ]
     },
     "execution_count": 83,
     "metadata": {},
     "output_type": "execute_result"
    }
   ],
   "source": [
    "print('F1 per predicate')\n",
    "f1_per_predicate"
   ]
  },
  {
   "cell_type": "markdown",
   "metadata": {},
   "source": [
    "# Method 2: similarity"
   ]
  },
  {
   "cell_type": "code",
   "execution_count": 84,
   "metadata": {},
   "outputs": [],
   "source": [
    "nlp = spacy.load('en_core_web_sm')\n",
    "new_true = [[nlp(str(element.replace(\"_\", \" \").lower())) for element in triple] for triple in eval_list_true_id]\n",
    "new_pred = [[nlp(str(element.replace(\"_\", \" \").lower())) for element in triple] for triple in eval_list_pred_id]"
   ]
  },
  {
   "cell_type": "code",
   "execution_count": 85,
   "metadata": {},
   "outputs": [],
   "source": [
    "correct = 0\n",
    "for triple_pred in new_pred:\n",
    "    for triple_true in new_true:\n",
    "        if triple_pred[0].similarity(triple_true[0]) >= 0.9 and triple_pred[1].similarity(triple_true[1]) >= 0.99 and triple_pred[2].similarity(triple_true[2]) >= 0.9:\n",
    "            # print(triple_true)\n",
    "            # print(triple_pred)\n",
    "            # print()\n",
    "            correct += 1\n",
    "\n",
    "recall = correct/max(1,len(new_true))\n",
    "precision = correct/max(1,len(new_pred))"
   ]
  },
  {
   "cell_type": "code",
   "execution_count": 86,
   "metadata": {},
   "outputs": [
    {
     "name": "stdout",
     "output_type": "stream",
     "text": [
      "Number of correct predictions: 6 Number of evaluation triples: 779\n",
      "Recall: 0.007702182284980745\n",
      "Precision: 0.08571428571428572\n",
      "F1: 0.001320374105996699\n"
     ]
    }
   ],
   "source": [
    "print('Number of correct predictions: {}'.format(correct), 'Number of evaluation triples: {}'.format(len(new_true)))\n",
    "\n",
    "print('Recall: {}'.format(recall))\n",
    "print('Precision: {}'.format(precision))\n",
    "print('F1: {}'.format(2*precision*recall/max(1,precision+recall)))"
   ]
  },
  {
   "cell_type": "code",
   "execution_count": 87,
   "metadata": {},
   "outputs": [
    {
     "name": "stdout",
     "output_type": "stream",
     "text": [
      "Number of articles not predicted by NLTK, but in Evaluation set: 773\n"
     ]
    }
   ],
   "source": [
    "missing_triples = []\n",
    "for triple_true in new_true:\n",
    "    triple_missing = True\n",
    "    for triple_pred in new_pred:\n",
    "        if triple_pred[0].similarity(triple_true[0]) >= 0.9 and triple_pred[1].similarity(triple_true[1]) >= 0.99 and triple_pred[2].similarity(triple_true[2]) >= 0.9:\n",
    "            triple_missing = False\n",
    "    if triple_missing:\n",
    "        missing_triples.append(triple_true)\n",
    "\n",
    "print('Number of articles not predicted by NLTK, but in Evaluation set: {}'.format(len(missing_triples)))\n",
    "#missing_triples"
   ]
  },
  {
   "cell_type": "code",
   "execution_count": 88,
   "metadata": {},
   "outputs": [
    {
     "name": "stdout",
     "output_type": "stream",
     "text": [
      "Number of articles predicted by NLTK, but not in Evaluation set: 64\n"
     ]
    }
   ],
   "source": [
    "missing_triples = []\n",
    "\n",
    "for triple_pred in new_pred:\n",
    "    triple_missing = True\n",
    "    for triple_true in new_true:\n",
    "        if triple_pred[0].similarity(triple_true[0]) >= 0.9 and triple_pred[1].similarity(triple_true[1]) >= 0.99 and triple_pred[2].similarity(triple_true[2]) >= 0.9:\n",
    "            triple_missing = False\n",
    "    if triple_missing:\n",
    "        missing_triples.append(triple_pred)\n",
    "\n",
    "print('Number of articles predicted by NLTK, but not in Evaluation set: {}'.format(len(missing_triples)))\n",
    "#missing_triples"
   ]
  },
  {
   "cell_type": "code",
   "execution_count": 89,
   "metadata": {},
   "outputs": [],
   "source": [
    "predicates = ['date of birth', 'occupation', 'educated at', 'spouse', 'place of birth', 'member of', 'founded by', 'date of death']\n",
    "recall_per_predicate = dict()\n",
    "precision_per_predicate = dict()\n",
    "f1_per_predicate = dict()\n",
    "\n",
    "for predicate in predicates:\n",
    "    \n",
    "    true_predicate = []\n",
    "    pred_predicate = []\n",
    "    \n",
    "    for triple in eval_list_true_id:\n",
    "        if triple[1] == predicate:\n",
    "            true_predicate.append(triple)\n",
    "    \n",
    "    for triple in eval_list_pred_id:\n",
    "        if triple[1] == predicate:\n",
    "            pred_predicate.append(triple)\n",
    "\n",
    "    nlp = spacy.load('en_core_web_sm')\n",
    "    new_true = [[nlp(str(element.replace(\"_\", \" \").lower())) for element in triple] for triple in true_predicate]\n",
    "    new_pred = [[nlp(str(element.replace(\"_\", \" \").lower())) for element in triple] for triple in pred_predicate]\n",
    "\n",
    "    correct = 0\n",
    "    for triple_pred in new_pred:\n",
    "        for triple_true in new_true:\n",
    "            if triple_pred[0].similarity(triple_true[0]) >= 0.9 and triple_pred[1].similarity(triple_true[1]) >= 0.99 and triple_pred[2].similarity(triple_true[2]) >= 0.9:\n",
    "                correct += 1\n",
    "\n",
    "    recall = correct/max(1,len(new_true))\n",
    "    recall_per_predicate[predicate] = recall\n",
    "    \n",
    "    precision = correct/max(1,len(new_pred))\n",
    "    precision_per_predicate[predicate] = precision\n",
    "    \n",
    "    f1 = 2*precision*recall/max(1,precision+recall)\n",
    "    f1_per_predicate[predicate] = f1"
   ]
  },
  {
   "cell_type": "code",
   "execution_count": 90,
   "metadata": {},
   "outputs": [
    {
     "name": "stdout",
     "output_type": "stream",
     "text": [
      "Recall per predicate\n"
     ]
    },
    {
     "data": {
      "text/plain": [
       "{'date of birth': 0.0,\n",
       " 'occupation': 0.003787878787878788,\n",
       " 'educated at': 0.0,\n",
       " 'spouse': 0.07692307692307693,\n",
       " 'place of birth': 0.08163265306122448,\n",
       " 'member of': 0.0,\n",
       " 'founded by': 0.0,\n",
       " 'date of death': 0.0}"
      ]
     },
     "execution_count": 90,
     "metadata": {},
     "output_type": "execute_result"
    }
   ],
   "source": [
    "print('Recall per predicate')\n",
    "recall_per_predicate"
   ]
  },
  {
   "cell_type": "code",
   "execution_count": 91,
   "metadata": {},
   "outputs": [
    {
     "name": "stdout",
     "output_type": "stream",
     "text": [
      "Precision per predicate\n"
     ]
    },
    {
     "data": {
      "text/plain": [
       "{'date of birth': 0.0,\n",
       " 'occupation': 0.125,\n",
       " 'educated at': 0.0,\n",
       " 'spouse': 0.5,\n",
       " 'place of birth': 0.09090909090909091,\n",
       " 'member of': 0.0,\n",
       " 'founded by': 0.0,\n",
       " 'date of death': 0.0}"
      ]
     },
     "execution_count": 91,
     "metadata": {},
     "output_type": "execute_result"
    }
   ],
   "source": [
    "print('Precision per predicate')\n",
    "precision_per_predicate"
   ]
  },
  {
   "cell_type": "code",
   "execution_count": 92,
   "metadata": {},
   "outputs": [
    {
     "name": "stdout",
     "output_type": "stream",
     "text": [
      "F1 per predicate\n"
     ]
    },
    {
     "data": {
      "text/plain": [
       "{'date of birth': 0.0,\n",
       " 'occupation': 0.000946969696969697,\n",
       " 'educated at': 0.0,\n",
       " 'spouse': 0.07692307692307693,\n",
       " 'place of birth': 0.01484230055658627,\n",
       " 'member of': 0.0,\n",
       " 'founded by': 0.0,\n",
       " 'date of death': 0.0}"
      ]
     },
     "execution_count": 92,
     "metadata": {},
     "output_type": "execute_result"
    }
   ],
   "source": [
    "print('F1 per predicate')\n",
    "f1_per_predicate"
   ]
  }
 ],
 "metadata": {
  "kernelspec": {
   "display_name": "Python 3.10.8 64-bit (microsoft store)",
   "language": "python",
   "name": "python3"
  },
  "language_info": {
   "codemirror_mode": {
    "name": "ipython",
    "version": 3
   },
   "file_extension": ".py",
   "mimetype": "text/x-python",
   "name": "python",
   "nbconvert_exporter": "python",
   "pygments_lexer": "ipython3",
   "version": "3.10.8"
  },
  "orig_nbformat": 4,
  "vscode": {
   "interpreter": {
    "hash": "36a40502b4c58eaa666807b0a42297727925289edfd6f0a71d83ace7c9e35f56"
   }
  }
 },
 "nbformat": 4,
 "nbformat_minor": 2
}
